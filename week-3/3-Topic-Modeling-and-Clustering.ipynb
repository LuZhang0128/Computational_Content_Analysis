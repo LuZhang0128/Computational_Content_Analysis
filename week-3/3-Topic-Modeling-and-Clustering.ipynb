{
 "cells": [
  {
   "cell_type": "markdown",
   "metadata": {},
   "source": [
    "\n",
    "# Week 3 - Discovering higher-level Patterns (Topic Modeling & Clustering)\n",
    "\n",
    "The first 2 weeks have primarily used the word count of documents as their measure, such as counting the number of \"positive\" and \"negative\" words to determine sentiment.\n",
    "\n",
    "This week, we learn a second kind of document representation in clusters or topics. First, we take a text corpus that we have developed and discovery emergent clusters through a process known as clustering or partitioning. We pilot this here both with a well-known *flat* clustering method, `kmeans`, and also a *hierarchical* approach, `Ward's (minimum variance) method`. We will demonstrate a simple (graphical) approach to identifying optimal cluster number, the sillhouette method, and evaluate the quality of unsupervised clusters on labeled data. Next, we will explore a method of two dimensional content clustering called topic modeling (e.g., words cluster in topics; topics cluster in documents). This statistical technique models and computationally induces *topics* from data, which are sparse distributions over (nonexclusive clusters of) words, from which documents can formally be described as sparse mixtures. We will explore these topics and consider their utility for understanding trends within a corpus. We will consider how to construct models that take document cluster and topic loadings as predictive features, the basis of influence metrics and dynamically over time.\n",
    "\n",
    "For this notebook we will be using the following packages:"
   ]
  },
  {
   "cell_type": "code",
   "execution_count": 1,
   "metadata": {},
   "outputs": [],
   "source": [
    "#Special module written for this class\n",
    "#This provides access to data and to helper functions from previous weeks\n",
    "#Make sure you update it before starting this notebook\n",
    "import lucem_illud #pip install -U git+git://github.com/UChicago-Computational-Content-Analysis/lucem_illud.git\n",
    "\n",
    "\n",
    "#All these packages need to be installed from pip\n",
    "#These are all for the cluster detection\n",
    "import sklearn\n",
    "import sklearn.feature_extraction.text\n",
    "import sklearn.pipeline\n",
    "import sklearn.preprocessing\n",
    "import sklearn.datasets\n",
    "import sklearn.cluster\n",
    "import sklearn.decomposition\n",
    "import sklearn.metrics\n",
    "\n",
    "import scipy #For hierarchical clustering and some visuals\n",
    "#import scipy.cluster.hierarchy\n",
    "import gensim#For topic modeling\n",
    "import requests #For downloading our datasets\n",
    "import numpy as np #for arrays\n",
    "import pandas #gives us DataFrames\n",
    "import matplotlib.pyplot as plt #For graphics\n",
    "import matplotlib.cm #Still for graphics\n",
    "import seaborn as sns #Makes the graphics look nicer\n",
    "\n",
    "#This 'magic' command makes the plots work better\n",
    "#in the notebook, don't use it outside of a notebook.\n",
    "#Also you can ignore the warning, it\n",
    "%matplotlib inline\n",
    "\n",
    "import itertools\n",
    "import json"
   ]
  },
  {
   "cell_type": "markdown",
   "metadata": {},
   "source": [
    "# Getting our corpora\n",
    "\n",
    "To begin, we will use a well known corpus of testing documents from the *20 Newsgroups corpus*, a dataset commonly used to illustrate text applications of text clustering and classification. This comes packaged with sklearn and comprises approximately 20,000 newsgroup documents, partitioned (nearly) evenly across 20 newsgroups. It was originally collected by Ken Lang, probably for his 1995 *Newsweeder: Learning to filter netnews* paper. The data is organized into 20 distinct newsgroups, each corresponding to a different topic. Some of the newsgroups are very closely related (e.g. comp.sys.ibm.pc.hardware / comp.sys.mac.hardware), while others are unrelated (e.g misc.forsale / soc.religion.christian). "
   ]
  },
  {
   "cell_type": "code",
   "execution_count": null,
   "metadata": {},
   "outputs": [],
   "source": [
    "newsgroups = sklearn.datasets.fetch_20newsgroups(subset='train', data_home = '../data/scikit_learn_data')\n",
    "print(dir(newsgroups))"
   ]
  },
  {
   "cell_type": "markdown",
   "metadata": {},
   "source": [
    "We can ascertain the categories with `target_names` or the actual files with `filenames`"
   ]
  },
  {
   "cell_type": "code",
   "execution_count": null,
   "metadata": {},
   "outputs": [],
   "source": [
    "print(newsgroups.target_names)\n",
    "print(len(newsgroups.data))"
   ]
  },
  {
   "cell_type": "markdown",
   "metadata": {},
   "source": [
    "We will start by converting the provided data into pandas DataFrames.\n",
    "\n",
    "First we reduce our dataset for this analysis by dropping some extraneous information and converting it into a DataFrame."
   ]
  },
  {
   "cell_type": "code",
   "execution_count": null,
   "metadata": {},
   "outputs": [],
   "source": [
    "newsgroupsCategories = ['comp.sys.mac.hardware', 'comp.windows.x', 'misc.forsale', 'rec.autos']\n",
    "\n",
    "newsgroupsDF = pandas.DataFrame(columns = ['text', 'category', 'source_file'])\n",
    "\n",
    "for category in newsgroupsCategories:\n",
    "    print(\"Fetching data for: {}\".format(category))\n",
    "    ng = sklearn.datasets.fetch_20newsgroups(subset='train', categories = [category], remove=['headers', 'footers', 'quotes'], data_home = '../data/scikit_learn_data/')\n",
    "    newsgroupsDF = newsgroupsDF.append(pandas.DataFrame({'text' : ng.data, 'category' : [category] * len(ng.data), 'source_file' : ng.filenames}), ignore_index=True)\n",
    "\n",
    "#Creating an explicit index column for later\n",
    "\n",
    "#newsgroupsDF['index'] = range(len(newsgroupsDF))\n",
    "#newsgroupsDF.set_index('index', inplace = True)\n",
    "print(len(newsgroupsDF))\n",
    "newsgroupsDF[:10]"
   ]
  },
  {
   "cell_type": "markdown",
   "metadata": {},
   "source": [
    "Next, we can convert the documents into word count vectors (e.g., *soc.religion.christian message a* might contain 3 mentions of \"church\", 2 of \"jesus\", 1 of \"religion\", etc., yielding a CountVector=[3,2,1,...])"
   ]
  },
  {
   "cell_type": "code",
   "execution_count": null,
   "metadata": {},
   "outputs": [],
   "source": [
    "#First it needs to be initialized\n",
    "ngCountVectorizer = sklearn.feature_extraction.text.CountVectorizer()\n",
    "#Then trained\n",
    "newsgroupsVects = ngCountVectorizer.fit_transform(newsgroupsDF['text'])\n",
    "print(newsgroupsVects.shape)"
   ]
  },
  {
   "cell_type": "markdown",
   "metadata": {},
   "source": [
    "I'm pretty sure that you're very familiar with the cell above now, but let's go through the concepts again. \n",
    "\n",
    "What do we want to do here? We want to do vectorization, i.e., converting texts into numerical features (vectors) as required by machine learning algorithms. And this is what feature_extraction module does: to extract features from texts in a format as required by ML algorithms. feature_extraction module has four classes: CountVectorizer, DictVectorizer, TfidfVectorizer, and FeatureHasher. Here, we use CountVectorizer, but we'll also use TfidfVectorizer as well below.\n",
    "\n",
    "There are various strategies by which we extract features. Here, we use CountVectorizer, and, in particular, we use 'Bag of Words' representation. In other words, the features we hope to extract from the texts are each individual token occurrence frequency. We simply count the the occurrence of each token in each document. So, here, we get a document-term-matrix, in which documents are characterized by the occurrences of tokens. Other forms of features, such as the relative position information of words, are ignored. We'll see other types of representations and strategies as well soon, such as N-gram (by the way, we can do n-gram with CountVectorizer. CountVectorizer class takes a set of parameters, such as analyzer, which you can specify the n-gram). \n",
    "\n",
    "the first line of the cell above instantiate a class, CountVectorizer(). In other words, you created an instance, or realization of a class. What is a class and what does instantiation mean? That's a long story, maybe for next time."
   ]
  },
  {
   "cell_type": "markdown",
   "metadata": {},
   "source": [
    "This gives us a matrix with row a document and each column a word. The matrix is mostly zeros, so we store it as a sparse matrix, a data structure that contains and indexes only the nonzero entries."
   ]
  },
  {
   "cell_type": "code",
   "execution_count": null,
   "metadata": {},
   "outputs": [],
   "source": [
    "newsgroupsVects"
   ]
  },
  {
   "cell_type": "markdown",
   "metadata": {},
   "source": [
    "We can use the normal operations on this sparse matrix or convert it to normal matrix (not recommended for large sparse matrices :-)"
   ]
  },
  {
   "cell_type": "code",
   "execution_count": null,
   "metadata": {},
   "outputs": [],
   "source": [
    "newsgroupsVects[:10,:20].toarray()"
   ]
  },
  {
   "cell_type": "markdown",
   "metadata": {},
   "source": [
    "What is the toarray() function here? It's similar to todense()--todense() and toarray() both returns a dense representation of a matrix; however, todense() returns a matrix representation while toarray() returns a ndarray representation."
   ]
  },
  {
   "cell_type": "markdown",
   "metadata": {},
   "source": [
    "We can also lookup the indices of different words using the Vectorizer"
   ]
  },
  {
   "cell_type": "code",
   "execution_count": null,
   "metadata": {
    "scrolled": true
   },
   "outputs": [],
   "source": [
    "ngCountVectorizer.vocabulary_.get('vector')"
   ]
  },
  {
   "cell_type": "markdown",
   "metadata": {},
   "source": [
    "There are some more interesting things to do...\n",
    "\n",
    "Lets start with [term frequency–inverse document frequency](http://scikit-learn.org/stable/modules/generated/sklearn.feature_extraction.text.TfidfTransformer.html)(tf-idf), a method for weighting document-distinguishing words."
   ]
  },
  {
   "cell_type": "code",
   "execution_count": null,
   "metadata": {},
   "outputs": [],
   "source": [
    "#initialize\n",
    "newsgroupsTFTransformer = sklearn.feature_extraction.text.TfidfTransformer().fit(newsgroupsVects)\n",
    "#train\n",
    "newsgroupsTF = newsgroupsTFTransformer.transform(newsgroupsVects)\n",
    "print(newsgroupsTF.shape)"
   ]
  },
  {
   "cell_type": "markdown",
   "metadata": {},
   "source": [
    "This gives us the tf-idf for each word in each text"
   ]
  },
  {
   "cell_type": "code",
   "execution_count": null,
   "metadata": {
    "scrolled": true
   },
   "outputs": [],
   "source": [
    "list(zip(ngCountVectorizer.vocabulary_.keys(), newsgroupsTF.data))[:20]"
   ]
  },
  {
   "cell_type": "markdown",
   "metadata": {},
   "source": [
    "Let's see what we're doing here. First, you need to know what vocabulary\\_ does. vocabulary\\_ is an attribute of the CountVectorizer, which gives you a mapping of terms to feature indices. It gives you all the terms and their feature indices, so it's a dictionary. So, by doing \"ngCountVectorizer.vocabulary\\_.keys()\", we get the keys of the dictionary, which are the terms. "
   ]
  },
  {
   "cell_type": "markdown",
   "metadata": {},
   "source": [
    "At first glance, there appears to be a lot of garbage littering this unordered list with unique words and stopwords. Note, however, that words like *apple*, *rgb*, and *voltage* distinguish this newsgroup document, while stopwords post a much lower weight. Note that we could filter out stop words, stem and lem our data before vectorizering, or we can instead use tf-idf to filter our data (or **both**). For exact explanation of all options look [here](http://scikit-learn.org/stable/modules/generated/sklearn.feature_extraction.text.TfidfVectorizer.html). To prune this matrix of features, we now limit our word vector to 1000 words with at least 3 occurrences, which do not occur in more than half of the documents. There is an extensive science and art to feature engineering for machine learning applications like clustering."
   ]
  },
  {
   "cell_type": "code",
   "execution_count": null,
   "metadata": {},
   "outputs": [],
   "source": [
    "#initialize\n",
    "ngTFVectorizer = sklearn.feature_extraction.text.TfidfVectorizer(max_df=0.5, max_features=1000, min_df=3, stop_words='english', norm='l2')\n",
    "#train\n",
    "newsgroupsTFVects = ngTFVectorizer.fit_transform(newsgroupsDF['text'])"
   ]
  },
  {
   "cell_type": "markdown",
   "metadata": {},
   "source": [
    "Lets look at the matrix"
   ]
  },
  {
   "cell_type": "code",
   "execution_count": null,
   "metadata": {},
   "outputs": [],
   "source": [
    "newsgroupsDF['text']"
   ]
  },
  {
   "cell_type": "markdown",
   "metadata": {},
   "source": [
    "The matrix is much smaller now, only 1000 words, but the same number of documents\n",
    "\n",
    "We can still look at the words:"
   ]
  },
  {
   "cell_type": "code",
   "execution_count": null,
   "metadata": {},
   "outputs": [],
   "source": [
    "try:\n",
    "    print(ngTFVectorizer.vocabulary_['vector'])\n",
    "except KeyError:\n",
    "    print('vector is missing')\n",
    "    print('The available words are: {} ...'.format(list(ngTFVectorizer.vocabulary_.keys())[:10]))"
   ]
  },
  {
   "cell_type": "markdown",
   "metadata": {},
   "source": [
    "This is a reasonable matrix of features with which to begin identifying clusters."
   ]
  },
  {
   "cell_type": "markdown",
   "metadata": {},
   "source": [
    "# Flat Clustering with $K$-means\n",
    "\n",
    "Lets start with $k$-means, an approach that begins with random clusters of predefined number, then iterates cluster reassignment and evaluates the new clusters relative to an objective function, recursively.\n",
    "\n",
    "To do this we will need to know how many clusters we are looking for. Here the *true number* of clusters is 4. Of course, in most cases you would not know the number in advance."
   ]
  },
  {
   "cell_type": "code",
   "execution_count": null,
   "metadata": {},
   "outputs": [],
   "source": [
    "numClusters = len(set(newsgroupsDF['category']))\n",
    "numClusters"
   ]
  },
  {
   "cell_type": "markdown",
   "metadata": {},
   "source": [
    "Then we can initialize our cluster finder"
   ]
  },
  {
   "cell_type": "code",
   "execution_count": null,
   "metadata": {},
   "outputs": [],
   "source": [
    "#k-means++ is a better way of finding the starting points\n",
    "#We could also try providing our own\n",
    "km = sklearn.cluster.KMeans(n_clusters=numClusters, init='k-means++')"
   ]
  },
  {
   "cell_type": "markdown",
   "metadata": {},
   "source": [
    "And now we can calculate the clusters"
   ]
  },
  {
   "cell_type": "code",
   "execution_count": null,
   "metadata": {},
   "outputs": [],
   "source": [
    "km.fit(newsgroupsTFVects)"
   ]
  },
  {
   "cell_type": "markdown",
   "metadata": {},
   "source": [
    "Once we have the clusters, we can evaluate them with a variety of metrics that sklearn provides. We will look at a few, including *Homogeneity*, *Completeness*, *V-measure* and *Adjusted Rand Score*. \n",
    "\n",
    "*Homogeneity* is a measure that grows (from 0 to 1) to the degree that all of its clusters contain only data points which are members of a single class (e.g., newsgroup). \n",
    "\n",
    "*Completeness* is *Homogeneity's* converse: a measure that grows (0 to 1) to the degree that all data points of a given class are also elements of the same cluster.\n",
    "\n",
    "The *V-measure* is the harmonic mean of *Homogeniety* and *Completeness* ($v = 2 * (homogeneity * completeness) / (homogeneity + completeness$).\n",
    "\n",
    "the *Adjusted Rand Score* is built atop the *Rand Index (RI)*, which computes the similarity between two clusterings by considering all pairs of samples and counting pairs assigned in the same or different clusters in the predicted and true clusterings (e.g., actual newsgroups). The *RI* is then adjusted for chance as follows:\n",
    "$ARI = (RI - RI_{expected}) / (max(RI) - RI_{expected})$.\n",
    "The Adjusted Rand Index is thus ensured to have a value close to 0.0 for random labeling independent of the number of clusters and samples, 1.0 when the clusterings are identical, and -1.0 when they are as bad (i.e., cross-cutting) as they can be."
   ]
  },
  {
   "cell_type": "code",
   "execution_count": null,
   "metadata": {},
   "outputs": [],
   "source": [
    "print(\"The available metrics are: {}\".format([s for s in dir(sklearn.metrics) if s[0] != '_']))\n",
    "print(\"For our clusters:\")\n",
    "print(\"Homogeneity: {:0.3f}\".format(sklearn.metrics.homogeneity_score(newsgroupsDF['category'], km.labels_)))\n",
    "print(\"Completeness: {:0.3f}\".format(sklearn.metrics.completeness_score(newsgroupsDF['category'], km.labels_)))\n",
    "print(\"V-measure: {:0.3f}\".format(sklearn.metrics.v_measure_score(newsgroupsDF['category'], km.labels_)))\n",
    "print(\"Adjusted Rand Score: {:0.3f}\".format(sklearn.metrics.adjusted_rand_score(newsgroupsDF['category'], km.labels_)))"
   ]
  },
  {
   "cell_type": "markdown",
   "metadata": {},
   "source": [
    "You can evaluate these for different clustering solutions ($1-N$ clusters). You can also interrogate the alignment between specific documents and their cluster assignments by adding the cluster labels to the pandas dataframe."
   ]
  },
  {
   "cell_type": "code",
   "execution_count": null,
   "metadata": {},
   "outputs": [],
   "source": [
    "newsgroupsDF['kmeans_predictions'] = km.labels_\n",
    "newsgroupsDF"
   ]
  },
  {
   "cell_type": "markdown",
   "metadata": {},
   "source": [
    "We can also look at the distinguishing features in each cluster:"
   ]
  },
  {
   "cell_type": "code",
   "execution_count": null,
   "metadata": {},
   "outputs": [],
   "source": [
    "terms = ngTFVectorizer.get_feature_names()\n",
    "print(\"Top terms per cluster:\")\n",
    "order_centroids = km.cluster_centers_.argsort()[:, ::-1]\n",
    "for i in range(numClusters):\n",
    "    print(\"Cluster %d:\" % i)\n",
    "    for ind in order_centroids[i, :10]:\n",
    "        print(' %s' % terms[ind])\n",
    "    print('\\n')"
   ]
  },
  {
   "cell_type": "markdown",
   "metadata": {},
   "source": [
    "Let's construct a visualization of the clusters. First, we will first reduce the\n",
    "dimensionality of the data using principal components analysis (PCA)."
   ]
  },
  {
   "cell_type": "code",
   "execution_count": null,
   "metadata": {},
   "outputs": [],
   "source": [
    "PCA = sklearn.decomposition.PCA\n",
    "pca = PCA(n_components = 2).fit(newsgroupsTFVects.toarray())\n",
    "reduced_data = pca.transform(newsgroupsTFVects.toarray())"
   ]
  },
  {
   "cell_type": "markdown",
   "metadata": {
    "collapsed": true
   },
   "source": [
    "The cell below is optional. It allows you to do a biplot"
   ]
  },
  {
   "cell_type": "code",
   "execution_count": null,
   "metadata": {},
   "outputs": [],
   "source": [
    "components = pca.components_\n",
    "keyword_ids = list(set(order_centroids[:,:10].flatten())) #Get the ids of the most distinguishing words(features) from your kmeans model.\n",
    "words = [terms[i] for i in keyword_ids]#Turn the ids into words.\n",
    "x = components[:,keyword_ids][0,:] #Find the coordinates of those words in your biplot.\n",
    "y = components[:,keyword_ids][1,:]"
   ]
  },
  {
   "cell_type": "markdown",
   "metadata": {},
   "source": [
    "Then, let's build a color map for the true labels."
   ]
  },
  {
   "cell_type": "code",
   "execution_count": null,
   "metadata": {},
   "outputs": [],
   "source": [
    "colordict = {\n",
    "'comp.sys.mac.hardware': 'red',\n",
    "'comp.windows.x': 'orange',\n",
    "'misc.forsale': 'green',\n",
    "'rec.autos': 'blue',\n",
    "    }\n",
    "colors = [colordict[c] for c in newsgroupsDF['category']]\n",
    "print(\"The categories' colors are:\\n{}\".format(colordict.items()))"
   ]
  },
  {
   "cell_type": "markdown",
   "metadata": {},
   "source": [
    "Let's plot the data using the true labels as the colors of our data points."
   ]
  },
  {
   "cell_type": "code",
   "execution_count": null,
   "metadata": {},
   "outputs": [],
   "source": [
    "fig = plt.figure(figsize = (10,6))\n",
    "ax = fig.add_subplot(111)\n",
    "ax.set_frame_on(False)\n",
    "ax.scatter(reduced_data[:, 0], reduced_data[:, 1], color = colors, alpha = 0.5, label = colors)\n",
    "plt.xticks(())\n",
    "plt.yticks(())\n",
    "plt.title('True Classes')\n",
    "plt.show()"
   ]
  },
  {
   "cell_type": "markdown",
   "metadata": {},
   "source": [
    "One nice thing about PCA is that we can also do a biplot and map our feature\n",
    "vectors to the same space."
   ]
  },
  {
   "cell_type": "code",
   "execution_count": null,
   "metadata": {},
   "outputs": [],
   "source": [
    "fig = plt.figure(figsize = (16,9))\n",
    "ax = fig.add_subplot(111)\n",
    "ax.set_frame_on(False)\n",
    "ax.scatter(reduced_data[:, 0], reduced_data[:, 1], color = colors, alpha = 0.3, label = colors)\n",
    "for i, word in enumerate(words):\n",
    "    ax.annotate(word, (x[i],y[i]))\n",
    "plt.xticks(())\n",
    "plt.yticks(())\n",
    "plt.title('True Classes')\n",
    "plt.show()"
   ]
  },
  {
   "cell_type": "markdown",
   "metadata": {},
   "source": [
    "Let's do it again with predicted clusters."
   ]
  },
  {
   "cell_type": "code",
   "execution_count": null,
   "metadata": {},
   "outputs": [],
   "source": [
    "colors_p = [colordict[newsgroupsCategories[l]] for l in km.labels_]"
   ]
  },
  {
   "cell_type": "code",
   "execution_count": null,
   "metadata": {},
   "outputs": [],
   "source": [
    "fig = plt.figure(figsize = (10,6))\n",
    "ax = fig.add_subplot(111)\n",
    "ax.set_frame_on(False)\n",
    "plt.scatter(reduced_data[:, 0], reduced_data[:, 1], color = colors_p, alpha = 0.5)\n",
    "plt.xticks(())\n",
    "plt.yticks(())\n",
    "plt.title('Predicted Clusters\\n k = 4')\n",
    "plt.show()"
   ]
  },
  {
   "cell_type": "markdown",
   "metadata": {},
   "source": [
    "Let's try with 3 clusters."
   ]
  },
  {
   "cell_type": "code",
   "execution_count": null,
   "metadata": {},
   "outputs": [],
   "source": [
    "km3 = sklearn.cluster.KMeans(n_clusters= 3, init='k-means++')\n",
    "km3.fit(newsgroupsTFVects.toarray())"
   ]
  },
  {
   "cell_type": "markdown",
   "metadata": {},
   "source": [
    "# Selecting Cluster Number\n",
    "\n",
    "We can select an optimal cluster number by identifying the lowest of the metrics listed above (e.g., V-measure), but often you don't have \"ground truth\" or labeled data. For identifying the \"best\" number of clusters in an unsupervised way, we demonstrate the Silhouette method. Many other methods also exist (e.g., Bayesian Information Criteria or BIC, the visual \"elbow criteria\", etc.)\n",
    "\n",
    "First we will define a helper function:"
   ]
  },
  {
   "cell_type": "code",
   "execution_count": 2,
   "metadata": {},
   "outputs": [],
   "source": [
    "def plotSilhouette(n_clusters, X):\n",
    "    fig, (ax1, ax2) = plt.subplots(ncols=2, figsize = (15,5))\n",
    "    \n",
    "    ax1.set_xlim([-0.1, 1])\n",
    "    ax1.set_ylim([0, len(X) + (n_clusters + 1) * 10])\n",
    "    clusterer = sklearn.cluster.KMeans(n_clusters=n_clusters, random_state=10)\n",
    "    cluster_labels = clusterer.fit_predict(X)\n",
    "    \n",
    "    silhouette_avg = sklearn.metrics.silhouette_score(X, cluster_labels)\n",
    "\n",
    "    # Compute the silhouette scores for each sample\n",
    "    sample_silhouette_values = sklearn.metrics.silhouette_samples(X, cluster_labels)\n",
    "\n",
    "    y_lower = 10\n",
    "    \n",
    "    for i in range(n_clusters):\n",
    "        ith_cluster_silhouette_values = sample_silhouette_values[cluster_labels == i]\n",
    "\n",
    "        ith_cluster_silhouette_values.sort()\n",
    "\n",
    "        size_cluster_i = ith_cluster_silhouette_values.shape[0]\n",
    "        y_upper = y_lower + size_cluster_i\n",
    "        cmap = matplotlib.cm.get_cmap(\"nipy_spectral\")\n",
    "        color = cmap(float(i) / n_clusters)\n",
    "        ax1.fill_betweenx(np.arange(y_lower, y_upper),\n",
    "                          0, ith_cluster_silhouette_values,\n",
    "                          facecolor=color, edgecolor=color, alpha=0.7)\n",
    "\n",
    "        ax1.text(-0.05, y_lower + 0.5 * size_cluster_i, str(i))\n",
    "\n",
    "        y_lower = y_upper + 10\n",
    "    \n",
    "    ax1.set_title(\"The silhouette plot for the various clusters.\")\n",
    "    ax1.set_xlabel(\"The silhouette coefficient values\")\n",
    "    ax1.set_ylabel(\"Cluster label\")\n",
    "\n",
    "    ax1.axvline(x=silhouette_avg, color=\"red\", linestyle=\"--\")\n",
    "\n",
    "    ax1.set_yticks([])  # Clear the yaxis labels / ticks\n",
    "    ax1.set_xticks([-0.1, 0, 0.2, 0.4, 0.6, 0.8, 1])\n",
    "\n",
    "    # 2nd Plot showing the actual clusters formed\n",
    "    cmap = matplotlib.cm.get_cmap(\"nipy_spectral\")\n",
    "    colors = cmap(float(i) / n_clusters)\n",
    "    ax2.scatter(reduced_data[:, 0], reduced_data[:, 1], marker='.', s=30, lw=0, alpha=0.7,\n",
    "                c=colors)\n",
    "\n",
    "    # Labeling the clusters\n",
    "    centers = clusterer.cluster_centers_\n",
    "    projected_centers = pca.transform(centers)\n",
    "    # Draw white circles at cluster centers\n",
    "    ax2.scatter(projected_centers[:, 0], projected_centers[:, 1],\n",
    "                marker='o', c=\"white\", alpha=1, s=200)\n",
    "\n",
    "    for i, c in enumerate(projected_centers):\n",
    "        ax2.scatter(c[0], c[1], marker='$%d$' % i, alpha=1, s=50)\n",
    "\n",
    "    ax2.set_title(\"The visualization of the clustered data.\")\n",
    "    ax2.set_xlabel(\"PC 1\")\n",
    "    ax2.set_ylabel(\"PC 2\")\n",
    "\n",
    "    plt.suptitle((\"Silhouette analysis for KMeans clustering on sample data \"\n",
    "                  \"with n_clusters = %d\" % n_clusters),\n",
    "                 fontsize=14, fontweight='bold')\n",
    "    plt.show()\n",
    "    print(\"For n_clusters = {}, The average silhouette_score is : {:.3f}\".format(n_clusters, silhouette_avg))"
   ]
  },
  {
   "cell_type": "markdown",
   "metadata": {},
   "source": [
    "Now we can examine a few different numbers of clusters:"
   ]
  },
  {
   "cell_type": "code",
   "execution_count": null,
   "metadata": {},
   "outputs": [],
   "source": [
    "X = newsgroupsTFVects.toarray()\n",
    "plotSilhouette(3, X)"
   ]
  },
  {
   "cell_type": "code",
   "execution_count": null,
   "metadata": {},
   "outputs": [],
   "source": [
    "X = newsgroupsTFVects.toarray()\n",
    "plotSilhouette(4, X)"
   ]
  },
  {
   "cell_type": "code",
   "execution_count": null,
   "metadata": {},
   "outputs": [],
   "source": [
    "X = newsgroupsTFVects.toarray()\n",
    "plotSilhouette(5, X)"
   ]
  },
  {
   "cell_type": "code",
   "execution_count": null,
   "metadata": {},
   "outputs": [],
   "source": [
    "X = newsgroupsTFVects.toarray()\n",
    "plotSilhouette(6, X)"
   ]
  },
  {
   "cell_type": "markdown",
   "metadata": {},
   "source": [
    "Interestingly, the silhouette scores above suggests that 3 is a better number of clusters than 4, which would be accurate if we (reasonsably) grouped the two computer-themed groups."
   ]
  },
  {
   "cell_type": "markdown",
   "metadata": {},
   "source": [
    "# Getting new text data\n",
    "\n",
    "Lets start by using the same function as last lesson and loading a few press releases from 10 different senators into a DataFrame. The code to do this is below, but commented out as we've already downloaded the data to the data directory."
   ]
  },
  {
   "cell_type": "code",
   "execution_count": null,
   "metadata": {},
   "outputs": [],
   "source": [
    "targetSenator = 'Kennedy'# = ['Voinovich', 'Obama', 'Whitehouse', 'Snowe', 'Rockefeller', 'Murkowski', 'McCain', 'Kyl', 'Baucus', 'Frist']\n",
    "\"\"\"\n",
    "#Uncomment this to download your own data\n",
    "senReleasesTraining = pandas.DataFrame()\n",
    "\n",
    "print(\"Fetching {}'s data\".format(targetSenator))\n",
    "targetDF = lucem_illud.getGithubFiles('https://api.github.com/repos/lintool/GrimmerSenatePressReleases/contents/raw/{}'.format(targetSenator), maxFiles = 2000)\n",
    "targetDF['targetSenator'] = targetSenator\n",
    "senReleasesTraining = senReleasesTraining.append(targetDF, ignore_index = True)\n",
    "\n",
    "#Watch out for weird lines when converting to csv\n",
    "#one of them had to be removed from the Kennedy data so it could be re-read\n",
    "senReleasesTraining.to_csv(\"data/senReleasesTraining.csv\")\n",
    "\"\"\"\n",
    "\n",
    "senReleasesTraining = pandas.read_csv(\"../data/senReleasesTraining.csv\")\n",
    "\n",
    "senReleasesTraining[:5]"
   ]
  },
  {
   "cell_type": "markdown",
   "metadata": {},
   "source": [
    "Now we have the files we can tokenize and normalize."
   ]
  },
  {
   "cell_type": "markdown",
   "metadata": {},
   "source": [
    "The normalized text is good, but we know that the texts will have a large amount of overlap so we can use tf-idf to remove some of the most frequent words. Before doing that, there is one empty cell, let's remove that."
   ]
  },
  {
   "cell_type": "code",
   "execution_count": null,
   "metadata": {},
   "outputs": [],
   "source": [
    "senReleasesTraining = senReleasesTraining.dropna(axis=0, how='any')"
   ]
  },
  {
   "cell_type": "code",
   "execution_count": null,
   "metadata": {},
   "outputs": [],
   "source": [
    "#Similar parameters to before, but stricter max df and no max num occurrences\n",
    "senTFVectorizer = sklearn.feature_extraction.text.TfidfVectorizer(max_df=100, min_df=2, stop_words='english', norm='l2')\n",
    "senTFVects = senTFVectorizer.fit_transform(senReleasesTraining['text'])\n",
    "senTFVectorizer.vocabulary_.get('senat', 'Missing \"Senate\"')"
   ]
  },
  {
   "cell_type": "markdown",
   "metadata": {},
   "source": [
    "# Clustering with our new data\n",
    "\n",
    "One nice thing about using DataFrames for everything is that we can quickly convert code from one input to another. Below we are redoing the cluster detection with our senate data. If you setup your DataFrame the same way it should be able to run on this code, without much work.\n",
    "\n",
    "First we will define what we will be working with"
   ]
  },
  {
   "cell_type": "code",
   "execution_count": null,
   "metadata": {},
   "outputs": [],
   "source": [
    "targetDF = senReleasesTraining\n",
    "textColumn = 'text'\n",
    "numCategories = 3"
   ]
  },
  {
   "cell_type": "markdown",
   "metadata": {},
   "source": [
    "Tf-IDf vectorizing"
   ]
  },
  {
   "cell_type": "code",
   "execution_count": null,
   "metadata": {},
   "outputs": [],
   "source": [
    "exampleTFVectorizer = sklearn.feature_extraction.text.TfidfVectorizer(max_df=0.5, max_features=1000, min_df=3, stop_words='english', norm='l2')\n",
    "#train\n",
    "exampleTFVects = ngTFVectorizer.fit_transform(targetDF[textColumn])"
   ]
  },
  {
   "cell_type": "markdown",
   "metadata": {},
   "source": [
    "Running k means"
   ]
  },
  {
   "cell_type": "code",
   "execution_count": null,
   "metadata": {},
   "outputs": [],
   "source": [
    "exampleKM = sklearn.cluster.KMeans(n_clusters = numCategories, init='k-means++')\n",
    "exampleKM.fit(exampleTFVects)"
   ]
  },
  {
   "cell_type": "markdown",
   "metadata": {},
   "source": [
    "And visualize:"
   ]
  },
  {
   "cell_type": "code",
   "execution_count": null,
   "metadata": {},
   "outputs": [],
   "source": [
    "examplePCA = sklearn.decomposition.PCA(n_components = 2).fit(exampleTFVects.toarray())\n",
    "reducedPCA_data = examplePCA.transform(exampleTFVects.toarray())\n",
    "\n",
    "colors = list(plt.cm.rainbow(np.linspace(0,1, numCategories)))\n",
    "colors_p = [colors[l] for l in exampleKM.labels_]"
   ]
  },
  {
   "cell_type": "code",
   "execution_count": null,
   "metadata": {},
   "outputs": [],
   "source": [
    "fig = plt.figure(1)\n",
    "ax = fig.add_subplot(111)\n",
    "ax.set_frame_on(False)\n",
    "plt.scatter(reducedPCA_data[:, 0], reducedPCA_data[:, 1], color = colors_p, alpha = 0.5)\n",
    "plt.xticks(())\n",
    "plt.yticks(())\n",
    "plt.title('Predicted Clusters\\n k = {}'.format(numCategories))\n",
    "plt.show()"
   ]
  },
  {
   "cell_type": "markdown",
   "metadata": {},
   "source": [
    "In this case, there may be two clusters that could be identified with Silhouette analysis or some of the metrics described above; although not having true classes makes that tricky. Below, we add these cluster assignments to the dataframe for individual perusal and evaluation."
   ]
  },
  {
   "cell_type": "code",
   "execution_count": null,
   "metadata": {},
   "outputs": [],
   "source": [
    "targetDF['kmeans_predictions'] = exampleKM.labels_\n",
    "targetDF"
   ]
  },
  {
   "cell_type": "markdown",
   "metadata": {},
   "source": [
    "## <font color=\"red\">*Exercise 1*</font>\n",
    "\n",
    "<font color=\"red\">Construct cells immediately below this that construct features and cluster your documents using K-means and a variety of cluster numbers. Interrogate the cluster contents in terms of both documents and features. Identify the \"optimal\" cluster number with Silhouette analysis. Plot clusters and features after reducing with PCA. What does this cluster structure reveal about the organization of documents in your corpora? "
   ]
  },
  {
   "cell_type": "code",
   "execution_count": 3,
   "metadata": {},
   "outputs": [
    {
     "data": {
      "text/html": [
       "<div>\n",
       "<style scoped>\n",
       "    .dataframe tbody tr th:only-of-type {\n",
       "        vertical-align: middle;\n",
       "    }\n",
       "\n",
       "    .dataframe tbody tr th {\n",
       "        vertical-align: top;\n",
       "    }\n",
       "\n",
       "    .dataframe thead th {\n",
       "        text-align: right;\n",
       "    }\n",
       "</style>\n",
       "<table border=\"1\" class=\"dataframe\">\n",
       "  <thead>\n",
       "    <tr style=\"text-align: right;\">\n",
       "      <th></th>\n",
       "      <th>president</th>\n",
       "      <th>year</th>\n",
       "      <th>text</th>\n",
       "    </tr>\n",
       "  </thead>\n",
       "  <tbody>\n",
       "    <tr>\n",
       "      <th>0</th>\n",
       "      <td>Reagan</td>\n",
       "      <td>1982</td>\n",
       "      <td>Mr. Speaker, Mr. President, distinguished Memb...</td>\n",
       "    </tr>\n",
       "    <tr>\n",
       "      <th>1</th>\n",
       "      <td>Roosevelt</td>\n",
       "      <td>1902</td>\n",
       "      <td>To the Senate and House of Representatives:\\n\\...</td>\n",
       "    </tr>\n",
       "    <tr>\n",
       "      <th>2</th>\n",
       "      <td>Wilson</td>\n",
       "      <td>1914</td>\n",
       "      <td>GENTLEMEN OF THE CONGRESS:\\n\\nThe session upon...</td>\n",
       "    </tr>\n",
       "    <tr>\n",
       "      <th>3</th>\n",
       "      <td>Taft</td>\n",
       "      <td>1911</td>\n",
       "      <td>PART I\\n\\nThis message is the first of several...</td>\n",
       "    </tr>\n",
       "    <tr>\n",
       "      <th>4</th>\n",
       "      <td>Madison</td>\n",
       "      <td>1814</td>\n",
       "      <td>Fellow-Citizens of the Senate and House of Rep...</td>\n",
       "    </tr>\n",
       "    <tr>\n",
       "      <th>...</th>\n",
       "      <td>...</td>\n",
       "      <td>...</td>\n",
       "      <td>...</td>\n",
       "    </tr>\n",
       "    <tr>\n",
       "      <th>223</th>\n",
       "      <td>Polk</td>\n",
       "      <td>1845</td>\n",
       "      <td>Fellow-Citizens of the Senate and of the House...</td>\n",
       "    </tr>\n",
       "    <tr>\n",
       "      <th>224</th>\n",
       "      <td>Arthur</td>\n",
       "      <td>1881</td>\n",
       "      <td>To the Senate and House of Representatives of ...</td>\n",
       "    </tr>\n",
       "    <tr>\n",
       "      <th>225</th>\n",
       "      <td>Wilson</td>\n",
       "      <td>1919</td>\n",
       "      <td>TO THE SENATE AND HOUSE OF REPRESENTATIVES:\\n\\...</td>\n",
       "    </tr>\n",
       "    <tr>\n",
       "      <th>226</th>\n",
       "      <td>Carter</td>\n",
       "      <td>1979</td>\n",
       "      <td>Tonight I want to examine in a broad sense the...</td>\n",
       "    </tr>\n",
       "    <tr>\n",
       "      <th>227</th>\n",
       "      <td>Bush</td>\n",
       "      <td>2001</td>\n",
       "      <td>To the Congress of the United States:\\n\\nMr. S...</td>\n",
       "    </tr>\n",
       "  </tbody>\n",
       "</table>\n",
       "<p>228 rows × 3 columns</p>\n",
       "</div>"
      ],
      "text/plain": [
       "     president  year                                               text\n",
       "0       Reagan  1982  Mr. Speaker, Mr. President, distinguished Memb...\n",
       "1    Roosevelt  1902  To the Senate and House of Representatives:\\n\\...\n",
       "2       Wilson  1914  GENTLEMEN OF THE CONGRESS:\\n\\nThe session upon...\n",
       "3         Taft  1911  PART I\\n\\nThis message is the first of several...\n",
       "4      Madison  1814  Fellow-Citizens of the Senate and House of Rep...\n",
       "..         ...   ...                                                ...\n",
       "223       Polk  1845  Fellow-Citizens of the Senate and of the House...\n",
       "224     Arthur  1881  To the Senate and House of Representatives of ...\n",
       "225     Wilson  1919  TO THE SENATE AND HOUSE OF REPRESENTATIVES:\\n\\...\n",
       "226     Carter  1979  Tonight I want to examine in a broad sense the...\n",
       "227       Bush  2001  To the Congress of the United States:\\n\\nMr. S...\n",
       "\n",
       "[228 rows x 3 columns]"
      ]
     },
     "execution_count": 3,
     "metadata": {},
     "output_type": "execute_result"
    }
   ],
   "source": [
    "# import data and put it into pandas dataframe\n",
    "# please make sure that if you want to re-run the code, you need to change directory to your local directory where you put the dataset\n",
    "import os\n",
    "dir = '/Users/luzhang/Documents/GitHub/Computational_Content_Analysis/week-3/sotu'\n",
    "os.chdir(dir)\n",
    "\n",
    "name = []\n",
    "year = []\n",
    "text = []\n",
    "\n",
    "def read_text_file(file_path):\n",
    "    with open(file_path, 'r') as f:\n",
    "        text.append(f.read())\n",
    "\n",
    "for file in os.listdir(dir):\n",
    "    if file.endswith(\".txt\"):\n",
    "        file_path = f\"{dir}/{file}\"\n",
    "        file = f'{file[:-4].strip()}'\n",
    "        # print(file)\n",
    "        name.append(file[:-5])\n",
    "        year.append(file[-4:])\n",
    "        read_text_file(file_path)\n",
    "\n",
    "data = ({'president': name,\n",
    "         'year': year,\n",
    "         'text': text})       \n",
    "\n",
    "df = pandas.DataFrame(data)\n",
    "df"
   ]
  },
  {
   "cell_type": "code",
   "execution_count": 4,
   "metadata": {},
   "outputs": [],
   "source": [
    "# get vector\n",
    "sotuTFVectorizer = sklearn.feature_extraction.text.TfidfVectorizer(max_df=0.5, max_features=1000, min_df=3, stop_words='english', norm='l2')\n",
    "sotuTFVects = sotuTFVectorizer.fit_transform(df['text'])"
   ]
  },
  {
   "cell_type": "code",
   "execution_count": 5,
   "metadata": {},
   "outputs": [],
   "source": [
    "# PCA\n",
    "PCA = sklearn.decomposition.PCA\n",
    "pca = PCA(n_components = 2).fit(sotuTFVects.toarray())\n",
    "reduced_data = pca.transform(sotuTFVects.toarray())"
   ]
  },
  {
   "cell_type": "code",
   "execution_count": 6,
   "metadata": {},
   "outputs": [
    {
     "name": "stderr",
     "output_type": "stream",
     "text": [
      "*c* argument looks like a single numeric RGB or RGBA sequence, which should be avoided as value-mapping will have precedence in case its length matches with *x* & *y*.  Please use the *color* keyword-argument or provide a 2D array with a single row if you intend to specify the same RGB or RGBA value for all points.\n"
     ]
    },
    {
     "data": {
      "image/png": "[encoded data removed]",
      "text/plain": [
       "<Figure size 1080x360 with 2 Axes>"
      ]
     },
     "metadata": {
      "needs_background": "light"
     },
     "output_type": "display_data"
    },
    {
     "name": "stdout",
     "output_type": "stream",
     "text": [
      "For n_clusters = 2, The average silhouette_score is : 0.124\n"
     ]
    }
   ],
   "source": [
    "# find the optimal number of cluster by Silhouette method\n",
    "X = sotuTFVects.toarray()\n",
    "plotSilhouette(2, X)"
   ]
  },
  {
   "cell_type": "code",
   "execution_count": 7,
   "metadata": {},
   "outputs": [
    {
     "name": "stderr",
     "output_type": "stream",
     "text": [
      "*c* argument looks like a single numeric RGB or RGBA sequence, which should be avoided as value-mapping will have precedence in case its length matches with *x* & *y*.  Please use the *color* keyword-argument or provide a 2D array with a single row if you intend to specify the same RGB or RGBA value for all points.\n"
     ]
    },
    {
     "data": {
      "image/png": "[encoded data removed]",
      "text/plain": [
       "<Figure size 1080x360 with 2 Axes>"
      ]
     },
     "metadata": {
      "needs_background": "light"
     },
     "output_type": "display_data"
    },
    {
     "name": "stdout",
     "output_type": "stream",
     "text": [
      "For n_clusters = 3, The average silhouette_score is : 0.094\n"
     ]
    }
   ],
   "source": [
    "plotSilhouette(3, X)"
   ]
  },
  {
   "cell_type": "code",
   "execution_count": 8,
   "metadata": {},
   "outputs": [
    {
     "name": "stderr",
     "output_type": "stream",
     "text": [
      "*c* argument looks like a single numeric RGB or RGBA sequence, which should be avoided as value-mapping will have precedence in case its length matches with *x* & *y*.  Please use the *color* keyword-argument or provide a 2D array with a single row if you intend to specify the same RGB or RGBA value for all points.\n"
     ]
    },
    {
     "data": {
      "image/png": "[encoded data removed]",
      "text/plain": [
       "<Figure size 1080x360 with 2 Axes>"
      ]
     },
     "metadata": {
      "needs_background": "light"
     },
     "output_type": "display_data"
    },
    {
     "name": "stdout",
     "output_type": "stream",
     "text": [
      "For n_clusters = 4, The average silhouette_score is : 0.071\n"
     ]
    }
   ],
   "source": [
    "plotSilhouette(4, X)"
   ]
  },
  {
   "cell_type": "code",
   "execution_count": 9,
   "metadata": {},
   "outputs": [
    {
     "name": "stderr",
     "output_type": "stream",
     "text": [
      "*c* argument looks like a single numeric RGB or RGBA sequence, which should be avoided as value-mapping will have precedence in case its length matches with *x* & *y*.  Please use the *color* keyword-argument or provide a 2D array with a single row if you intend to specify the same RGB or RGBA value for all points.\n"
     ]
    },
    {
     "data": {
      "image/png": "[encoded data removed]",
      "text/plain": [
       "<Figure size 1080x360 with 2 Axes>"
      ]
     },
     "metadata": {
      "needs_background": "light"
     },
     "output_type": "display_data"
    },
    {
     "name": "stdout",
     "output_type": "stream",
     "text": [
      "For n_clusters = 5, The average silhouette_score is : 0.065\n"
     ]
    }
   ],
   "source": [
    "plotSilhouette(5, X)"
   ]
  },
  {
   "cell_type": "markdown",
   "metadata": {},
   "source": [
    "We can see that as number of cluster increases, the silhouettee score decreases. According to the different silhouettee scores, we choose the number of clusters = 2 to be the optimal number of clusters.\n",
    "\n",
    "From this, we want to analyze distinguish features in each cluster."
   ]
  },
  {
   "cell_type": "code",
   "execution_count": 10,
   "metadata": {},
   "outputs": [],
   "source": [
    "# fit in kmeans when number of cluster is 2\n",
    "km = sklearn.cluster.KMeans(n_clusters=2, init='k-means++')\n",
    "km.fit(sotuTFVects)\n",
    "\n",
    "# put assigned cluster labels to dataframe\n",
    "df['kmeans_predictions'] = km.labels_"
   ]
  },
  {
   "cell_type": "code",
   "execution_count": 11,
   "metadata": {},
   "outputs": [
    {
     "name": "stdout",
     "output_type": "stream",
     "text": [
      "Top terms per cluster:\n",
      "Cluster 0:\n",
      " mexico\n",
      " british\n",
      " spain\n",
      " convention\n",
      " intercourse\n",
      " minister\n",
      " indians\n",
      " object\n",
      " cent\n",
      " objects\n",
      "\n",
      "\n",
      "Cluster 1:\n",
      " americans\n",
      " tonight\n",
      " help\n",
      " program\n",
      " today\n",
      " jobs\n",
      " ve\n",
      " budget\n",
      " programs\n",
      " billion\n",
      "\n",
      "\n"
     ]
    }
   ],
   "source": [
    "# print top features in each group\n",
    "terms = sotuTFVectorizer.get_feature_names()\n",
    "numClusters = 2\n",
    "print(\"Top terms per cluster:\")\n",
    "order_centroids = km.cluster_centers_.argsort()[:, ::-1]\n",
    "for i in range(numClusters):\n",
    "    print(\"Cluster %d:\" % i)\n",
    "    for ind in order_centroids[i, :10]:\n",
    "        print(' %s' % terms[ind])\n",
    "    print('\\n')"
   ]
  },
  {
   "cell_type": "markdown",
   "metadata": {},
   "source": [
    "We then want to plot the cluster and features:"
   ]
  },
  {
   "cell_type": "code",
   "execution_count": 12,
   "metadata": {
    "scrolled": true
   },
   "outputs": [
    {
     "data": {
      "image/png": "[encoded data removed]",
      "text/plain": [
       "<Figure size 432x288 with 1 Axes>"
      ]
     },
     "metadata": {},
     "output_type": "display_data"
    }
   ],
   "source": [
    "# component\n",
    "components = pca.components_\n",
    "keyword_ids = list(set(order_centroids[:,:10].flatten())) #Get the ids of the most distinguishing words(features) from your kmeans model.\n",
    "words = [terms[i] for i in keyword_ids]#Turn the ids into words.\n",
    "x = components[:,keyword_ids][0,:] #Find the coordinates of those words in your biplot.\n",
    "y = components[:,keyword_ids][1,:]\n",
    "\n",
    "colors = list(plt.cm.rainbow(np.linspace(0,1, 2)))\n",
    "colors_p = [colors[l] for l in km.labels_]\n",
    "\n",
    "fig = plt.figure(1)\n",
    "ax = fig.add_subplot(111)\n",
    "ax.set_frame_on(False)\n",
    "plt.scatter(reduced_data[:, 0], reduced_data[:, 1], color = colors_p, alpha = 0.3, label = colors)\n",
    "for i, word in enumerate(words):\n",
    "    ax.annotate(word, (x[i],y[i]))\n",
    "plt.xticks(())\n",
    "plt.yticks(())\n",
    "plt.title('Predicted Clusters\\n k = {}'.format(numClusters))\n",
    "plt.show()"
   ]
  },
  {
   "cell_type": "markdown",
   "metadata": {},
   "source": [
    "We can see from the result that cluster 1 is probably about international affairs and intercourse. There are words like \"mexico,\" \"british,\" \"spain,\" and \"indians.\" The president is focusing on international events instead of domestic in those years. \n",
    "\n",
    "Cluster 0, however, is more about domestic affairs. We can infer from words like \"americans,\" \"program(s),\" \"budget,\" and \"billion\" that the president in those years focused more on US's economy and the well-being of the public.\n"
   ]
  },
  {
   "cell_type": "markdown",
   "metadata": {},
   "source": [
    "# Hierarchical Clustering with Wald's Method\n",
    "\n",
    "Next we approach a hierchical clustering method, which proposes nested clusters at any resolution (at the finest resolution, every document is its own cluster).\n",
    "\n",
    "Here we must begin by calculating how similar the documents are to one another.\n",
    "\n",
    "As a first pass, we take our matrix of word counts per document\n",
    "`newsgroupsTFVects` and create a word occurrence matrix measuring how similar\n",
    "the documents are to each other based on their number of shared words. (Note one could perform the converse operation, a document occurrence matrix measuring how similar  words are to each other based on their number of collocated documents)."
   ]
  },
  {
   "cell_type": "code",
   "execution_count": null,
   "metadata": {},
   "outputs": [],
   "source": [
    "newsgroupsTFVects"
   ]
  },
  {
   "cell_type": "code",
   "execution_count": null,
   "metadata": {},
   "outputs": [],
   "source": [
    "newsgroupsTFVects[:100].todense()"
   ]
  },
  {
   "cell_type": "code",
   "execution_count": null,
   "metadata": {},
   "outputs": [],
   "source": [
    "newsgroupsCoocMat = newsgroupsTFVects * newsgroupsTFVects.T\n",
    "#set the diagonal to 0 since we don't care how similar texts are to themselves\n",
    "newsgroupsCoocMat.setdiag(0)\n",
    "#Another way of relating the texts is with their cosine similarity\n",
    "#newsgroupsCosinMat1 = 1 - sklearn.metrics.pairwise.cosine_similarity(newsgroupsTFVects)\n",
    "#But generally word occurrence is more accurate\n"
   ]
  },
  {
   "cell_type": "markdown",
   "metadata": {},
   "source": [
    "Now we can compute a tree of nested clusters. Here we will only look at the first 50 texts of each class because drawing the dendrograms can be computationally intensive (and visually complex)."
   ]
  },
  {
   "cell_type": "code",
   "execution_count": null,
   "metadata": {},
   "outputs": [],
   "source": [
    "selectIndices = []\n",
    "indexToCat = []\n",
    "for c in set(newsgroupsDF['category']):\n",
    "    selectIndices += list(newsgroupsDF[newsgroupsDF['category'] == c].index)[:50]\n",
    "    indexToCat += [c] * 50\n",
    "    #.groupby('category').sum()"
   ]
  },
  {
   "cell_type": "code",
   "execution_count": null,
   "metadata": {},
   "outputs": [],
   "source": [
    "subCoocMat = newsgroupsCoocMat[selectIndices,:][:,selectIndices]"
   ]
  },
  {
   "cell_type": "code",
   "execution_count": null,
   "metadata": {},
   "outputs": [],
   "source": [
    "linkage_matrix = scipy.cluster.hierarchy.ward(subCoocMat.toarray())\n",
    "linkage_matrix[:10]"
   ]
  },
  {
   "cell_type": "markdown",
   "metadata": {},
   "source": [
    "Now we can visualize the tree"
   ]
  },
  {
   "cell_type": "code",
   "execution_count": null,
   "metadata": {},
   "outputs": [],
   "source": [
    "dendDat = scipy.cluster.hierarchy.dendrogram(linkage_matrix, get_leaves=True)"
   ]
  },
  {
   "cell_type": "markdown",
   "metadata": {},
   "source": [
    "This plot may seem somewhat unwieldy. To make it easier to read, we can cut the tree after a number of branchings."
   ]
  },
  {
   "cell_type": "code",
   "execution_count": null,
   "metadata": {},
   "outputs": [],
   "source": [
    "dendrogramDat = scipy.cluster.hierarchy.dendrogram(linkage_matrix, p=4, truncate_mode='level', get_leaves=True)"
   ]
  },
  {
   "cell_type": "markdown",
   "metadata": {},
   "source": [
    "By default, the tree is colored to show the clusters based on their ['distance'](https://docs.scipy.org/doc/scipy-0.18.1/reference/generated/scipy.cluster.hierarchy.dendrogram.html#scipy.cluster.hierarchy.dendrogram) from one another, but there are other ways of forming hierarchical clusters.\n",
    "\n",
    "Another approach involves cutting the tree into `n` branches. We can do this with [`fcluster()`](https://docs.scipy.org/doc/scipy/reference/generated/scipy.cluster.hierarchy.fcluster.html#scipy.cluster.hierarchy.fcluster). Lets break the tree into 4 clusters. When we do this with all of the data in the dataframe, as below, we can add those clusters back for detailed evaluation."
   ]
  },
  {
   "cell_type": "code",
   "execution_count": null,
   "metadata": {},
   "outputs": [],
   "source": [
    "hierarchicalClusters = scipy.cluster.hierarchy.fcluster(linkage_matrix, 4, 'maxclust')\n",
    "hierarchicalClusters"
   ]
  },
  {
   "cell_type": "markdown",
   "metadata": {},
   "source": [
    "We can use this *get clusters* like we did with k-means. What if we do the full data set?"
   ]
  },
  {
   "cell_type": "code",
   "execution_count": null,
   "metadata": {},
   "outputs": [],
   "source": [
    "linkage_matrix_full = scipy.cluster.hierarchy.ward(newsgroupsCoocMat.toarray())\n",
    "hierarchicalClusters_full = scipy.cluster.hierarchy.fcluster(linkage_matrix_full, 4, 'maxclust')\n",
    "print(\"For our complete clusters:\")\n",
    "print(\"Homogeneity: {:0.3f}\".format(sklearn.metrics.homogeneity_score(newsgroupsDF['category'], hierarchicalClusters_full)))\n",
    "print(\"Completeness: {:0.3f}\".format(sklearn.metrics.completeness_score(newsgroupsDF['category'], hierarchicalClusters_full)))\n",
    "print(\"V-measure: {:0.3f}\".format(sklearn.metrics.v_measure_score(newsgroupsDF['category'], hierarchicalClusters_full)))\n",
    "print(\"Adjusted Rand Score: {:0.3f}\".format(sklearn.metrics.adjusted_rand_score(newsgroupsDF['category'], hierarchicalClusters_full)))"
   ]
  },
  {
   "cell_type": "markdown",
   "metadata": {},
   "source": [
    "Not quite as good as k-means. Perhaps we've got too many words for Ward or maybe we shouldn't be using TFIDF as that compresses the space. Still, the hierarchical model places constraints on the clustering not present with k-means, which come at a cost. Finally, we can bring those cluster assignments back to the data frame for deeper investigation."
   ]
  },
  {
   "cell_type": "code",
   "execution_count": null,
   "metadata": {},
   "outputs": [],
   "source": [
    "newsgroupsDF['wald_predictions'] = hierarchicalClusters_full\n",
    "newsgroupsDF"
   ]
  },
  {
   "cell_type": "markdown",
   "metadata": {},
   "source": [
    "# Now let's do it with Senate press release data\n",
    "\n",
    "We can also do hierarchical clustering with the Senate data. Let's start by creating the linkage matrix:"
   ]
  },
  {
   "cell_type": "code",
   "execution_count": null,
   "metadata": {},
   "outputs": [],
   "source": [
    "exampleCoocMat = exampleTFVects * exampleTFVects.T\n",
    "exampleCoocMat.setdiag(0)\n",
    "examplelinkage_matrix = scipy.cluster.hierarchy.ward(exampleCoocMat[:100, :100].toarray())"
   ]
  },
  {
   "cell_type": "markdown",
   "metadata": {},
   "source": [
    "And visualize the tree:"
   ]
  },
  {
   "cell_type": "code",
   "execution_count": null,
   "metadata": {},
   "outputs": [],
   "source": [
    "ax = scipy.cluster.hierarchy.dendrogram(examplelinkage_matrix, p=5, truncate_mode='level')"
   ]
  },
  {
   "cell_type": "markdown",
   "metadata": {},
   "source": [
    "Now let's do it with the entire data frame."
   ]
  },
  {
   "cell_type": "code",
   "execution_count": null,
   "metadata": {},
   "outputs": [],
   "source": [
    "example_linkage_matrix_full = scipy.cluster.hierarchy.ward(exampleCoocMat.toarray())\n",
    "example_hierarchicalClusters_full = scipy.cluster.hierarchy.fcluster(example_linkage_matrix_full, 4, 'maxclust')"
   ]
  },
  {
   "cell_type": "markdown",
   "metadata": {},
   "source": [
    "## <font color=\"red\">*Exercise 2*</font>\n",
    "\n",
    "<font color=\"red\">Construct cells immediately below this that hierarchically cluster your documents using two approaches, and visualize them with a tree. Interrogate the recursive cluster contents in terms of both documents and closenesses. What does this nested cluster structure reveal about the organization of documents in your sampled corpora? Moreover, if they do worse than kmeans (as above), why do you think this is the case (hint: using metrics if you have ground truth or silhouette if you do not)? \n",
    "\n",
    "<font color=\"red\">***Stretch***: Attempt using different distances into your clustering algorithms. (How) do they change the arrangement of clusters?"
   ]
  },
  {
   "cell_type": "code",
   "execution_count": 13,
   "metadata": {},
   "outputs": [
    {
     "name": "stderr",
     "output_type": "stream",
     "text": [
      "/Users/luzhang/opt/anaconda3/envs/content/lib/python3.7/site-packages/scipy/cluster/hierarchy.py:834: ClusterWarning: scipy.cluster: The symmetric non-negative hollow observation matrix looks suspiciously like an uncondensed distance matrix\n",
      "  return linkage(y, method='ward', metric='euclidean')\n"
     ]
    }
   ],
   "source": [
    "# linkage matrix\n",
    "sotuCoocMat = sotuTFVects * sotuTFVects.T\n",
    "sotuCoocMat.setdiag(0)\n",
    "sotulinkage_matrix = scipy.cluster.hierarchy.ward(sotuCoocMat.toarray())"
   ]
  },
  {
   "cell_type": "code",
   "execution_count": 14,
   "metadata": {},
   "outputs": [
    {
     "data": {
      "image/png": "[encoded data removed]",
      "text/plain": [
       "<Figure size 432x288 with 1 Axes>"
      ]
     },
     "metadata": {
      "needs_background": "light"
     },
     "output_type": "display_data"
    }
   ],
   "source": [
    "# visualize the tree with 5 levels\n",
    "ax = scipy.cluster.hierarchy.dendrogram(sotulinkage_matrix, p=5, truncate_mode='level', get_leaves=True)"
   ]
  },
  {
   "cell_type": "markdown",
   "metadata": {},
   "source": [
    "We can see from the visulization that there are 2 clusters that are parallel with each other. This aligns with our finding with k-means result with labeled features."
   ]
  },
  {
   "cell_type": "code",
   "execution_count": 15,
   "metadata": {},
   "outputs": [
    {
     "data": {
      "text/html": [
       "<div>\n",
       "<style scoped>\n",
       "    .dataframe tbody tr th:only-of-type {\n",
       "        vertical-align: middle;\n",
       "    }\n",
       "\n",
       "    .dataframe tbody tr th {\n",
       "        vertical-align: top;\n",
       "    }\n",
       "\n",
       "    .dataframe thead th {\n",
       "        text-align: right;\n",
       "    }\n",
       "</style>\n",
       "<table border=\"1\" class=\"dataframe\">\n",
       "  <thead>\n",
       "    <tr style=\"text-align: right;\">\n",
       "      <th></th>\n",
       "      <th>president</th>\n",
       "      <th>year</th>\n",
       "      <th>text</th>\n",
       "      <th>kmeans_predictions</th>\n",
       "      <th>wald_predictions</th>\n",
       "    </tr>\n",
       "  </thead>\n",
       "  <tbody>\n",
       "    <tr>\n",
       "      <th>0</th>\n",
       "      <td>Reagan</td>\n",
       "      <td>1982</td>\n",
       "      <td>Mr. Speaker, Mr. President, distinguished Memb...</td>\n",
       "      <td>1</td>\n",
       "      <td>1</td>\n",
       "    </tr>\n",
       "    <tr>\n",
       "      <th>1</th>\n",
       "      <td>Roosevelt</td>\n",
       "      <td>1902</td>\n",
       "      <td>To the Senate and House of Representatives:\\n\\...</td>\n",
       "      <td>0</td>\n",
       "      <td>2</td>\n",
       "    </tr>\n",
       "    <tr>\n",
       "      <th>2</th>\n",
       "      <td>Wilson</td>\n",
       "      <td>1914</td>\n",
       "      <td>GENTLEMEN OF THE CONGRESS:\\n\\nThe session upon...</td>\n",
       "      <td>0</td>\n",
       "      <td>2</td>\n",
       "    </tr>\n",
       "    <tr>\n",
       "      <th>3</th>\n",
       "      <td>Taft</td>\n",
       "      <td>1911</td>\n",
       "      <td>PART I\\n\\nThis message is the first of several...</td>\n",
       "      <td>0</td>\n",
       "      <td>2</td>\n",
       "    </tr>\n",
       "    <tr>\n",
       "      <th>4</th>\n",
       "      <td>Madison</td>\n",
       "      <td>1814</td>\n",
       "      <td>Fellow-Citizens of the Senate and House of Rep...</td>\n",
       "      <td>0</td>\n",
       "      <td>2</td>\n",
       "    </tr>\n",
       "    <tr>\n",
       "      <th>...</th>\n",
       "      <td>...</td>\n",
       "      <td>...</td>\n",
       "      <td>...</td>\n",
       "      <td>...</td>\n",
       "      <td>...</td>\n",
       "    </tr>\n",
       "    <tr>\n",
       "      <th>223</th>\n",
       "      <td>Polk</td>\n",
       "      <td>1845</td>\n",
       "      <td>Fellow-Citizens of the Senate and of the House...</td>\n",
       "      <td>0</td>\n",
       "      <td>2</td>\n",
       "    </tr>\n",
       "    <tr>\n",
       "      <th>224</th>\n",
       "      <td>Arthur</td>\n",
       "      <td>1881</td>\n",
       "      <td>To the Senate and House of Representatives of ...</td>\n",
       "      <td>0</td>\n",
       "      <td>2</td>\n",
       "    </tr>\n",
       "    <tr>\n",
       "      <th>225</th>\n",
       "      <td>Wilson</td>\n",
       "      <td>1919</td>\n",
       "      <td>TO THE SENATE AND HOUSE OF REPRESENTATIVES:\\n\\...</td>\n",
       "      <td>0</td>\n",
       "      <td>2</td>\n",
       "    </tr>\n",
       "    <tr>\n",
       "      <th>226</th>\n",
       "      <td>Carter</td>\n",
       "      <td>1979</td>\n",
       "      <td>Tonight I want to examine in a broad sense the...</td>\n",
       "      <td>1</td>\n",
       "      <td>1</td>\n",
       "    </tr>\n",
       "    <tr>\n",
       "      <th>227</th>\n",
       "      <td>Bush</td>\n",
       "      <td>2001</td>\n",
       "      <td>To the Congress of the United States:\\n\\nMr. S...</td>\n",
       "      <td>1</td>\n",
       "      <td>1</td>\n",
       "    </tr>\n",
       "  </tbody>\n",
       "</table>\n",
       "<p>228 rows × 5 columns</p>\n",
       "</div>"
      ],
      "text/plain": [
       "     president  year                                               text  \\\n",
       "0       Reagan  1982  Mr. Speaker, Mr. President, distinguished Memb...   \n",
       "1    Roosevelt  1902  To the Senate and House of Representatives:\\n\\...   \n",
       "2       Wilson  1914  GENTLEMEN OF THE CONGRESS:\\n\\nThe session upon...   \n",
       "3         Taft  1911  PART I\\n\\nThis message is the first of several...   \n",
       "4      Madison  1814  Fellow-Citizens of the Senate and House of Rep...   \n",
       "..         ...   ...                                                ...   \n",
       "223       Polk  1845  Fellow-Citizens of the Senate and of the House...   \n",
       "224     Arthur  1881  To the Senate and House of Representatives of ...   \n",
       "225     Wilson  1919  TO THE SENATE AND HOUSE OF REPRESENTATIVES:\\n\\...   \n",
       "226     Carter  1979  Tonight I want to examine in a broad sense the...   \n",
       "227       Bush  2001  To the Congress of the United States:\\n\\nMr. S...   \n",
       "\n",
       "     kmeans_predictions  wald_predictions  \n",
       "0                     1                 1  \n",
       "1                     0                 2  \n",
       "2                     0                 2  \n",
       "3                     0                 2  \n",
       "4                     0                 2  \n",
       "..                  ...               ...  \n",
       "223                   0                 2  \n",
       "224                   0                 2  \n",
       "225                   0                 2  \n",
       "226                   1                 1  \n",
       "227                   1                 1  \n",
       "\n",
       "[228 rows x 5 columns]"
      ]
     },
     "execution_count": 15,
     "metadata": {},
     "output_type": "execute_result"
    }
   ],
   "source": [
    "hierarchicalClusters = scipy.cluster.hierarchy.fcluster(sotulinkage_matrix, 2, 'maxclust')\n",
    "df['wald_predictions'] = hierarchicalClusters\n",
    "df"
   ]
  },
  {
   "cell_type": "code",
   "execution_count": 16,
   "metadata": {},
   "outputs": [
    {
     "name": "stdout",
     "output_type": "stream",
     "text": [
      "silhouette score for k-means is 0.124\n",
      "silhouette score for wald's method is 0.123\n",
      "two methods have 58 different cluster labels\n"
     ]
    }
   ],
   "source": [
    "X = sotuTFVects.toarray()\n",
    "k_mean_score = sklearn.metrics.silhouette_score(X, km.labels_)\n",
    "print(f'silhouette score for k-means is {round(k_mean_score,3)}')\n",
    "\n",
    "wald_score = sklearn.metrics.silhouette_score(X, hierarchicalClusters)\n",
    "print(f\"silhouette score for wald's method is {round(wald_score,3)}\")\n",
    "\n",
    "difference = abs(sum(df['kmeans_predictions']-df['wald_predictions']+1))\n",
    "print(f\"two methods have {difference} different cluster labels\")"
   ]
  },
  {
   "cell_type": "markdown",
   "metadata": {},
   "source": [
    "Wald's method performs a little worse than k-means. That's probably because there are too many words for the ward's method. It could also be that for presidential speeches, most speeches are parallel to each other. The hierachy structure is not fitting our analysis as well as k-means.\n",
    "\n",
    "The labels of the two methods are moderatly different from each other. This means that our overall performance are the same and we are generally confident with our clustering result."
   ]
  },
  {
   "cell_type": "code",
   "execution_count": 17,
   "metadata": {},
   "outputs": [
    {
     "data": {
      "image/png": "[encoded data removed]",
      "text/plain": [
       "<Figure size 432x288 with 1 Axes>"
      ]
     },
     "metadata": {
      "needs_background": "light"
     },
     "output_type": "display_data"
    }
   ],
   "source": [
    "# consine distance\n",
    "sotuCosinMat = 1 - sklearn.metrics.pairwise.cosine_similarity(sotuTFVects)\n",
    "sotuCosinlinkage_matrix = scipy.cluster.hierarchy.ward(sotuCosinMat)\n",
    "\n",
    "# visulization\n",
    "ax = scipy.cluster.hierarchy.dendrogram(sotuCosinlinkage_matrix, p=5, truncate_mode='level', get_leaves=True)"
   ]
  },
  {
   "cell_type": "code",
   "execution_count": 18,
   "metadata": {},
   "outputs": [
    {
     "data": {
      "text/html": [
       "<div>\n",
       "<style scoped>\n",
       "    .dataframe tbody tr th:only-of-type {\n",
       "        vertical-align: middle;\n",
       "    }\n",
       "\n",
       "    .dataframe tbody tr th {\n",
       "        vertical-align: top;\n",
       "    }\n",
       "\n",
       "    .dataframe thead th {\n",
       "        text-align: right;\n",
       "    }\n",
       "</style>\n",
       "<table border=\"1\" class=\"dataframe\">\n",
       "  <thead>\n",
       "    <tr style=\"text-align: right;\">\n",
       "      <th></th>\n",
       "      <th>president</th>\n",
       "      <th>year</th>\n",
       "      <th>text</th>\n",
       "      <th>kmeans_predictions</th>\n",
       "      <th>wald_predictions</th>\n",
       "      <th>wald_predictions_cosine_similarity</th>\n",
       "    </tr>\n",
       "  </thead>\n",
       "  <tbody>\n",
       "    <tr>\n",
       "      <th>0</th>\n",
       "      <td>Reagan</td>\n",
       "      <td>1982</td>\n",
       "      <td>Mr. Speaker, Mr. President, distinguished Memb...</td>\n",
       "      <td>1</td>\n",
       "      <td>1</td>\n",
       "      <td>1</td>\n",
       "    </tr>\n",
       "    <tr>\n",
       "      <th>1</th>\n",
       "      <td>Roosevelt</td>\n",
       "      <td>1902</td>\n",
       "      <td>To the Senate and House of Representatives:\\n\\...</td>\n",
       "      <td>0</td>\n",
       "      <td>2</td>\n",
       "      <td>2</td>\n",
       "    </tr>\n",
       "    <tr>\n",
       "      <th>2</th>\n",
       "      <td>Wilson</td>\n",
       "      <td>1914</td>\n",
       "      <td>GENTLEMEN OF THE CONGRESS:\\n\\nThe session upon...</td>\n",
       "      <td>0</td>\n",
       "      <td>2</td>\n",
       "      <td>2</td>\n",
       "    </tr>\n",
       "    <tr>\n",
       "      <th>3</th>\n",
       "      <td>Taft</td>\n",
       "      <td>1911</td>\n",
       "      <td>PART I\\n\\nThis message is the first of several...</td>\n",
       "      <td>0</td>\n",
       "      <td>2</td>\n",
       "      <td>2</td>\n",
       "    </tr>\n",
       "    <tr>\n",
       "      <th>4</th>\n",
       "      <td>Madison</td>\n",
       "      <td>1814</td>\n",
       "      <td>Fellow-Citizens of the Senate and House of Rep...</td>\n",
       "      <td>0</td>\n",
       "      <td>2</td>\n",
       "      <td>2</td>\n",
       "    </tr>\n",
       "    <tr>\n",
       "      <th>...</th>\n",
       "      <td>...</td>\n",
       "      <td>...</td>\n",
       "      <td>...</td>\n",
       "      <td>...</td>\n",
       "      <td>...</td>\n",
       "      <td>...</td>\n",
       "    </tr>\n",
       "    <tr>\n",
       "      <th>223</th>\n",
       "      <td>Polk</td>\n",
       "      <td>1845</td>\n",
       "      <td>Fellow-Citizens of the Senate and of the House...</td>\n",
       "      <td>0</td>\n",
       "      <td>2</td>\n",
       "      <td>2</td>\n",
       "    </tr>\n",
       "    <tr>\n",
       "      <th>224</th>\n",
       "      <td>Arthur</td>\n",
       "      <td>1881</td>\n",
       "      <td>To the Senate and House of Representatives of ...</td>\n",
       "      <td>0</td>\n",
       "      <td>2</td>\n",
       "      <td>2</td>\n",
       "    </tr>\n",
       "    <tr>\n",
       "      <th>225</th>\n",
       "      <td>Wilson</td>\n",
       "      <td>1919</td>\n",
       "      <td>TO THE SENATE AND HOUSE OF REPRESENTATIVES:\\n\\...</td>\n",
       "      <td>0</td>\n",
       "      <td>2</td>\n",
       "      <td>2</td>\n",
       "    </tr>\n",
       "    <tr>\n",
       "      <th>226</th>\n",
       "      <td>Carter</td>\n",
       "      <td>1979</td>\n",
       "      <td>Tonight I want to examine in a broad sense the...</td>\n",
       "      <td>1</td>\n",
       "      <td>1</td>\n",
       "      <td>1</td>\n",
       "    </tr>\n",
       "    <tr>\n",
       "      <th>227</th>\n",
       "      <td>Bush</td>\n",
       "      <td>2001</td>\n",
       "      <td>To the Congress of the United States:\\n\\nMr. S...</td>\n",
       "      <td>1</td>\n",
       "      <td>1</td>\n",
       "      <td>1</td>\n",
       "    </tr>\n",
       "  </tbody>\n",
       "</table>\n",
       "<p>228 rows × 6 columns</p>\n",
       "</div>"
      ],
      "text/plain": [
       "     president  year                                               text  \\\n",
       "0       Reagan  1982  Mr. Speaker, Mr. President, distinguished Memb...   \n",
       "1    Roosevelt  1902  To the Senate and House of Representatives:\\n\\...   \n",
       "2       Wilson  1914  GENTLEMEN OF THE CONGRESS:\\n\\nThe session upon...   \n",
       "3         Taft  1911  PART I\\n\\nThis message is the first of several...   \n",
       "4      Madison  1814  Fellow-Citizens of the Senate and House of Rep...   \n",
       "..         ...   ...                                                ...   \n",
       "223       Polk  1845  Fellow-Citizens of the Senate and of the House...   \n",
       "224     Arthur  1881  To the Senate and House of Representatives of ...   \n",
       "225     Wilson  1919  TO THE SENATE AND HOUSE OF REPRESENTATIVES:\\n\\...   \n",
       "226     Carter  1979  Tonight I want to examine in a broad sense the...   \n",
       "227       Bush  2001  To the Congress of the United States:\\n\\nMr. S...   \n",
       "\n",
       "     kmeans_predictions  wald_predictions  wald_predictions_cosine_similarity  \n",
       "0                     1                 1                                   1  \n",
       "1                     0                 2                                   2  \n",
       "2                     0                 2                                   2  \n",
       "3                     0                 2                                   2  \n",
       "4                     0                 2                                   2  \n",
       "..                  ...               ...                                 ...  \n",
       "223                   0                 2                                   2  \n",
       "224                   0                 2                                   2  \n",
       "225                   0                 2                                   2  \n",
       "226                   1                 1                                   1  \n",
       "227                   1                 1                                   1  \n",
       "\n",
       "[228 rows x 6 columns]"
      ]
     },
     "execution_count": 18,
     "metadata": {},
     "output_type": "execute_result"
    }
   ],
   "source": [
    "CosinhierarchicalClusters = scipy.cluster.hierarchy.fcluster(sotuCosinlinkage_matrix, 2, 'maxclust')\n",
    "df['wald_predictions_cosine_similarity'] = CosinhierarchicalClusters\n",
    "df"
   ]
  },
  {
   "cell_type": "code",
   "execution_count": 19,
   "metadata": {},
   "outputs": [
    {
     "name": "stdout",
     "output_type": "stream",
     "text": [
      "silhouette score for wald's method is 0.123\n",
      "silhouette score for wald's method with cosine similarity is 0.114\n",
      "two methods have 13 different cluster labels\n"
     ]
    }
   ],
   "source": [
    "wald_score = sklearn.metrics.silhouette_score(X, hierarchicalClusters)\n",
    "print(f\"silhouette score for wald's method is {round(wald_score,3)}\")\n",
    "\n",
    "wald_score_cos = sklearn.metrics.silhouette_score(X, CosinhierarchicalClusters)\n",
    "print(f\"silhouette score for wald's method with cosine similarity is {round(wald_score_cos,3)}\")\n",
    "\n",
    "difference = abs(sum(df['wald_predictions']-df['wald_predictions_cosine_similarity']))\n",
    "print(f\"two methods have {difference} different cluster labels\")"
   ]
  },
  {
   "cell_type": "markdown",
   "metadata": {},
   "source": [
    "We can see from the silhouette score above that cosine similarity is not working as well as word occurence. There are 13 different labels between two methods."
   ]
  },
  {
   "cell_type": "markdown",
   "metadata": {},
   "source": [
    "# Gensim\n",
    "\n",
    "To do topic modeling we will also be using data from the [grimmer press releases corpus](ttps://github.com/lintool/GrimmerSenatePressReleases). To use the texts with gensim we need to create a `corpua` object, this takes a few steps. First we create a `Dictionary` that maps tokens to ids.\n",
    "\n",
    "Here again we make use of `lucem_illud` functions. The source code of both of these is in [processing.py](https://github.com/UChicago-Computational-Content-Analysis/lucem_illud/blob/main/lucem_illud/processing.py)."
   ]
  },
  {
   "cell_type": "code",
   "execution_count": null,
   "metadata": {},
   "outputs": [],
   "source": [
    "#Apply our functions\n",
    "senReleasesTraining['tokenized_text'] = senReleasesTraining['text'].apply(lambda x: lucem_illud.word_tokenize(x))\n",
    "senReleasesTraining['normalized_tokens'] = senReleasesTraining['tokenized_text'].apply(lambda x: lucem_illud.normalizeTokens(x))"
   ]
  },
  {
   "cell_type": "code",
   "execution_count": null,
   "metadata": {},
   "outputs": [],
   "source": [
    "senReleasesTraining[::100]"
   ]
  },
  {
   "cell_type": "code",
   "execution_count": null,
   "metadata": {},
   "outputs": [],
   "source": [
    "def dropMissing(wordLst, vocab):\n",
    "    return [w for w in wordLst if w in vocab]\n",
    "\n",
    "senReleasesTraining['reduced_tokens'] = senReleasesTraining['normalized_tokens'].apply(lambda x: dropMissing(x, senTFVectorizer.vocabulary_.keys()))"
   ]
  },
  {
   "cell_type": "code",
   "execution_count": null,
   "metadata": {},
   "outputs": [],
   "source": [
    "dictionary = gensim.corpora.Dictionary(senReleasesTraining['reduced_tokens'])"
   ]
  },
  {
   "cell_type": "markdown",
   "metadata": {},
   "source": [
    "Then for each of the texts we create a list of tuples containing each token and its count. We will only use the first half of our dataset for now and will save the remainder for testing."
   ]
  },
  {
   "cell_type": "code",
   "execution_count": null,
   "metadata": {},
   "outputs": [],
   "source": [
    "corpus = [dictionary.doc2bow(text) for text in senReleasesTraining['reduced_tokens']]"
   ]
  },
  {
   "cell_type": "markdown",
   "metadata": {},
   "source": [
    "Then we serialize the corpus as a file and load it. This is an important step when the corpus is large."
   ]
  },
  {
   "cell_type": "code",
   "execution_count": null,
   "metadata": {},
   "outputs": [],
   "source": [
    "gensim.corpora.MmCorpus.serialize('senate.mm', corpus)\n",
    "senmm = gensim.corpora.MmCorpus('senate.mm')"
   ]
  },
  {
   "cell_type": "markdown",
   "metadata": {},
   "source": [
    "Now we have a correctly formatted corpus that we can use for topic modeling and induction."
   ]
  },
  {
   "cell_type": "code",
   "execution_count": null,
   "metadata": {},
   "outputs": [],
   "source": [
    "senlda = gensim.models.ldamodel.LdaModel(corpus=senmm, id2word=dictionary, num_topics=10, alpha='auto', eta='auto')"
   ]
  },
  {
   "cell_type": "markdown",
   "metadata": {},
   "source": [
    "We can inspect the degree to which distinct texts load on different topics. Here is one of the texts from the training set:"
   ]
  },
  {
   "cell_type": "code",
   "execution_count": null,
   "metadata": {},
   "outputs": [],
   "source": [
    "sen1Bow = dictionary.doc2bow(senReleasesTraining['reduced_tokens'][0])\n",
    "sen1lda = senlda[sen1Bow]\n",
    "print(\"The topics of the text: {}\".format(senReleasesTraining['name'][0]))\n",
    "print(\"are: {}\".format(sen1lda))"
   ]
  },
  {
   "cell_type": "markdown",
   "metadata": {},
   "source": [
    "We can now see which topics our model predicts press releases load on and make this into a `dataFrame` for later analysis."
   ]
  },
  {
   "cell_type": "code",
   "execution_count": null,
   "metadata": {},
   "outputs": [],
   "source": [
    "ldaDF = pandas.DataFrame({\n",
    "        'name' : senReleasesTraining['name'],\n",
    "        'topics' : [senlda[dictionary.doc2bow(l)] for l in senReleasesTraining['reduced_tokens']]\n",
    "    })"
   ]
  },
  {
   "cell_type": "markdown",
   "metadata": {},
   "source": [
    "This is a bit unwieldy so lets make each topic its own column:"
   ]
  },
  {
   "cell_type": "code",
   "execution_count": null,
   "metadata": {},
   "outputs": [],
   "source": [
    "#Dict to temporally hold the probabilities\n",
    "topicsProbDict = {i : [0] * len(ldaDF) for i in range(senlda.num_topics)}\n",
    "\n",
    "#Load them into the dict\n",
    "for index, topicTuples in enumerate(ldaDF['topics']):\n",
    "    for topicNum, prob in topicTuples:\n",
    "        topicsProbDict[topicNum][index] = prob\n",
    "\n",
    "#Update the DataFrame\n",
    "for topicNum in range(senlda.num_topics):\n",
    "    ldaDF['topic_{}'.format(topicNum)] = topicsProbDict[topicNum]\n",
    "\n",
    "ldaDF[1::100]"
   ]
  },
  {
   "cell_type": "markdown",
   "metadata": {},
   "source": [
    "Now let's visualize this for several (e.g., 10) documents in the corpus. First we'll subset the data:"
   ]
  },
  {
   "cell_type": "code",
   "execution_count": null,
   "metadata": {},
   "outputs": [],
   "source": [
    "ldaDFV = ldaDF[:10][['topic_%d' %x for x in range(10)]]\n",
    "ldaDFVisN = ldaDF[:10][['name']]\n",
    "# debug\n",
    "ldaDFVis = ldaDFV.values\n",
    "ldaDFVisNames = ldaDFVisN.values\n",
    "ldaDFV"
   ]
  },
  {
   "cell_type": "markdown",
   "metadata": {},
   "source": [
    "First we can visualize as a stacked bar chart:"
   ]
  },
  {
   "cell_type": "code",
   "execution_count": null,
   "metadata": {},
   "outputs": [],
   "source": [
    "N = 10\n",
    "ind = np.arange(N)\n",
    "K = senlda.num_topics  # N documents, K topics\n",
    "ind = np.arange(N)  # the x-axis locations for the novels\n",
    "width = 0.5  # the width of the bars\n",
    "plots = []\n",
    "height_cumulative = np.zeros(N)\n",
    "\n",
    "for k in range(K):\n",
    "    color = plt.cm.coolwarm(k/K, 1)\n",
    "    if k == 0:\n",
    "        p = plt.bar(ind, ldaDFVis[:, k], width, color=color)\n",
    "    else:\n",
    "        p = plt.bar(ind, ldaDFVis[:, k], width, bottom=height_cumulative, color=color)\n",
    "    height_cumulative += ldaDFVis[:, k]\n",
    "    plots.append(p)\n",
    "    \n",
    "\n",
    "plt.ylim((0, 1))  # proportions sum to 1, so the height of the stacked bars is 1\n",
    "plt.ylabel('Topics')\n",
    "\n",
    "plt.title('Topics in Press Releases')\n",
    "plt.xticks(ind+width/2, ldaDFVisNames, rotation='vertical')\n",
    "\n",
    "plt.yticks(np.arange(0, 1, 10))\n",
    "topic_labels = ['Topic #{}'.format(k) for k in range(K)]\n",
    "plt.legend([p[0] for p in plots], topic_labels, loc='center left', frameon=True,  bbox_to_anchor = (1, .5))\n",
    "\n",
    "plt.show()"
   ]
  },
  {
   "cell_type": "markdown",
   "metadata": {},
   "source": [
    "We can also visualize as a heat map:"
   ]
  },
  {
   "cell_type": "code",
   "execution_count": null,
   "metadata": {},
   "outputs": [],
   "source": [
    "plt.pcolor(ldaDFVis, norm=None, cmap='Blues')\n",
    "plt.yticks(np.arange(ldaDFVis.shape[0])+0.5, ldaDFVisNames);\n",
    "plt.xticks(np.arange(ldaDFVis.shape[1])+0.5, topic_labels);\n",
    "\n",
    "# flip the y-axis so the texts are in the order we anticipate (Austen first, then Brontë)\n",
    "plt.gca().invert_yaxis()\n",
    "\n",
    "# rotate the ticks on the x-axis\n",
    "plt.xticks(rotation=90)\n",
    "\n",
    "# add a legend\n",
    "plt.colorbar(cmap='Blues')\n",
    "plt.tight_layout()  # fixes margins\n",
    "plt.show()"
   ]
  },
  {
   "cell_type": "markdown",
   "metadata": {},
   "source": [
    "We can also look at the top words from each topic to get a sense of the semantic (or syntactic) domain they represent. To look at the terms with the highest LDA weight in topic `1` we can do the following:"
   ]
  },
  {
   "cell_type": "code",
   "execution_count": null,
   "metadata": {},
   "outputs": [],
   "source": [
    "senlda.show_topic(1)"
   ]
  },
  {
   "cell_type": "markdown",
   "metadata": {},
   "source": [
    "And if we want to make a dataFrame:"
   ]
  },
  {
   "cell_type": "code",
   "execution_count": null,
   "metadata": {},
   "outputs": [],
   "source": [
    "topicsDict = {}\n",
    "for topicNum in range(senlda.num_topics):\n",
    "    topicWords = [w for w, p in senlda.show_topic(topicNum)]\n",
    "    topicsDict['Topic_{}'.format(topicNum)] = topicWords\n",
    "\n",
    "wordRanksDF = pandas.DataFrame(topicsDict)\n",
    "wordRanksDF"
   ]
  },
  {
   "cell_type": "markdown",
   "metadata": {},
   "source": [
    "We can see that several of the topics have the same top words, but there are definitely differences. We can try and make the topics more distinct by changing the $\\alpha$ and $\\eta$ parameters of the model. $\\alpha$ controls the sparsity of document-topic loadings, and $\\eta$ controls the sparsity of topic-word loadings.\n",
    "\n",
    "We can make a visualization of the distribution of words over any single topic."
   ]
  },
  {
   "cell_type": "code",
   "execution_count": null,
   "metadata": {},
   "outputs": [],
   "source": [
    "topic1_df = pandas.DataFrame(senlda.show_topic(1, topn=50))\n",
    "plt.figure()\n",
    "topic1_df.plot.bar(legend = False)\n",
    "plt.title('Probability Distribution of Words, Topic 1')\n",
    "plt.show()"
   ]
  },
  {
   "cell_type": "markdown",
   "metadata": {},
   "source": [
    "See how different $\\eta$ values can change the shape of the distribution."
   ]
  },
  {
   "cell_type": "code",
   "execution_count": null,
   "metadata": {},
   "outputs": [],
   "source": [
    "senlda1 = gensim.models.ldamodel.LdaModel(corpus=senmm, id2word=dictionary, num_topics=10, eta = 0.00001)\n",
    "senlda2 = gensim.models.ldamodel.LdaModel(corpus=senmm, id2word=dictionary, num_topics=10, eta = 0.9)"
   ]
  },
  {
   "cell_type": "code",
   "execution_count": null,
   "metadata": {},
   "outputs": [],
   "source": [
    "topic11_df = pandas.DataFrame(senlda1.show_topic(1, topn=50))\n",
    "topic21_df = pandas.DataFrame(senlda2.show_topic(1, topn=50))\n",
    "\n",
    "fig, (ax1, ax2) = plt.subplots(1, 2)\n",
    "fig.set_size_inches(18, 7)\n",
    "topic11_df.plot.bar(legend = False, ax = ax1, title = '$\\eta$  = 0.00001')\n",
    "topic21_df.plot.bar(legend = False, ax = ax2, title = '$\\eta$  = 0.9')\n",
    "plt.show()"
   ]
  },
  {
   "cell_type": "markdown",
   "metadata": {
    "id": "syxNwikVgPH0"
   },
   "source": [
    "### Heirarchial Dirichlet Process\n",
    "\n",
    "We use LDA topic modeling above, but a similar alternative model you may run across is Hierarchical Dirichlet Processes, a nonparametric generalization of LDA. See, for example, [Teodoridis et al 2020](https://papers.ssrn.com/sol3/papers.cfm?abstract_id=3596233). One difference is how the researcher selects the number of topics."
   ]
  },
  {
   "cell_type": "code",
   "execution_count": null,
   "metadata": {
    "id": "D7hIA4hPgcc5"
   },
   "outputs": [],
   "source": [
    "from gensim.models import HdpModel"
   ]
  },
  {
   "cell_type": "code",
   "execution_count": null,
   "metadata": {
    "id": "2hStv6DjFklq"
   },
   "outputs": [],
   "source": [
    "hdpmodel = HdpModel(corpus=corpus, id2word=dictionary)"
   ]
  },
  {
   "cell_type": "code",
   "execution_count": null,
   "metadata": {
    "colab": {
     "base_uri": "https://localhost:8080/"
    },
    "id": "lErePHjxFkg_",
    "outputId": "fcd26a40-3071-49b9-a4ba-046418be3119"
   },
   "outputs": [],
   "source": [
    "hdpmodel.print_topics()"
   ]
  },
  {
   "cell_type": "markdown",
   "metadata": {
    "id": "luPvBEh7Kezp"
   },
   "source": [
    "Gensim sets the default number of topics as 150. This [stack overflow link](https://stackoverflow.com/questions/31543542/hierarchical-dirichlet-process-gensim-topic-number-independent-of-corpus-size) walks you through how to truncate these topics."
   ]
  },
  {
   "cell_type": "code",
   "execution_count": null,
   "metadata": {
    "id": "IO0ZQsMrHaf2"
   },
   "outputs": [],
   "source": [
    "hdptexts = hdpmodel[corpus]"
   ]
  },
  {
   "cell_type": "code",
   "execution_count": null,
   "metadata": {
    "colab": {
     "base_uri": "https://localhost:8080/"
    },
    "id": "rZ_wUnk2Hnn2",
    "outputId": "56fffc6d-e7d6-4ca9-e4e9-1269ec2f29a1"
   },
   "outputs": [],
   "source": [
    "hdptexts[0]"
   ]
  },
  {
   "cell_type": "markdown",
   "metadata": {
    "id": "mhOZEFyMKiNh"
   },
   "source": [
    "This [HDP tutorial](https://towardsdatascience.com/dont-be-afraid-of-nonparametric-topic-models-part-2-python-e5666db347a) walks us through alternative HDP implementations outside of gensim."
   ]
  },
  {
   "cell_type": "markdown",
   "metadata": {},
   "source": [
    "## <font color=\"red\">*Exercise 3*</font>\n",
    "\n",
    "<font color=\"red\">Construct cells immediately below this that topic model documents related to your anticipated final project. Interrogate and visually plot (e.g., as a bar graph?) the topic-word loadings and the document-topic loadings. What does this topic structure reveal about the distribution of contents across your documents? Systematically vary the $\\alpha$, $\\eta$, and topic number of the model for your text and describe in detail whether and how these changes led to distinctive outcomes, visible to you as analyst.  \n",
    "\n",
    "<font color=\"red\">**Stretch**: Cluster your documents, but instead of using words alone, use their topic loadings as an additional set of features. Do these topic loadings increase the apparent semantic coherence of your clusters?</font> "
   ]
  },
  {
   "cell_type": "code",
   "execution_count": 20,
   "metadata": {},
   "outputs": [
    {
     "name": "stderr",
     "output_type": "stream",
     "text": [
      "/Users/luzhang/opt/anaconda3/envs/content/lib/python3.7/site-packages/spacy/pipeline/lemmatizer.py:211: UserWarning: [W108] The rule-based lemmatizer did not find POS annotation for one or more tokens. Check that your pipeline includes components that assign token.pos, typically 'tagger'+'attribute_ruler' or 'morphologizer'.\n",
      "  warnings.warn(Warnings.W108)\n"
     ]
    }
   ],
   "source": [
    "# apply functions given \n",
    "df['tokenized_text'] = df['text'].apply(lambda x: lucem_illud.word_tokenize(x))\n",
    "df['normalized_tokens'] = df['tokenized_text'].apply(lambda x: lucem_illud.normalizeTokens(x))"
   ]
  },
  {
   "cell_type": "code",
   "execution_count": 21,
   "metadata": {},
   "outputs": [],
   "source": [
    "# drop missing words\n",
    "def dropMissing(wordLst, vocab):\n",
    "    return [w for w in wordLst if w in vocab]\n",
    "\n",
    "df['reduced_tokens'] = df['normalized_tokens'].apply(lambda x: dropMissing(x, sotuTFVectorizer.vocabulary_.keys()))"
   ]
  },
  {
   "cell_type": "code",
   "execution_count": 22,
   "metadata": {},
   "outputs": [],
   "source": [
    "# create dictionary\n",
    "dictionary = gensim.corpora.Dictionary(df['reduced_tokens'])\n",
    "\n",
    "# use the first half of our dataset and save the remainder for testing\n",
    "corpus = [dictionary.doc2bow(text) for text in df['reduced_tokens']]\n",
    "\n",
    "# serialize the corpus and load it\n",
    "gensim.corpora.MmCorpus.serialize('sotu.mm', corpus)\n",
    "sotumm = gensim.corpora.MmCorpus('sotu.mm')"
   ]
  },
  {
   "cell_type": "markdown",
   "metadata": {},
   "source": [
    "We now have the correctly formatted corpus\n",
    "\n",
    "We randomly choose the number of topics to be 10."
   ]
  },
  {
   "cell_type": "code",
   "execution_count": 23,
   "metadata": {},
   "outputs": [],
   "source": [
    "sotulda = gensim.models.ldamodel.LdaModel(corpus=sotumm, id2word=dictionary, num_topics=10, alpha='auto', eta='auto')"
   ]
  },
  {
   "cell_type": "code",
   "execution_count": 24,
   "metadata": {},
   "outputs": [
    {
     "data": {
      "text/html": [
       "<div>\n",
       "<style scoped>\n",
       "    .dataframe tbody tr th:only-of-type {\n",
       "        vertical-align: middle;\n",
       "    }\n",
       "\n",
       "    .dataframe tbody tr th {\n",
       "        vertical-align: top;\n",
       "    }\n",
       "\n",
       "    .dataframe thead th {\n",
       "        text-align: right;\n",
       "    }\n",
       "</style>\n",
       "<table border=\"1\" class=\"dataframe\">\n",
       "  <thead>\n",
       "    <tr style=\"text-align: right;\">\n",
       "      <th></th>\n",
       "      <th>president</th>\n",
       "      <th>year</th>\n",
       "      <th>topics</th>\n",
       "      <th>topic_0</th>\n",
       "      <th>topic_1</th>\n",
       "      <th>topic_2</th>\n",
       "      <th>topic_3</th>\n",
       "      <th>topic_4</th>\n",
       "      <th>topic_5</th>\n",
       "      <th>topic_6</th>\n",
       "      <th>topic_7</th>\n",
       "      <th>topic_8</th>\n",
       "      <th>topic_9</th>\n",
       "    </tr>\n",
       "  </thead>\n",
       "  <tbody>\n",
       "    <tr>\n",
       "      <th>127</th>\n",
       "      <td>Washington</td>\n",
       "      <td>1791</td>\n",
       "      <td>[(2, 0.06591255), (3, 0.074741624), (6, 0.8423...</td>\n",
       "      <td>0.000000</td>\n",
       "      <td>0.000000</td>\n",
       "      <td>0.065913</td>\n",
       "      <td>0.074742</td>\n",
       "      <td>0.000000</td>\n",
       "      <td>0.000000</td>\n",
       "      <td>0.842331</td>\n",
       "      <td>0.000000</td>\n",
       "      <td>0.000000</td>\n",
       "      <td>0.000000</td>\n",
       "    </tr>\n",
       "    <tr>\n",
       "      <th>168</th>\n",
       "      <td>Harrison</td>\n",
       "      <td>1891</td>\n",
       "      <td>[(0, 0.016434751), (1, 0.078277595), (2, 0.168...</td>\n",
       "      <td>0.016435</td>\n",
       "      <td>0.078278</td>\n",
       "      <td>0.168941</td>\n",
       "      <td>0.013441</td>\n",
       "      <td>0.056031</td>\n",
       "      <td>0.000000</td>\n",
       "      <td>0.492134</td>\n",
       "      <td>0.151633</td>\n",
       "      <td>0.000000</td>\n",
       "      <td>0.022888</td>\n",
       "    </tr>\n",
       "    <tr>\n",
       "      <th>93</th>\n",
       "      <td>Bush</td>\n",
       "      <td>1992</td>\n",
       "      <td>[(5, 0.18932512), (8, 0.8075846)]</td>\n",
       "      <td>0.000000</td>\n",
       "      <td>0.000000</td>\n",
       "      <td>0.000000</td>\n",
       "      <td>0.000000</td>\n",
       "      <td>0.000000</td>\n",
       "      <td>0.189325</td>\n",
       "      <td>0.000000</td>\n",
       "      <td>0.000000</td>\n",
       "      <td>0.807585</td>\n",
       "      <td>0.000000</td>\n",
       "    </tr>\n",
       "  </tbody>\n",
       "</table>\n",
       "</div>"
      ],
      "text/plain": [
       "      president  year                                             topics  \\\n",
       "127  Washington  1791  [(2, 0.06591255), (3, 0.074741624), (6, 0.8423...   \n",
       "168    Harrison  1891  [(0, 0.016434751), (1, 0.078277595), (2, 0.168...   \n",
       "93         Bush  1992                  [(5, 0.18932512), (8, 0.8075846)]   \n",
       "\n",
       "      topic_0   topic_1   topic_2   topic_3   topic_4   topic_5   topic_6  \\\n",
       "127  0.000000  0.000000  0.065913  0.074742  0.000000  0.000000  0.842331   \n",
       "168  0.016435  0.078278  0.168941  0.013441  0.056031  0.000000  0.492134   \n",
       "93   0.000000  0.000000  0.000000  0.000000  0.000000  0.189325  0.000000   \n",
       "\n",
       "      topic_7   topic_8   topic_9  \n",
       "127  0.000000  0.000000  0.000000  \n",
       "168  0.151633  0.000000  0.022888  \n",
       "93   0.000000  0.807585  0.000000  "
      ]
     },
     "execution_count": 24,
     "metadata": {},
     "output_type": "execute_result"
    }
   ],
   "source": [
    "ldaDF = pandas.DataFrame({\n",
    "        'president' : df['president'],\n",
    "        'year': df['year'],\n",
    "        'topics' : [sotulda[dictionary.doc2bow(l)] for l in df['reduced_tokens']]\n",
    "    })\n",
    "\n",
    "#Dict to temporally hold the probabilities\n",
    "topicsProbDict = {i : [0] * len(ldaDF) for i in range(sotulda.num_topics)}\n",
    "\n",
    "#Load them into the dict\n",
    "for index, topicTuples in enumerate(ldaDF['topics']):\n",
    "    for topicNum, prob in topicTuples:\n",
    "        topicsProbDict[topicNum][index] = prob\n",
    "\n",
    "#Update the DataFrame\n",
    "for topicNum in range(sotulda.num_topics):\n",
    "    ldaDF['topic_{}'.format(topicNum)] = topicsProbDict[topicNum]\n",
    "\n",
    "ldaDF.sort_values(by='year', inplace=True)\n",
    "ldaDF[1::100]"
   ]
  },
  {
   "cell_type": "markdown",
   "metadata": {},
   "source": [
    "Now we want to visualize the first 10 years for topics in the State of the Union."
   ]
  },
  {
   "cell_type": "code",
   "execution_count": 25,
   "metadata": {},
   "outputs": [],
   "source": [
    "ldaDFV = ldaDF[:10][['topic_%d' %x for x in range(10)]]\n",
    "ldaDFVisN = ldaDF[:10][['year']]\n",
    "# debug\n",
    "ldaDFVis = ldaDFV.values\n",
    "ldaDFVisNames = ldaDFVisN.values"
   ]
  },
  {
   "cell_type": "code",
   "execution_count": 26,
   "metadata": {},
   "outputs": [
    {
     "data": {
      "image/png": "[encoded data removed]",
      "text/plain": [
       "<Figure size 432x288 with 1 Axes>"
      ]
     },
     "metadata": {
      "needs_background": "light"
     },
     "output_type": "display_data"
    }
   ],
   "source": [
    "N = 10\n",
    "ind = np.arange(N)\n",
    "K = sotulda.num_topics  # N documents, K topics\n",
    "ind = np.arange(N)  # the x-axis locations for the novels\n",
    "width = 0.5  # the width of the bars\n",
    "plots = []\n",
    "height_cumulative = np.zeros(N)\n",
    "\n",
    "for k in range(K):\n",
    "    color = plt.cm.coolwarm(k/K, 1)\n",
    "    if k == 0:\n",
    "        p = plt.bar(ind, ldaDFVis[:, k], width, color=color)\n",
    "    else:\n",
    "        p = plt.bar(ind, ldaDFVis[:, k], width, bottom=height_cumulative, color=color)\n",
    "    height_cumulative += ldaDFVis[:, k]\n",
    "    plots.append(p)\n",
    "    \n",
    "\n",
    "plt.ylim((0, 1))  # proportions sum to 1, so the height of the stacked bars is 1\n",
    "plt.ylabel('Topics')\n",
    "\n",
    "plt.title('Topics in State of the Union')\n",
    "plt.xticks(ind+width/2, ldaDFVisNames, rotation='vertical')\n",
    "\n",
    "plt.yticks(np.arange(0, 1, 10))\n",
    "topic_labels = ['Topic #{}'.format(k) for k in range(K)]\n",
    "plt.legend([p[0] for p in plots], topic_labels, loc='center left', frameon=True,  bbox_to_anchor = (1, .5))\n",
    "\n",
    "plt.show()"
   ]
  },
  {
   "cell_type": "code",
   "execution_count": 27,
   "metadata": {},
   "outputs": [
    {
     "data": {
      "image/png": "[encoded data removed]",
      "text/plain": [
       "<Figure size 432x288 with 2 Axes>"
      ]
     },
     "metadata": {
      "needs_background": "light"
     },
     "output_type": "display_data"
    }
   ],
   "source": [
    "plt.pcolor(ldaDFVis, norm=None, cmap='Blues')\n",
    "plt.yticks(np.arange(ldaDFVis.shape[0])+0.5, ldaDFVisNames);\n",
    "plt.xticks(np.arange(ldaDFVis.shape[1])+0.5, topic_labels);\n",
    "\n",
    "# flip the y-axis so the texts are in the order we anticipate (Austen first, then Brontë)\n",
    "plt.gca().invert_yaxis()\n",
    "\n",
    "# rotate the ticks on the x-axis\n",
    "plt.xticks(rotation=90)\n",
    "\n",
    "# add a legend\n",
    "plt.colorbar(cmap='Blues')\n",
    "plt.tight_layout()  # fixes margins\n",
    "plt.show()"
   ]
  },
  {
   "cell_type": "code",
   "execution_count": 28,
   "metadata": {},
   "outputs": [
    {
     "data": {
      "text/html": [
       "<div>\n",
       "<style scoped>\n",
       "    .dataframe tbody tr th:only-of-type {\n",
       "        vertical-align: middle;\n",
       "    }\n",
       "\n",
       "    .dataframe tbody tr th {\n",
       "        vertical-align: top;\n",
       "    }\n",
       "\n",
       "    .dataframe thead th {\n",
       "        text-align: right;\n",
       "    }\n",
       "</style>\n",
       "<table border=\"1\" class=\"dataframe\">\n",
       "  <thead>\n",
       "    <tr style=\"text-align: right;\">\n",
       "      <th></th>\n",
       "      <th>Topic_0</th>\n",
       "      <th>Topic_1</th>\n",
       "      <th>Topic_2</th>\n",
       "      <th>Topic_3</th>\n",
       "      <th>Topic_4</th>\n",
       "      <th>Topic_5</th>\n",
       "      <th>Topic_6</th>\n",
       "      <th>Topic_7</th>\n",
       "      <th>Topic_8</th>\n",
       "      <th>Topic_9</th>\n",
       "    </tr>\n",
       "  </thead>\n",
       "  <tbody>\n",
       "    <tr>\n",
       "      <th>0</th>\n",
       "      <td>tonight</td>\n",
       "      <td>convention</td>\n",
       "      <td>americans</td>\n",
       "      <td>program</td>\n",
       "      <td>mexico</td>\n",
       "      <td>help</td>\n",
       "      <td>mexico</td>\n",
       "      <td>mexico</td>\n",
       "      <td>program</td>\n",
       "      <td>program</td>\n",
       "    </tr>\n",
       "    <tr>\n",
       "      <th>1</th>\n",
       "      <td>help</td>\n",
       "      <td>help</td>\n",
       "      <td>help</td>\n",
       "      <td>mexico</td>\n",
       "      <td>americans</td>\n",
       "      <td>programs</td>\n",
       "      <td>banks</td>\n",
       "      <td>americans</td>\n",
       "      <td>americans</td>\n",
       "      <td>americans</td>\n",
       "    </tr>\n",
       "    <tr>\n",
       "      <th>2</th>\n",
       "      <td>jobs</td>\n",
       "      <td>mexico</td>\n",
       "      <td>mexico</td>\n",
       "      <td>americans</td>\n",
       "      <td>minister</td>\n",
       "      <td>americans</td>\n",
       "      <td>currency</td>\n",
       "      <td>help</td>\n",
       "      <td>help</td>\n",
       "      <td>today</td>\n",
       "    </tr>\n",
       "    <tr>\n",
       "      <th>3</th>\n",
       "      <td>americans</td>\n",
       "      <td>program</td>\n",
       "      <td>budget</td>\n",
       "      <td>british</td>\n",
       "      <td>help</td>\n",
       "      <td>program</td>\n",
       "      <td>spain</td>\n",
       "      <td>court</td>\n",
       "      <td>tonight</td>\n",
       "      <td>budget</td>\n",
       "    </tr>\n",
       "    <tr>\n",
       "      <th>4</th>\n",
       "      <td>budget</td>\n",
       "      <td>spain</td>\n",
       "      <td>bank</td>\n",
       "      <td>programs</td>\n",
       "      <td>texas</td>\n",
       "      <td>today</td>\n",
       "      <td>gold</td>\n",
       "      <td>tariff</td>\n",
       "      <td>budget</td>\n",
       "      <td>problems</td>\n",
       "    </tr>\n",
       "    <tr>\n",
       "      <th>5</th>\n",
       "      <td>program</td>\n",
       "      <td>tariff</td>\n",
       "      <td>tariff</td>\n",
       "      <td>today</td>\n",
       "      <td>jobs</td>\n",
       "      <td>budget</td>\n",
       "      <td>tariff</td>\n",
       "      <td>intercourse</td>\n",
       "      <td>workers</td>\n",
       "      <td>court</td>\n",
       "    </tr>\n",
       "    <tr>\n",
       "      <th>6</th>\n",
       "      <td>spain</td>\n",
       "      <td>minister</td>\n",
       "      <td>banks</td>\n",
       "      <td>minister</td>\n",
       "      <td>program</td>\n",
       "      <td>tonight</td>\n",
       "      <td>british</td>\n",
       "      <td>spain</td>\n",
       "      <td>ve</td>\n",
       "      <td>help</td>\n",
       "    </tr>\n",
       "    <tr>\n",
       "      <th>7</th>\n",
       "      <td>mexico</td>\n",
       "      <td>intercourse</td>\n",
       "      <td>court</td>\n",
       "      <td>banks</td>\n",
       "      <td>convention</td>\n",
       "      <td>families</td>\n",
       "      <td>intercourse</td>\n",
       "      <td>gold</td>\n",
       "      <td>jobs</td>\n",
       "      <td>spain</td>\n",
       "    </tr>\n",
       "    <tr>\n",
       "      <th>8</th>\n",
       "      <td>convention</td>\n",
       "      <td>object</td>\n",
       "      <td>france</td>\n",
       "      <td>post</td>\n",
       "      <td>today</td>\n",
       "      <td>british</td>\n",
       "      <td>indians</td>\n",
       "      <td>banks</td>\n",
       "      <td>mexico</td>\n",
       "      <td>cent</td>\n",
       "    </tr>\n",
       "    <tr>\n",
       "      <th>9</th>\n",
       "      <td>reform</td>\n",
       "      <td>gold</td>\n",
       "      <td>convention</td>\n",
       "      <td>object</td>\n",
       "      <td>mexican</td>\n",
       "      <td>jobs</td>\n",
       "      <td>payment</td>\n",
       "      <td>cent</td>\n",
       "      <td>families</td>\n",
       "      <td>recommendations</td>\n",
       "    </tr>\n",
       "  </tbody>\n",
       "</table>\n",
       "</div>"
      ],
      "text/plain": [
       "      Topic_0      Topic_1     Topic_2    Topic_3     Topic_4    Topic_5  \\\n",
       "0     tonight   convention   americans    program      mexico       help   \n",
       "1        help         help        help     mexico   americans   programs   \n",
       "2        jobs       mexico      mexico  americans    minister  americans   \n",
       "3   americans      program      budget    british        help    program   \n",
       "4      budget        spain        bank   programs       texas      today   \n",
       "5     program       tariff      tariff      today        jobs     budget   \n",
       "6       spain     minister       banks   minister     program    tonight   \n",
       "7      mexico  intercourse       court      banks  convention   families   \n",
       "8  convention       object      france       post       today    british   \n",
       "9      reform         gold  convention     object     mexican       jobs   \n",
       "\n",
       "       Topic_6      Topic_7    Topic_8          Topic_9  \n",
       "0       mexico       mexico    program          program  \n",
       "1        banks    americans  americans        americans  \n",
       "2     currency         help       help            today  \n",
       "3        spain        court    tonight           budget  \n",
       "4         gold       tariff     budget         problems  \n",
       "5       tariff  intercourse    workers            court  \n",
       "6      british        spain         ve             help  \n",
       "7  intercourse         gold       jobs            spain  \n",
       "8      indians        banks     mexico             cent  \n",
       "9      payment         cent   families  recommendations  "
      ]
     },
     "execution_count": 28,
     "metadata": {},
     "output_type": "execute_result"
    }
   ],
   "source": [
    "topicsDict = {}\n",
    "for topicNum in range(sotulda.num_topics):\n",
    "    topicWords = [w for w, p in sotulda.show_topic(topicNum)]\n",
    "    topicsDict['Topic_{}'.format(topicNum)] = topicWords\n",
    "\n",
    "wordRanksDF = pandas.DataFrame(topicsDict)\n",
    "wordRanksDF"
   ]
  },
  {
   "cell_type": "markdown",
   "metadata": {},
   "source": [
    "The visualization is for the first 10 years. We can see that topic 6 is the most dominent ones. However, there's no direct evidence from words in each topic showing that this topic's focus is different from other topics. We probably need to further tune our parameters.\n",
    "\n",
    "We thus want to change $\\alpha$ and $\\eta$ parameters of the model."
   ]
  },
  {
   "cell_type": "code",
   "execution_count": 29,
   "metadata": {},
   "outputs": [],
   "source": [
    "sotulda1 = gensim.models.ldamodel.LdaModel(corpus=sotumm, id2word=dictionary, num_topics=10, eta = 0.00001)\n",
    "sotulda2 = gensim.models.ldamodel.LdaModel(corpus=sotumm, id2word=dictionary, num_topics=10, eta = 0.9)"
   ]
  },
  {
   "cell_type": "code",
   "execution_count": 30,
   "metadata": {},
   "outputs": [
    {
     "data": {
      "image/png": "[encoded data removed]",
      "text/plain": [
       "<Figure size 1296x504 with 2 Axes>"
      ]
     },
     "metadata": {
      "needs_background": "light"
     },
     "output_type": "display_data"
    }
   ],
   "source": [
    "topic11_df = pandas.DataFrame(sotulda1.show_topic(1, topn=50))\n",
    "topic21_df = pandas.DataFrame(sotulda2.show_topic(1, topn=50))\n",
    "\n",
    "fig, (ax1, ax2) = plt.subplots(1, 2)\n",
    "fig.set_size_inches(18, 7)\n",
    "topic11_df.plot.bar(legend = False, ax = ax1, title = '$\\eta$  = 0.00001')\n",
    "topic21_df.plot.bar(legend = False, ax = ax2, title = '$\\eta$  = 0.9')\n",
    "plt.show()"
   ]
  },
  {
   "cell_type": "code",
   "execution_count": 31,
   "metadata": {},
   "outputs": [
    {
     "data": {
      "text/html": [
       "<div>\n",
       "<style scoped>\n",
       "    .dataframe tbody tr th:only-of-type {\n",
       "        vertical-align: middle;\n",
       "    }\n",
       "\n",
       "    .dataframe tbody tr th {\n",
       "        vertical-align: top;\n",
       "    }\n",
       "\n",
       "    .dataframe thead th {\n",
       "        text-align: right;\n",
       "    }\n",
       "</style>\n",
       "<table border=\"1\" class=\"dataframe\">\n",
       "  <thead>\n",
       "    <tr style=\"text-align: right;\">\n",
       "      <th></th>\n",
       "      <th>Topic_0</th>\n",
       "      <th>Topic_1</th>\n",
       "      <th>Topic_2</th>\n",
       "      <th>Topic_3</th>\n",
       "      <th>Topic_4</th>\n",
       "      <th>Topic_5</th>\n",
       "      <th>Topic_6</th>\n",
       "      <th>Topic_7</th>\n",
       "      <th>Topic_8</th>\n",
       "      <th>Topic_9</th>\n",
       "    </tr>\n",
       "  </thead>\n",
       "  <tbody>\n",
       "    <tr>\n",
       "      <th>0</th>\n",
       "      <td>reform</td>\n",
       "      <td>help</td>\n",
       "      <td>americans</td>\n",
       "      <td>mexico</td>\n",
       "      <td>program</td>\n",
       "      <td>mexico</td>\n",
       "      <td>mexico</td>\n",
       "      <td>help</td>\n",
       "      <td>mexico</td>\n",
       "      <td>americans</td>\n",
       "    </tr>\n",
       "    <tr>\n",
       "      <th>1</th>\n",
       "      <td>program</td>\n",
       "      <td>program</td>\n",
       "      <td>today</td>\n",
       "      <td>convention</td>\n",
       "      <td>mexico</td>\n",
       "      <td>banks</td>\n",
       "      <td>help</td>\n",
       "      <td>americans</td>\n",
       "      <td>convention</td>\n",
       "      <td>help</td>\n",
       "    </tr>\n",
       "    <tr>\n",
       "      <th>2</th>\n",
       "      <td>americans</td>\n",
       "      <td>americans</td>\n",
       "      <td>help</td>\n",
       "      <td>british</td>\n",
       "      <td>budget</td>\n",
       "      <td>gold</td>\n",
       "      <td>americans</td>\n",
       "      <td>program</td>\n",
       "      <td>americans</td>\n",
       "      <td>budget</td>\n",
       "    </tr>\n",
       "    <tr>\n",
       "      <th>3</th>\n",
       "      <td>mexico</td>\n",
       "      <td>budget</td>\n",
       "      <td>jobs</td>\n",
       "      <td>payment</td>\n",
       "      <td>industrial</td>\n",
       "      <td>spain</td>\n",
       "      <td>budget</td>\n",
       "      <td>jobs</td>\n",
       "      <td>british</td>\n",
       "      <td>tonight</td>\n",
       "    </tr>\n",
       "    <tr>\n",
       "      <th>4</th>\n",
       "      <td>islands</td>\n",
       "      <td>programs</td>\n",
       "      <td>program</td>\n",
       "      <td>program</td>\n",
       "      <td>british</td>\n",
       "      <td>silver</td>\n",
       "      <td>program</td>\n",
       "      <td>tonight</td>\n",
       "      <td>tariff</td>\n",
       "      <td>program</td>\n",
       "    </tr>\n",
       "    <tr>\n",
       "      <th>5</th>\n",
       "      <td>tariff</td>\n",
       "      <td>convention</td>\n",
       "      <td>mexico</td>\n",
       "      <td>estimated</td>\n",
       "      <td>help</td>\n",
       "      <td>help</td>\n",
       "      <td>tonight</td>\n",
       "      <td>programs</td>\n",
       "      <td>program</td>\n",
       "      <td>mexico</td>\n",
       "    </tr>\n",
       "    <tr>\n",
       "      <th>6</th>\n",
       "      <td>jobs</td>\n",
       "      <td>mexico</td>\n",
       "      <td>banks</td>\n",
       "      <td>object</td>\n",
       "      <td>americans</td>\n",
       "      <td>currency</td>\n",
       "      <td>minister</td>\n",
       "      <td>budget</td>\n",
       "      <td>help</td>\n",
       "      <td>programs</td>\n",
       "    </tr>\n",
       "    <tr>\n",
       "      <th>7</th>\n",
       "      <td>china</td>\n",
       "      <td>percent</td>\n",
       "      <td>british</td>\n",
       "      <td>district</td>\n",
       "      <td>prices</td>\n",
       "      <td>convention</td>\n",
       "      <td>gold</td>\n",
       "      <td>families</td>\n",
       "      <td>minister</td>\n",
       "      <td>jobs</td>\n",
       "    </tr>\n",
       "    <tr>\n",
       "      <th>8</th>\n",
       "      <td>help</td>\n",
       "      <td>problems</td>\n",
       "      <td>programs</td>\n",
       "      <td>west</td>\n",
       "      <td>products</td>\n",
       "      <td>americans</td>\n",
       "      <td>convention</td>\n",
       "      <td>ve</td>\n",
       "      <td>spain</td>\n",
       "      <td>minister</td>\n",
       "    </tr>\n",
       "    <tr>\n",
       "      <th>9</th>\n",
       "      <td>cent</td>\n",
       "      <td>court</td>\n",
       "      <td>percent</td>\n",
       "      <td>minister</td>\n",
       "      <td>court</td>\n",
       "      <td>minister</td>\n",
       "      <td>court</td>\n",
       "      <td>today</td>\n",
       "      <td>intercourse</td>\n",
       "      <td>today</td>\n",
       "    </tr>\n",
       "  </tbody>\n",
       "</table>\n",
       "</div>"
      ],
      "text/plain": [
       "     Topic_0     Topic_1    Topic_2     Topic_3     Topic_4     Topic_5  \\\n",
       "0     reform        help  americans      mexico     program      mexico   \n",
       "1    program     program      today  convention      mexico       banks   \n",
       "2  americans   americans       help     british      budget        gold   \n",
       "3     mexico      budget       jobs     payment  industrial       spain   \n",
       "4    islands    programs    program     program     british      silver   \n",
       "5     tariff  convention     mexico   estimated        help        help   \n",
       "6       jobs      mexico      banks      object   americans    currency   \n",
       "7      china     percent    british    district      prices  convention   \n",
       "8       help    problems   programs        west    products   americans   \n",
       "9       cent       court    percent    minister       court    minister   \n",
       "\n",
       "      Topic_6    Topic_7      Topic_8    Topic_9  \n",
       "0      mexico       help       mexico  americans  \n",
       "1        help  americans   convention       help  \n",
       "2   americans    program    americans     budget  \n",
       "3      budget       jobs      british    tonight  \n",
       "4     program    tonight       tariff    program  \n",
       "5     tonight   programs      program     mexico  \n",
       "6    minister     budget         help   programs  \n",
       "7        gold   families     minister       jobs  \n",
       "8  convention         ve        spain   minister  \n",
       "9       court      today  intercourse      today  "
      ]
     },
     "execution_count": 31,
     "metadata": {},
     "output_type": "execute_result"
    }
   ],
   "source": [
    "topicsDict = {}\n",
    "for topicNum in range(sotulda1.num_topics):\n",
    "    topicWords = [w for w, p in sotulda1.show_topic(topicNum)]\n",
    "    topicsDict['Topic_{}'.format(topicNum)] = topicWords\n",
    "\n",
    "wordRanksDF = pandas.DataFrame(topicsDict)\n",
    "wordRanksDF"
   ]
  },
  {
   "cell_type": "code",
   "execution_count": 32,
   "metadata": {},
   "outputs": [
    {
     "data": {
      "text/html": [
       "<div>\n",
       "<style scoped>\n",
       "    .dataframe tbody tr th:only-of-type {\n",
       "        vertical-align: middle;\n",
       "    }\n",
       "\n",
       "    .dataframe tbody tr th {\n",
       "        vertical-align: top;\n",
       "    }\n",
       "\n",
       "    .dataframe thead th {\n",
       "        text-align: right;\n",
       "    }\n",
       "</style>\n",
       "<table border=\"1\" class=\"dataframe\">\n",
       "  <thead>\n",
       "    <tr style=\"text-align: right;\">\n",
       "      <th></th>\n",
       "      <th>Topic_0</th>\n",
       "      <th>Topic_1</th>\n",
       "      <th>Topic_2</th>\n",
       "      <th>Topic_3</th>\n",
       "      <th>Topic_4</th>\n",
       "      <th>Topic_5</th>\n",
       "      <th>Topic_6</th>\n",
       "      <th>Topic_7</th>\n",
       "      <th>Topic_8</th>\n",
       "      <th>Topic_9</th>\n",
       "    </tr>\n",
       "  </thead>\n",
       "  <tbody>\n",
       "    <tr>\n",
       "      <th>0</th>\n",
       "      <td>mexico</td>\n",
       "      <td>program</td>\n",
       "      <td>banks</td>\n",
       "      <td>help</td>\n",
       "      <td>program</td>\n",
       "      <td>spain</td>\n",
       "      <td>bank</td>\n",
       "      <td>help</td>\n",
       "      <td>mexico</td>\n",
       "      <td>americans</td>\n",
       "    </tr>\n",
       "    <tr>\n",
       "      <th>1</th>\n",
       "      <td>spain</td>\n",
       "      <td>mexico</td>\n",
       "      <td>court</td>\n",
       "      <td>mexico</td>\n",
       "      <td>mexico</td>\n",
       "      <td>mexico</td>\n",
       "      <td>program</td>\n",
       "      <td>americans</td>\n",
       "      <td>americans</td>\n",
       "      <td>help</td>\n",
       "    </tr>\n",
       "    <tr>\n",
       "      <th>2</th>\n",
       "      <td>british</td>\n",
       "      <td>convention</td>\n",
       "      <td>tariff</td>\n",
       "      <td>budget</td>\n",
       "      <td>americans</td>\n",
       "      <td>gold</td>\n",
       "      <td>help</td>\n",
       "      <td>budget</td>\n",
       "      <td>help</td>\n",
       "      <td>today</td>\n",
       "    </tr>\n",
       "    <tr>\n",
       "      <th>3</th>\n",
       "      <td>tariff</td>\n",
       "      <td>gold</td>\n",
       "      <td>islands</td>\n",
       "      <td>program</td>\n",
       "      <td>tariff</td>\n",
       "      <td>convention</td>\n",
       "      <td>mexico</td>\n",
       "      <td>program</td>\n",
       "      <td>british</td>\n",
       "      <td>tonight</td>\n",
       "    </tr>\n",
       "    <tr>\n",
       "      <th>4</th>\n",
       "      <td>gold</td>\n",
       "      <td>programs</td>\n",
       "      <td>cent</td>\n",
       "      <td>americans</td>\n",
       "      <td>products</td>\n",
       "      <td>cent</td>\n",
       "      <td>americans</td>\n",
       "      <td>mexico</td>\n",
       "      <td>jobs</td>\n",
       "      <td>budget</td>\n",
       "    </tr>\n",
       "    <tr>\n",
       "      <th>5</th>\n",
       "      <td>minister</td>\n",
       "      <td>budget</td>\n",
       "      <td>program</td>\n",
       "      <td>today</td>\n",
       "      <td>industrial</td>\n",
       "      <td>british</td>\n",
       "      <td>indians</td>\n",
       "      <td>today</td>\n",
       "      <td>reform</td>\n",
       "      <td>program</td>\n",
       "    </tr>\n",
       "    <tr>\n",
       "      <th>6</th>\n",
       "      <td>intercourse</td>\n",
       "      <td>help</td>\n",
       "      <td>help</td>\n",
       "      <td>spain</td>\n",
       "      <td>cent</td>\n",
       "      <td>islands</td>\n",
       "      <td>convention</td>\n",
       "      <td>convention</td>\n",
       "      <td>minister</td>\n",
       "      <td>jobs</td>\n",
       "    </tr>\n",
       "    <tr>\n",
       "      <th>7</th>\n",
       "      <td>help</td>\n",
       "      <td>spain</td>\n",
       "      <td>british</td>\n",
       "      <td>reform</td>\n",
       "      <td>convention</td>\n",
       "      <td>china</td>\n",
       "      <td>payment</td>\n",
       "      <td>texas</td>\n",
       "      <td>convention</td>\n",
       "      <td>programs</td>\n",
       "    </tr>\n",
       "    <tr>\n",
       "      <th>8</th>\n",
       "      <td>silver</td>\n",
       "      <td>bank</td>\n",
       "      <td>tonight</td>\n",
       "      <td>gold</td>\n",
       "      <td>recommendations</td>\n",
       "      <td>program</td>\n",
       "      <td>reform</td>\n",
       "      <td>programs</td>\n",
       "      <td>spain</td>\n",
       "      <td>problems</td>\n",
       "    </tr>\n",
       "    <tr>\n",
       "      <th>9</th>\n",
       "      <td>program</td>\n",
       "      <td>minister</td>\n",
       "      <td>coast</td>\n",
       "      <td>jobs</td>\n",
       "      <td>help</td>\n",
       "      <td>estimated</td>\n",
       "      <td>jobs</td>\n",
       "      <td>minister</td>\n",
       "      <td>enemy</td>\n",
       "      <td>ve</td>\n",
       "    </tr>\n",
       "  </tbody>\n",
       "</table>\n",
       "</div>"
      ],
      "text/plain": [
       "       Topic_0     Topic_1  Topic_2    Topic_3          Topic_4     Topic_5  \\\n",
       "0       mexico     program    banks       help          program       spain   \n",
       "1        spain      mexico    court     mexico           mexico      mexico   \n",
       "2      british  convention   tariff     budget        americans        gold   \n",
       "3       tariff        gold  islands    program           tariff  convention   \n",
       "4         gold    programs     cent  americans         products        cent   \n",
       "5     minister      budget  program      today       industrial     british   \n",
       "6  intercourse        help     help      spain             cent     islands   \n",
       "7         help       spain  british     reform       convention       china   \n",
       "8       silver        bank  tonight       gold  recommendations     program   \n",
       "9      program    minister    coast       jobs             help   estimated   \n",
       "\n",
       "      Topic_6     Topic_7     Topic_8    Topic_9  \n",
       "0        bank        help      mexico  americans  \n",
       "1     program   americans   americans       help  \n",
       "2        help      budget        help      today  \n",
       "3      mexico     program     british    tonight  \n",
       "4   americans      mexico        jobs     budget  \n",
       "5     indians       today      reform    program  \n",
       "6  convention  convention    minister       jobs  \n",
       "7     payment       texas  convention   programs  \n",
       "8      reform    programs       spain   problems  \n",
       "9        jobs    minister       enemy         ve  "
      ]
     },
     "execution_count": 32,
     "metadata": {},
     "output_type": "execute_result"
    }
   ],
   "source": [
    "topicsDict = {}\n",
    "for topicNum in range(sotulda2.num_topics):\n",
    "    topicWords = [w for w, p in sotulda2.show_topic(topicNum)]\n",
    "    topicsDict['Topic_{}'.format(topicNum)] = topicWords\n",
    "\n",
    "wordRanksDF = pandas.DataFrame(topicsDict)\n",
    "wordRanksDF"
   ]
  },
  {
   "cell_type": "markdown",
   "metadata": {},
   "source": [
    "When $\\eta$ is larger, it seems that the topics have a smoother distribution of weight across the words. However, by changing $\\eta$, we don't see much inprovement in verifying our previous hypothesis. We then want to change $\\alpha$ instead, which controls the topic weights in each document."
   ]
  },
  {
   "cell_type": "code",
   "execution_count": 33,
   "metadata": {},
   "outputs": [],
   "source": [
    "sotulda3 = gensim.models.ldamodel.LdaModel(corpus=sotumm, id2word=dictionary, num_topics=10, alpha = 0.00001)"
   ]
  },
  {
   "cell_type": "code",
   "execution_count": 34,
   "metadata": {},
   "outputs": [],
   "source": [
    "ldaDF3 = pandas.DataFrame({\n",
    "        'president' : df['president'],\n",
    "        'year': df['year'],\n",
    "        'topics' : [sotulda3[dictionary.doc2bow(l)] for l in df['reduced_tokens']]\n",
    "    })\n",
    "\n",
    "#Dict to temporally hold the probabilities\n",
    "topicsProbDict = {i : [0] * len(ldaDF3) for i in range(sotulda3.num_topics)}\n",
    "\n",
    "#Load them into the dict\n",
    "for index, topicTuples in enumerate(ldaDF3['topics']):\n",
    "    for topicNum, prob in topicTuples:\n",
    "        topicsProbDict[topicNum][index] = prob\n",
    "\n",
    "#Update the DataFrame\n",
    "for topicNum in range(sotulda3.num_topics):\n",
    "    ldaDF3['topic_{}'.format(topicNum)] = topicsProbDict[topicNum]\n",
    "\n",
    "ldaDF3.sort_values(by='year', inplace=True)"
   ]
  },
  {
   "cell_type": "code",
   "execution_count": 35,
   "metadata": {},
   "outputs": [],
   "source": [
    "ldaDFV = ldaDF3[:10][['topic_%d' %x for x in range(10)]]\n",
    "ldaDFVisN = ldaDF3[:10][['year']]\n",
    "# debug\n",
    "ldaDFVis = ldaDFV.values\n",
    "ldaDFVisNames = ldaDFVisN.values"
   ]
  },
  {
   "cell_type": "code",
   "execution_count": 36,
   "metadata": {},
   "outputs": [
    {
     "data": {
      "image/png": "[encoded data removed]",
      "text/plain": [
       "<Figure size 432x288 with 2 Axes>"
      ]
     },
     "metadata": {
      "needs_background": "light"
     },
     "output_type": "display_data"
    }
   ],
   "source": [
    "plt.pcolor(ldaDFVis, norm=None, cmap='Blues')\n",
    "plt.yticks(np.arange(ldaDFVis.shape[0])+0.5, ldaDFVisNames);\n",
    "plt.xticks(np.arange(ldaDFVis.shape[1])+0.5, topic_labels);\n",
    "\n",
    "# flip the y-axis so the texts are in the order we anticipate (Austen first, then Brontë)\n",
    "plt.gca().invert_yaxis()\n",
    "\n",
    "# rotate the ticks on the x-axis\n",
    "plt.xticks(rotation=90)\n",
    "\n",
    "# add a legend\n",
    "plt.colorbar(cmap='Blues')\n",
    "plt.tight_layout()  # fixes margins\n",
    "plt.show()"
   ]
  },
  {
   "cell_type": "code",
   "execution_count": 37,
   "metadata": {},
   "outputs": [],
   "source": [
    "sotulda4 = gensim.models.ldamodel.LdaModel(corpus=sotumm, id2word=dictionary, num_topics=10, alpha = 0.9)"
   ]
  },
  {
   "cell_type": "code",
   "execution_count": 38,
   "metadata": {},
   "outputs": [],
   "source": [
    "ldaDF4 = pandas.DataFrame({\n",
    "        'president' : df['president'],\n",
    "        'year': df['year'],\n",
    "        'topics' : [sotulda4[dictionary.doc2bow(l)] for l in df['reduced_tokens']]\n",
    "    })\n",
    "\n",
    "#Dict to temporally hold the probabilities\n",
    "topicsProbDict = {i : [0] * len(ldaDF4) for i in range(sotulda4.num_topics)}\n",
    "\n",
    "#Load them into the dict\n",
    "for index, topicTuples in enumerate(ldaDF4['topics']):\n",
    "    for topicNum, prob in topicTuples:\n",
    "        topicsProbDict[topicNum][index] = prob\n",
    "\n",
    "#Update the DataFrame\n",
    "for topicNum in range(sotulda4.num_topics):\n",
    "    ldaDF4['topic_{}'.format(topicNum)] = topicsProbDict[topicNum]\n",
    "\n",
    "ldaDF4.sort_values(by='year', inplace=True)"
   ]
  },
  {
   "cell_type": "code",
   "execution_count": 39,
   "metadata": {},
   "outputs": [],
   "source": [
    "ldaDFV = ldaDF4[:10][['topic_%d' %x for x in range(10)]]\n",
    "ldaDFVisN = ldaDF4[:10][['year']]\n",
    "# debug\n",
    "ldaDFVis = ldaDFV.values\n",
    "ldaDFVisNames = ldaDFVisN.values"
   ]
  },
  {
   "cell_type": "code",
   "execution_count": 40,
   "metadata": {},
   "outputs": [
    {
     "data": {
      "image/png": "[encoded data removed]",
      "text/plain": [
       "<Figure size 432x288 with 2 Axes>"
      ]
     },
     "metadata": {
      "needs_background": "light"
     },
     "output_type": "display_data"
    }
   ],
   "source": [
    "plt.pcolor(ldaDFVis, norm=None, cmap='Blues')\n",
    "plt.yticks(np.arange(ldaDFVis.shape[0])+0.5, ldaDFVisNames);\n",
    "plt.xticks(np.arange(ldaDFVis.shape[1])+0.5, topic_labels);\n",
    "\n",
    "# flip the y-axis so the texts are in the order we anticipate (Austen first, then Brontë)\n",
    "plt.gca().invert_yaxis()\n",
    "\n",
    "# rotate the ticks on the x-axis\n",
    "plt.xticks(rotation=90)\n",
    "\n",
    "# add a legend\n",
    "plt.colorbar(cmap='Blues')\n",
    "plt.tight_layout()  # fixes margins\n",
    "plt.show()"
   ]
  },
  {
   "cell_type": "code",
   "execution_count": 41,
   "metadata": {},
   "outputs": [
    {
     "data": {
      "text/html": [
       "<div>\n",
       "<style scoped>\n",
       "    .dataframe tbody tr th:only-of-type {\n",
       "        vertical-align: middle;\n",
       "    }\n",
       "\n",
       "    .dataframe tbody tr th {\n",
       "        vertical-align: top;\n",
       "    }\n",
       "\n",
       "    .dataframe thead th {\n",
       "        text-align: right;\n",
       "    }\n",
       "</style>\n",
       "<table border=\"1\" class=\"dataframe\">\n",
       "  <thead>\n",
       "    <tr style=\"text-align: right;\">\n",
       "      <th></th>\n",
       "      <th>Topic_0</th>\n",
       "      <th>Topic_1</th>\n",
       "      <th>Topic_2</th>\n",
       "      <th>Topic_3</th>\n",
       "      <th>Topic_4</th>\n",
       "      <th>Topic_5</th>\n",
       "      <th>Topic_6</th>\n",
       "      <th>Topic_7</th>\n",
       "      <th>Topic_8</th>\n",
       "      <th>Topic_9</th>\n",
       "    </tr>\n",
       "  </thead>\n",
       "  <tbody>\n",
       "    <tr>\n",
       "      <th>0</th>\n",
       "      <td>americans</td>\n",
       "      <td>mexico</td>\n",
       "      <td>americans</td>\n",
       "      <td>program</td>\n",
       "      <td>mexico</td>\n",
       "      <td>americans</td>\n",
       "      <td>help</td>\n",
       "      <td>mexico</td>\n",
       "      <td>mexico</td>\n",
       "      <td>mexico</td>\n",
       "    </tr>\n",
       "    <tr>\n",
       "      <th>1</th>\n",
       "      <td>help</td>\n",
       "      <td>program</td>\n",
       "      <td>program</td>\n",
       "      <td>americans</td>\n",
       "      <td>convention</td>\n",
       "      <td>help</td>\n",
       "      <td>americans</td>\n",
       "      <td>british</td>\n",
       "      <td>gold</td>\n",
       "      <td>intercourse</td>\n",
       "    </tr>\n",
       "    <tr>\n",
       "      <th>2</th>\n",
       "      <td>today</td>\n",
       "      <td>spain</td>\n",
       "      <td>mexico</td>\n",
       "      <td>help</td>\n",
       "      <td>americans</td>\n",
       "      <td>islands</td>\n",
       "      <td>tonight</td>\n",
       "      <td>help</td>\n",
       "      <td>cent</td>\n",
       "      <td>spain</td>\n",
       "    </tr>\n",
       "    <tr>\n",
       "      <th>3</th>\n",
       "      <td>families</td>\n",
       "      <td>tariff</td>\n",
       "      <td>today</td>\n",
       "      <td>jobs</td>\n",
       "      <td>spain</td>\n",
       "      <td>court</td>\n",
       "      <td>program</td>\n",
       "      <td>bank</td>\n",
       "      <td>indians</td>\n",
       "      <td>minister</td>\n",
       "    </tr>\n",
       "    <tr>\n",
       "      <th>4</th>\n",
       "      <td>budget</td>\n",
       "      <td>convention</td>\n",
       "      <td>convention</td>\n",
       "      <td>mexico</td>\n",
       "      <td>gold</td>\n",
       "      <td>jobs</td>\n",
       "      <td>budget</td>\n",
       "      <td>minister</td>\n",
       "      <td>silver</td>\n",
       "      <td>convention</td>\n",
       "    </tr>\n",
       "    <tr>\n",
       "      <th>5</th>\n",
       "      <td>jobs</td>\n",
       "      <td>british</td>\n",
       "      <td>budget</td>\n",
       "      <td>programs</td>\n",
       "      <td>help</td>\n",
       "      <td>mexico</td>\n",
       "      <td>programs</td>\n",
       "      <td>program</td>\n",
       "      <td>estimated</td>\n",
       "      <td>ports</td>\n",
       "    </tr>\n",
       "    <tr>\n",
       "      <th>6</th>\n",
       "      <td>tonight</td>\n",
       "      <td>post</td>\n",
       "      <td>help</td>\n",
       "      <td>tonight</td>\n",
       "      <td>appointed</td>\n",
       "      <td>cuba</td>\n",
       "      <td>today</td>\n",
       "      <td>convention</td>\n",
       "      <td>tariff</td>\n",
       "      <td>british</td>\n",
       "    </tr>\n",
       "    <tr>\n",
       "      <th>7</th>\n",
       "      <td>ve</td>\n",
       "      <td>banks</td>\n",
       "      <td>industrial</td>\n",
       "      <td>budget</td>\n",
       "      <td>banks</td>\n",
       "      <td>program</td>\n",
       "      <td>mexico</td>\n",
       "      <td>object</td>\n",
       "      <td>americans</td>\n",
       "      <td>estimated</td>\n",
       "    </tr>\n",
       "    <tr>\n",
       "      <th>8</th>\n",
       "      <td>program</td>\n",
       "      <td>board</td>\n",
       "      <td>tariff</td>\n",
       "      <td>today</td>\n",
       "      <td>minister</td>\n",
       "      <td>ve</td>\n",
       "      <td>problems</td>\n",
       "      <td>banks</td>\n",
       "      <td>help</td>\n",
       "      <td>district</td>\n",
       "    </tr>\n",
       "    <tr>\n",
       "      <th>9</th>\n",
       "      <td>reform</td>\n",
       "      <td>cent</td>\n",
       "      <td>surplus</td>\n",
       "      <td>reform</td>\n",
       "      <td>tariff</td>\n",
       "      <td>banks</td>\n",
       "      <td>nuclear</td>\n",
       "      <td>budget</td>\n",
       "      <td>treaties</td>\n",
       "      <td>object</td>\n",
       "    </tr>\n",
       "  </tbody>\n",
       "</table>\n",
       "</div>"
      ],
      "text/plain": [
       "     Topic_0     Topic_1     Topic_2    Topic_3     Topic_4    Topic_5  \\\n",
       "0  americans      mexico   americans    program      mexico  americans   \n",
       "1       help     program     program  americans  convention       help   \n",
       "2      today       spain      mexico       help   americans    islands   \n",
       "3   families      tariff       today       jobs       spain      court   \n",
       "4     budget  convention  convention     mexico        gold       jobs   \n",
       "5       jobs     british      budget   programs        help     mexico   \n",
       "6    tonight        post        help    tonight   appointed       cuba   \n",
       "7         ve       banks  industrial     budget       banks    program   \n",
       "8    program       board      tariff      today    minister         ve   \n",
       "9     reform        cent     surplus     reform      tariff      banks   \n",
       "\n",
       "     Topic_6     Topic_7    Topic_8      Topic_9  \n",
       "0       help      mexico     mexico       mexico  \n",
       "1  americans     british       gold  intercourse  \n",
       "2    tonight        help       cent        spain  \n",
       "3    program        bank    indians     minister  \n",
       "4     budget    minister     silver   convention  \n",
       "5   programs     program  estimated        ports  \n",
       "6      today  convention     tariff      british  \n",
       "7     mexico      object  americans    estimated  \n",
       "8   problems       banks       help     district  \n",
       "9    nuclear      budget   treaties       object  "
      ]
     },
     "execution_count": 41,
     "metadata": {},
     "output_type": "execute_result"
    }
   ],
   "source": [
    "topicsDict = {}\n",
    "for topicNum in range(sotulda3.num_topics):\n",
    "    topicWords = [w for w, p in sotulda3.show_topic(topicNum)]\n",
    "    topicsDict['Topic_{}'.format(topicNum)] = topicWords\n",
    "\n",
    "wordRanksDF = pandas.DataFrame(topicsDict)\n",
    "wordRanksDF"
   ]
  },
  {
   "cell_type": "code",
   "execution_count": 42,
   "metadata": {},
   "outputs": [
    {
     "data": {
      "text/html": [
       "<div>\n",
       "<style scoped>\n",
       "    .dataframe tbody tr th:only-of-type {\n",
       "        vertical-align: middle;\n",
       "    }\n",
       "\n",
       "    .dataframe tbody tr th {\n",
       "        vertical-align: top;\n",
       "    }\n",
       "\n",
       "    .dataframe thead th {\n",
       "        text-align: right;\n",
       "    }\n",
       "</style>\n",
       "<table border=\"1\" class=\"dataframe\">\n",
       "  <thead>\n",
       "    <tr style=\"text-align: right;\">\n",
       "      <th></th>\n",
       "      <th>Topic_0</th>\n",
       "      <th>Topic_1</th>\n",
       "      <th>Topic_2</th>\n",
       "      <th>Topic_3</th>\n",
       "      <th>Topic_4</th>\n",
       "      <th>Topic_5</th>\n",
       "      <th>Topic_6</th>\n",
       "      <th>Topic_7</th>\n",
       "      <th>Topic_8</th>\n",
       "      <th>Topic_9</th>\n",
       "    </tr>\n",
       "  </thead>\n",
       "  <tbody>\n",
       "    <tr>\n",
       "      <th>0</th>\n",
       "      <td>mexico</td>\n",
       "      <td>mexico</td>\n",
       "      <td>mexico</td>\n",
       "      <td>americans</td>\n",
       "      <td>mexico</td>\n",
       "      <td>help</td>\n",
       "      <td>mexico</td>\n",
       "      <td>help</td>\n",
       "      <td>convention</td>\n",
       "      <td>americans</td>\n",
       "    </tr>\n",
       "    <tr>\n",
       "      <th>1</th>\n",
       "      <td>program</td>\n",
       "      <td>program</td>\n",
       "      <td>texas</td>\n",
       "      <td>help</td>\n",
       "      <td>british</td>\n",
       "      <td>americans</td>\n",
       "      <td>help</td>\n",
       "      <td>americans</td>\n",
       "      <td>court</td>\n",
       "      <td>help</td>\n",
       "    </tr>\n",
       "    <tr>\n",
       "      <th>2</th>\n",
       "      <td>americans</td>\n",
       "      <td>jobs</td>\n",
       "      <td>british</td>\n",
       "      <td>spain</td>\n",
       "      <td>minister</td>\n",
       "      <td>program</td>\n",
       "      <td>convention</td>\n",
       "      <td>program</td>\n",
       "      <td>program</td>\n",
       "      <td>today</td>\n",
       "    </tr>\n",
       "    <tr>\n",
       "      <th>3</th>\n",
       "      <td>today</td>\n",
       "      <td>help</td>\n",
       "      <td>convention</td>\n",
       "      <td>program</td>\n",
       "      <td>convention</td>\n",
       "      <td>tonight</td>\n",
       "      <td>gold</td>\n",
       "      <td>budget</td>\n",
       "      <td>mexico</td>\n",
       "      <td>tonight</td>\n",
       "    </tr>\n",
       "    <tr>\n",
       "      <th>4</th>\n",
       "      <td>banks</td>\n",
       "      <td>tariff</td>\n",
       "      <td>spain</td>\n",
       "      <td>today</td>\n",
       "      <td>estimated</td>\n",
       "      <td>jobs</td>\n",
       "      <td>banks</td>\n",
       "      <td>tonight</td>\n",
       "      <td>minister</td>\n",
       "      <td>budget</td>\n",
       "    </tr>\n",
       "    <tr>\n",
       "      <th>5</th>\n",
       "      <td>cent</td>\n",
       "      <td>convention</td>\n",
       "      <td>help</td>\n",
       "      <td>mexico</td>\n",
       "      <td>france</td>\n",
       "      <td>ve</td>\n",
       "      <td>currency</td>\n",
       "      <td>programs</td>\n",
       "      <td>british</td>\n",
       "      <td>families</td>\n",
       "    </tr>\n",
       "    <tr>\n",
       "      <th>6</th>\n",
       "      <td>convention</td>\n",
       "      <td>americans</td>\n",
       "      <td>americans</td>\n",
       "      <td>reform</td>\n",
       "      <td>americans</td>\n",
       "      <td>budget</td>\n",
       "      <td>program</td>\n",
       "      <td>jobs</td>\n",
       "      <td>help</td>\n",
       "      <td>jobs</td>\n",
       "    </tr>\n",
       "    <tr>\n",
       "      <th>7</th>\n",
       "      <td>tariff</td>\n",
       "      <td>british</td>\n",
       "      <td>estimated</td>\n",
       "      <td>islands</td>\n",
       "      <td>tariff</td>\n",
       "      <td>programs</td>\n",
       "      <td>tariff</td>\n",
       "      <td>today</td>\n",
       "      <td>gold</td>\n",
       "      <td>mexico</td>\n",
       "    </tr>\n",
       "    <tr>\n",
       "      <th>8</th>\n",
       "      <td>court</td>\n",
       "      <td>intercourse</td>\n",
       "      <td>program</td>\n",
       "      <td>gold</td>\n",
       "      <td>intercourse</td>\n",
       "      <td>percent</td>\n",
       "      <td>bank</td>\n",
       "      <td>major</td>\n",
       "      <td>courts</td>\n",
       "      <td>program</td>\n",
       "    </tr>\n",
       "    <tr>\n",
       "      <th>9</th>\n",
       "      <td>british</td>\n",
       "      <td>minister</td>\n",
       "      <td>ships</td>\n",
       "      <td>families</td>\n",
       "      <td>program</td>\n",
       "      <td>families</td>\n",
       "      <td>post</td>\n",
       "      <td>families</td>\n",
       "      <td>reform</td>\n",
       "      <td>ve</td>\n",
       "    </tr>\n",
       "  </tbody>\n",
       "</table>\n",
       "</div>"
      ],
      "text/plain": [
       "      Topic_0      Topic_1     Topic_2    Topic_3      Topic_4    Topic_5  \\\n",
       "0      mexico       mexico      mexico  americans       mexico       help   \n",
       "1     program      program       texas       help      british  americans   \n",
       "2   americans         jobs     british      spain     minister    program   \n",
       "3       today         help  convention    program   convention    tonight   \n",
       "4       banks       tariff       spain      today    estimated       jobs   \n",
       "5        cent   convention        help     mexico       france         ve   \n",
       "6  convention    americans   americans     reform    americans     budget   \n",
       "7      tariff      british   estimated    islands       tariff   programs   \n",
       "8       court  intercourse     program       gold  intercourse    percent   \n",
       "9     british     minister       ships   families      program   families   \n",
       "\n",
       "      Topic_6    Topic_7     Topic_8    Topic_9  \n",
       "0      mexico       help  convention  americans  \n",
       "1        help  americans       court       help  \n",
       "2  convention    program     program      today  \n",
       "3        gold     budget      mexico    tonight  \n",
       "4       banks    tonight    minister     budget  \n",
       "5    currency   programs     british   families  \n",
       "6     program       jobs        help       jobs  \n",
       "7      tariff      today        gold     mexico  \n",
       "8        bank      major      courts    program  \n",
       "9        post   families      reform         ve  "
      ]
     },
     "execution_count": 42,
     "metadata": {},
     "output_type": "execute_result"
    }
   ],
   "source": [
    "topicsDict = {}\n",
    "for topicNum in range(sotulda4.num_topics):\n",
    "    topicWords = [w for w, p in sotulda4.show_topic(topicNum)]\n",
    "    topicsDict['Topic_{}'.format(topicNum)] = topicWords\n",
    "\n",
    "wordRanksDF = pandas.DataFrame(topicsDict)\n",
    "wordRanksDF"
   ]
  },
  {
   "cell_type": "markdown",
   "metadata": {},
   "source": [
    "By changing $\\alpha$, we successfully alter the weight of topics acorss documents. When $\\alpha$ increases, topics will be more evenly distributed in each document. Topic 2 is always dominent. The topics still does not distinguish from each other. This may because our topics are very similar to each other, which made chaning $\\alpha$ not a very good approach.\n",
    "\n",
    "Again, the words in each topics are not informative nor can the words verify our hypothesis. It may be true that our hypothesis of there are 10 topics was wrong. Based on observation in clustering, there are only 2 clusters. Thus, it may be fair to infer that there are only two topics in the State of the Union: international and domestic affairs. Therefore, we change the number of topics to 2 and see what will happen. "
   ]
  },
  {
   "cell_type": "code",
   "execution_count": 43,
   "metadata": {},
   "outputs": [],
   "source": [
    "sotulda5 = gensim.models.ldamodel.LdaModel(corpus=sotumm, id2word=dictionary, num_topics=2)"
   ]
  },
  {
   "cell_type": "code",
   "execution_count": 44,
   "metadata": {},
   "outputs": [
    {
     "data": {
      "text/html": [
       "<div>\n",
       "<style scoped>\n",
       "    .dataframe tbody tr th:only-of-type {\n",
       "        vertical-align: middle;\n",
       "    }\n",
       "\n",
       "    .dataframe tbody tr th {\n",
       "        vertical-align: top;\n",
       "    }\n",
       "\n",
       "    .dataframe thead th {\n",
       "        text-align: right;\n",
       "    }\n",
       "</style>\n",
       "<table border=\"1\" class=\"dataframe\">\n",
       "  <thead>\n",
       "    <tr style=\"text-align: right;\">\n",
       "      <th></th>\n",
       "      <th>Topic_0</th>\n",
       "      <th>Topic_1</th>\n",
       "    </tr>\n",
       "  </thead>\n",
       "  <tbody>\n",
       "    <tr>\n",
       "      <th>0</th>\n",
       "      <td>mexico</td>\n",
       "      <td>americans</td>\n",
       "    </tr>\n",
       "    <tr>\n",
       "      <th>1</th>\n",
       "      <td>convention</td>\n",
       "      <td>help</td>\n",
       "    </tr>\n",
       "    <tr>\n",
       "      <th>2</th>\n",
       "      <td>help</td>\n",
       "      <td>program</td>\n",
       "    </tr>\n",
       "    <tr>\n",
       "      <th>3</th>\n",
       "      <td>program</td>\n",
       "      <td>budget</td>\n",
       "    </tr>\n",
       "    <tr>\n",
       "      <th>4</th>\n",
       "      <td>british</td>\n",
       "      <td>today</td>\n",
       "    </tr>\n",
       "    <tr>\n",
       "      <th>5</th>\n",
       "      <td>minister</td>\n",
       "      <td>jobs</td>\n",
       "    </tr>\n",
       "    <tr>\n",
       "      <th>6</th>\n",
       "      <td>cent</td>\n",
       "      <td>mexico</td>\n",
       "    </tr>\n",
       "    <tr>\n",
       "      <th>7</th>\n",
       "      <td>court</td>\n",
       "      <td>tonight</td>\n",
       "    </tr>\n",
       "    <tr>\n",
       "      <th>8</th>\n",
       "      <td>intercourse</td>\n",
       "      <td>gold</td>\n",
       "    </tr>\n",
       "    <tr>\n",
       "      <th>9</th>\n",
       "      <td>americans</td>\n",
       "      <td>programs</td>\n",
       "    </tr>\n",
       "  </tbody>\n",
       "</table>\n",
       "</div>"
      ],
      "text/plain": [
       "       Topic_0    Topic_1\n",
       "0       mexico  americans\n",
       "1   convention       help\n",
       "2         help    program\n",
       "3      program     budget\n",
       "4      british      today\n",
       "5     minister       jobs\n",
       "6         cent     mexico\n",
       "7        court    tonight\n",
       "8  intercourse       gold\n",
       "9    americans   programs"
      ]
     },
     "execution_count": 44,
     "metadata": {},
     "output_type": "execute_result"
    }
   ],
   "source": [
    "topicsDict = {}\n",
    "for topicNum in range(sotulda5.num_topics):\n",
    "    topicWords = [w for w, p in sotulda5.show_topic(topicNum)]\n",
    "    topicsDict['Topic_{}'.format(topicNum)] = topicWords\n",
    "\n",
    "wordRanksDF = pandas.DataFrame(topicsDict)\n",
    "wordRanksDF"
   ]
  },
  {
   "cell_type": "markdown",
   "metadata": {},
   "source": [
    "I also tried different number of topics, but in general, the topics are telling us less than the k-means algorithm or the ward's method. It looks like most topics are about americans, some helping program, and some economic issues. The altered versions performs worse than the auto selected parameters. "
   ]
  },
  {
   "cell_type": "code",
   "execution_count": 45,
   "metadata": {},
   "outputs": [],
   "source": [
    "# we want to cluster with topics\n",
    "X = sotuTFVects.toarray()\n",
    "df_a = pandas.DataFrame(X)\n",
    "df_b = ldaDF[['topic_%d' %x for x in range(10)]]\n",
    "\n",
    "new_df = pandas.concat([df_a.reset_index(drop=True), df_b.reset_index(drop=True)], axis=1)\n",
    "new_X = new_df.values"
   ]
  },
  {
   "cell_type": "code",
   "execution_count": 46,
   "metadata": {},
   "outputs": [],
   "source": [
    "# caculate PCA\n",
    "pca = sklearn.decomposition.PCA(n_components = 2).fit(new_X)\n",
    "reduced_data = pca.transform(new_X)"
   ]
  },
  {
   "cell_type": "code",
   "execution_count": 47,
   "metadata": {},
   "outputs": [
    {
     "name": "stderr",
     "output_type": "stream",
     "text": [
      "*c* argument looks like a single numeric RGB or RGBA sequence, which should be avoided as value-mapping will have precedence in case its length matches with *x* & *y*.  Please use the *color* keyword-argument or provide a 2D array with a single row if you intend to specify the same RGB or RGBA value for all points.\n"
     ]
    },
    {
     "data": {
      "image/png": "[encoded data removed]",
      "text/plain": [
       "<Figure size 1080x360 with 2 Axes>"
      ]
     },
     "metadata": {
      "needs_background": "light"
     },
     "output_type": "display_data"
    },
    {
     "name": "stdout",
     "output_type": "stream",
     "text": [
      "For n_clusters = 2, The average silhouette_score is : 0.140\n"
     ]
    }
   ],
   "source": [
    "# find the new silhouette score and visualize\n",
    "plotSilhouette(2, new_X)"
   ]
  },
  {
   "cell_type": "markdown",
   "metadata": {},
   "source": [
    "Recall that our silhouette score for 2-cluster k-means is 0.124, and our silhouette score for 2-cluster wald's method is 0.123.\n",
    "\n",
    "We can see that by adding topic loadings as an additional set of features, the silhouette coefficient increases significantly."
   ]
  },
  {
   "cell_type": "markdown",
   "metadata": {},
   "source": [
    "## Extending Topic Models within broader research pipelines\n",
    "\n",
    "Topic models can be the base of more complex analysis. One good example is the paper - Individuals, institutions, and innovation in the debates of the French Revolution (https://www.pnas.org/content/115/18/4607), where they use topic models to find similarities and differences between the topics of different individuals. Let us revisit this idea using the Soap opera database. Who innovates and influences the most within the Soap?\n",
    "\n",
    "The next few lines of code follows the same process as last weeks notebook. Please visit the old notebook to read descriptions of the code if you have forgotten what it does. `lucem_illud.loadDavies` can be found in [loaders.py](https://github.com/UChicago-Computational-Content-Analysis/lucem_illud/blob/main/lucem_illud/loaders.py)."
   ]
  },
  {
   "cell_type": "code",
   "execution_count": null,
   "metadata": {},
   "outputs": [],
   "source": [
    "corpora_address = \"/Users/luzhang/Desktop/UChi/2022 Winter/SOCI 40133/data/SOAP\""
   ]
  },
  {
   "cell_type": "code",
   "execution_count": null,
   "metadata": {},
   "outputs": [],
   "source": [
    "soap_texts = lucem_illud.loadDavies(corpora_address, num_files=2000)"
   ]
  },
  {
   "cell_type": "code",
   "execution_count": null,
   "metadata": {},
   "outputs": [],
   "source": [
    "import zipfile\n",
    "import pandas as pd"
   ]
  },
  {
   "cell_type": "code",
   "execution_count": null,
   "metadata": {},
   "outputs": [],
   "source": [
    "zfile = zipfile.ZipFile(corpora_address + \"/soap_sources.zip\")\n",
    "source = []"
   ]
  },
  {
   "cell_type": "code",
   "execution_count": null,
   "metadata": {},
   "outputs": [],
   "source": [
    "for file in zfile.namelist():\n",
    "    with zfile.open(file) as f:\n",
    "        for line in f:\n",
    "            source.append(line)"
   ]
  },
  {
   "cell_type": "code",
   "execution_count": null,
   "metadata": {},
   "outputs": [],
   "source": [
    "soap_dict = {}"
   ]
  },
  {
   "cell_type": "code",
   "execution_count": null,
   "metadata": {},
   "outputs": [],
   "source": [
    "for soap in source[3:]:\n",
    "    try:\n",
    "        textID, year, show, url = soap.decode(\"utf-8\").split(\"\\t\")\n",
    "    except UnicodeDecodeError:\n",
    "        continue\n",
    "    if show.strip() not in soap_dict:\n",
    "        soap_dict[show.strip()] = []\n",
    "    if show.strip() in soap_dict:\n",
    "        try:\n",
    "            soap_dict[show.strip()].append(soap_texts[textID.strip()])\n",
    "        except KeyError:\n",
    "            continue"
   ]
  },
  {
   "cell_type": "code",
   "execution_count": null,
   "metadata": {},
   "outputs": [],
   "source": [
    "soap_dict.keys()"
   ]
  },
  {
   "cell_type": "code",
   "execution_count": null,
   "metadata": {},
   "outputs": [],
   "source": [
    "soap_df = pd.DataFrame(columns=[\"Soap Name\", \"Tokenized Texts\"])"
   ]
  },
  {
   "cell_type": "code",
   "execution_count": null,
   "metadata": {},
   "outputs": [],
   "source": [
    "i = 0"
   ]
  },
  {
   "cell_type": "code",
   "execution_count": null,
   "metadata": {},
   "outputs": [],
   "source": [
    "for soap in soap_dict:\n",
    "    # since there were multiple lists\n",
    "    print(soap)\n",
    "    full_script = []\n",
    "    for part in soap_dict[soap]:\n",
    "        full_script = full_script + part\n",
    "    soap_df.loc[i] = [soap, full_script]\n",
    "    i += 1"
   ]
  },
  {
   "cell_type": "code",
   "execution_count": null,
   "metadata": {},
   "outputs": [],
   "source": [
    "soap_df"
   ]
  },
  {
   "cell_type": "markdown",
   "metadata": {},
   "source": [
    "Checking to see which index I should use. In my example it is the last one, so I choose my index as 9. It might be different for you!"
   ]
  },
  {
   "cell_type": "code",
   "execution_count": null,
   "metadata": {},
   "outputs": [],
   "source": [
    "dool = soap_df['Tokenized Texts'][9]"
   ]
  },
  {
   "cell_type": "code",
   "execution_count": null,
   "metadata": {},
   "outputs": [],
   "source": [
    "' '.join(dool[0:1500])"
   ]
  },
  {
   "cell_type": "code",
   "execution_count": null,
   "metadata": {},
   "outputs": [],
   "source": [
    "characters = {}\n",
    "for token in dool:\n",
    "    if token[0] == '@':\n",
    "        # all characters or actions start with @, so we add that to character\n",
    "        if token[2:] not in characters:\n",
    "            characters[token[2:]] = 0\n",
    "        if token[2:] in characters:\n",
    "            characters[token[2:]] += 1"
   ]
  },
  {
   "cell_type": "code",
   "execution_count": null,
   "metadata": {},
   "outputs": [],
   "source": [
    "import networkx as nx"
   ]
  },
  {
   "cell_type": "code",
   "execution_count": null,
   "metadata": {},
   "outputs": [],
   "source": [
    "actor_network = nx.Graph()"
   ]
  },
  {
   "cell_type": "code",
   "execution_count": null,
   "metadata": {},
   "outputs": [],
   "source": [
    "for character in characters:\n",
    "    if characters[character] > 2000:\n",
    "        actor_network.add_node(character, lines_spoken= characters[character], words=[])"
   ]
  },
  {
   "cell_type": "code",
   "execution_count": null,
   "metadata": {},
   "outputs": [],
   "source": [
    "i = 0"
   ]
  },
  {
   "cell_type": "code",
   "execution_count": null,
   "metadata": {},
   "outputs": [],
   "source": [
    "all_texts = []"
   ]
  },
  {
   "cell_type": "code",
   "execution_count": null,
   "metadata": {},
   "outputs": [],
   "source": [
    "for token in dool:\n",
    "    i += 1\n",
    "    if i > len(dool):\n",
    "        break\n",
    "    if token[0] == \"@\":\n",
    "        if token[2:] in actor_network.nodes():\n",
    "            j = i\n",
    "            for token_ in dool[i:]:\n",
    "                if token_[0] == \"@\":\n",
    "                    # if both the characters exist in the graph, add a weight\n",
    "                    if token_[2:] != token[2:] and token_[2:] in actor_network.nodes():\n",
    "                        if (token[2:], token_[2:]) not in actor_network.edges():\n",
    "                            actor_network.add_edge(token[2:], token_[2:], weight=0)\n",
    "                        if (token[2:], token_[2:]) in actor_network.edges():\n",
    "                            actor_network.edges[(token[2:], token_[2:])]['weight'] += 1\n",
    "                    break\n",
    "                j += 1\n",
    "            # adding characters sentences\n",
    "            actor_network.nodes[token[2:]]['words'].append(dool[i:j])\n",
    "            all_texts.append(lucem_illud.normalizeTokens(dool[i:j]))"
   ]
  },
  {
   "cell_type": "code",
   "execution_count": null,
   "metadata": {},
   "outputs": [],
   "source": [
    "nx.draw(actor_network, with_labels=True, font_weight='bold')"
   ]
  },
  {
   "cell_type": "markdown",
   "metadata": {},
   "source": [
    "Ok - so we have our graph now. Let us create a topic model with all the texts spoken by the characters, see what's being spoken about, and construct topic distributions for each character. What does our all_texts corpus look like?"
   ]
  },
  {
   "cell_type": "code",
   "execution_count": null,
   "metadata": {},
   "outputs": [],
   "source": [
    "all_texts[0:10]"
   ]
  },
  {
   "cell_type": "code",
   "execution_count": null,
   "metadata": {},
   "outputs": [],
   "source": [
    "dictionary = gensim.corpora.Dictionary(all_texts)"
   ]
  },
  {
   "cell_type": "code",
   "execution_count": null,
   "metadata": {},
   "outputs": [],
   "source": [
    "corpus = [dictionary.doc2bow(text) for text in all_texts]"
   ]
  },
  {
   "cell_type": "code",
   "execution_count": null,
   "metadata": {},
   "outputs": [],
   "source": [
    "gensim.corpora.MmCorpus.serialize('dool.mm', corpus)\n",
    "doolcorpus = gensim.corpora.MmCorpus('dool.mm')"
   ]
  },
  {
   "cell_type": "code",
   "execution_count": null,
   "metadata": {},
   "outputs": [],
   "source": [
    "doollda = gensim.models.ldamodel.LdaModel(corpus=doolcorpus, id2word=dictionary, num_topics=10, alpha='auto', eta='auto')"
   ]
  },
  {
   "cell_type": "code",
   "execution_count": null,
   "metadata": {},
   "outputs": [],
   "source": [
    "doollda.show_topics()"
   ]
  },
  {
   "cell_type": "markdown",
   "metadata": {},
   "source": [
    "Are your topics interpretable/interesting? Sometimes they require a good deal of fine tuning and parameter choosing to get it to work in a nice way. Check out the gensim ldamodel documentation page and see what parameters you can play around with and try the model again!"
   ]
  },
  {
   "cell_type": "code",
   "execution_count": null,
   "metadata": {},
   "outputs": [],
   "source": [
    "for actor in actor_network.nodes():\n",
    "    actor_all_words = []\n",
    "    for sent in actor_network.nodes[actor]['words']:\n",
    "        for word in sent:\n",
    "            actor_all_words += word\n",
    "    actor_network.nodes[actor]['topic_distribution'] = doollda[dictionary.doc2bow(lucem_illud.normalizeTokens(actor_all_words))]"
   ]
  },
  {
   "cell_type": "markdown",
   "metadata": {},
   "source": [
    "We now have topic distributions for each character. Let us have a brief look at what the characters are talking about. "
   ]
  },
  {
   "cell_type": "code",
   "execution_count": null,
   "metadata": {},
   "outputs": [],
   "source": [
    "for actor in actor_network.nodes():\n",
    "    print(actor, actor_network.nodes[actor]['topic_distribution'])"
   ]
  },
  {
   "cell_type": "markdown",
   "metadata": {},
   "source": [
    "Quickly eye-balling these distributions suggest that the model itself could be tuned better - all the topics are loaded more or less equally. \n",
    "\n",
    "In the paper I linked to earlier, they found similarities or differences using the KL divergence - this is a topic we've dealt with before. Let us plot a heatmap with these values."
   ]
  },
  {
   "cell_type": "code",
   "execution_count": null,
   "metadata": {},
   "outputs": [],
   "source": [
    "from gensim.matutils import kullback_leibler"
   ]
  },
  {
   "cell_type": "code",
   "execution_count": null,
   "metadata": {},
   "outputs": [],
   "source": [
    "def convert_to_prob(bow):\n",
    "    ps = []\n",
    "    for topic_no, topic_prob in bow:\n",
    "        ps.append(topic_prob)\n",
    "    return ps"
   ]
  },
  {
   "cell_type": "code",
   "execution_count": null,
   "metadata": {},
   "outputs": [],
   "source": [
    "L = []\n",
    "for actor_1 in actor_network.nodes():\n",
    "    p = actor_network.nodes[actor_1]['topic_distribution'] \n",
    "    p = convert_to_prob(p)\n",
    "    l = []\n",
    "    for actor_2 in actor_network.nodes():\n",
    "        q = actor_network.nodes[actor_2]['topic_distribution'] \n",
    "        q = convert_to_prob(q)\n",
    "        l.append(kullback_leibler(p, q))\n",
    "    L.append(l)\n",
    "M = np.array(L)"
   ]
  },
  {
   "cell_type": "code",
   "execution_count": null,
   "metadata": {},
   "outputs": [],
   "source": [
    "fig = plt.figure()\n",
    "div = pandas.DataFrame(M, columns = list(actor_network.nodes()), index = list(actor_network.nodes()))\n",
    "ax = sns.heatmap(div)\n",
    "plt.show()"
   ]
  },
  {
   "cell_type": "markdown",
   "metadata": {},
   "source": [
    "This is one example of how we can use topic models to analyse a network - what other data exploration can you come up with?  Maybe see what are the themes surrounding the top topics for each of the actors? You now have the infrastructure to explore the network and the topics. Gensim has a great set of Jupyter Notebooks which illustrate their methods and functions - https://github.com/RaRe-Technologies/gensim/tree/develop/docs/notebooks. The Auto Examples page also has a good variety of examples - https://radimrehurek.com/gensim/auto_examples/. \n",
    "\n",
    "\n",
    "### Dynamic Topic Modelling\n",
    "\n",
    "Dynamic Topic Modelling is a time based topic model method introduced by David Blei and John Lafferty. It allows one to see topics evolve over a time annotated corpus. I would recommend first viewing the Dynamic Topic Model tutorial on Gensim (https://github.com/RaRe-Technologies/gensim/blob/develop/docs/notebooks/ldaseqmodel.ipynb) to understand what exactly it's about. \n",
    "\n",
    "(An acknowledgement - Bhargav (the author of most of this class's code) wrote the code for Gensim's Dynamic Topic Models back in 2016 as a Google Summer of Code student, and they're still using it as are thousands of others!)\n",
    "\n",
    "To demonstrate it on a time based corpus, we will create a corpus from COHA."
   ]
  },
  {
   "cell_type": "code",
   "execution_count": null,
   "metadata": {},
   "outputs": [],
   "source": [
    "corpora_address = \"/Users/luzhang/Desktop/UChi/2022 Winter/SOCI 40133/data/COHA\""
   ]
  },
  {
   "cell_type": "code",
   "execution_count": null,
   "metadata": {},
   "outputs": [],
   "source": [
    "coha_texts = lucem_illud.loadDavies(corpora_address, return_raw=True)"
   ]
  },
  {
   "cell_type": "code",
   "execution_count": null,
   "metadata": {},
   "outputs": [],
   "source": [
    "list(coha_texts.keys())[0:5]"
   ]
  },
  {
   "cell_type": "markdown",
   "metadata": {},
   "source": [
    "We'd have to approach this differently: note that while extracting the corpus we returned the raw texts, and the dictionary keys already contain some useful information: the year published, and the genre. neat! We can now create some corpora, organised by year and by genre."
   ]
  },
  {
   "cell_type": "code",
   "execution_count": null,
   "metadata": {},
   "outputs": [],
   "source": [
    "coha_genres = {}\n",
    "coha_years = {}"
   ]
  },
  {
   "cell_type": "code",
   "execution_count": null,
   "metadata": {},
   "outputs": [],
   "source": [
    "for article in coha_texts:\n",
    "    genre, year, id_ = article.split(\"_\")\n",
    "    if genre not in coha_genres:\n",
    "        coha_genres[genre] = []\n",
    "    if genre in coha_genres:\n",
    "        coha_genres[genre].append(coha_texts[article])\n",
    "    \n",
    "    if year not in coha_years:\n",
    "        coha_years[year] = []\n",
    "    if year in coha_years:\n",
    "        coha_years[year].append(coha_texts[article])"
   ]
  },
  {
   "cell_type": "code",
   "execution_count": null,
   "metadata": {},
   "outputs": [],
   "source": [
    "coha_genres.keys()"
   ]
  },
  {
   "cell_type": "code",
   "execution_count": null,
   "metadata": {},
   "outputs": [],
   "source": [
    "coha_years.keys()"
   ]
  },
  {
   "cell_type": "markdown",
   "metadata": {},
   "source": [
    "That's neat: we have 4 genres and 200 years. We have to now decide how many time slices we want. Let us see how the corpus is distributed.\n",
    "\n",
    "If you went through the tutorial, you would notice how we would need to arrange the corpora year wise.\n",
    "We also have to arrange the number of topics per year."
   ]
  },
  {
   "cell_type": "code",
   "execution_count": null,
   "metadata": {},
   "outputs": [],
   "source": [
    "import collections"
   ]
  },
  {
   "cell_type": "code",
   "execution_count": null,
   "metadata": {},
   "outputs": [],
   "source": [
    "years = []\n",
    "year_lens = []"
   ]
  },
  {
   "cell_type": "code",
   "execution_count": null,
   "metadata": {},
   "outputs": [],
   "source": [
    "for year_info in collections.OrderedDict(sorted(coha_years.items())):\n",
    "    years.append(year_info)\n",
    "    year_lens.append(len((coha_years[year_info])))"
   ]
  },
  {
   "cell_type": "code",
   "execution_count": null,
   "metadata": {},
   "outputs": [],
   "source": [
    "years[0], years[-1]"
   ]
  },
  {
   "cell_type": "code",
   "execution_count": null,
   "metadata": {},
   "outputs": [],
   "source": [
    "import matplotlib.pyplot as plt\n",
    "plt.plot(years, year_lens)"
   ]
  },
  {
   "cell_type": "markdown",
   "metadata": {},
   "source": [
    "The X axis isn't legible, but you can get the point: there are far less articles in the beginning, and then it grows. Maybe in our 5 time slices, we do: 1810-1880, 1881-1913, 1914-1950, 1950-1990, 1990-2009?\n",
    "I use some historical intuition to use these time periods, you are encouraged to try your different time slices (for e.g, 20 10 year periods, 10 20 year periods, by total number of papers, etc)"
   ]
  },
  {
   "cell_type": "code",
   "execution_count": null,
   "metadata": {},
   "outputs": [],
   "source": [
    "all_texts_coha = []\n",
    "docs_per_timeslice = [0, 0, 0, 0, 0]\n",
    "docs_per_year = [0, 0, 0, 0, 0]\n",
    "i = 0"
   ]
  },
  {
   "cell_type": "code",
   "execution_count": null,
   "metadata": {},
   "outputs": [],
   "source": [
    "# too large to run\n",
    "\n",
    "# for year_info in collections.OrderedDict(sorted(coha_years.items())):\n",
    "#     large_files = 0\n",
    "#     for article in coha_years[year_info]:\n",
    "#         try:\n",
    "#             if len(article[2]) < 1500000:\n",
    "#                 all_texts_coha.append(lucem_illud.normalizeTokens(article[2].decode(\"utf-8\")))\n",
    "#             if len(article[2]) >= 1500000:\n",
    "#                 large_files += 1\n",
    "#         except IndexError:\n",
    "#             continue\n",
    "#     # these numbers are the number of years in the \n",
    "#     if i < 70:\n",
    "#         docs_per_year[0] += len(coha_years[year_info]) - large_files\n",
    "#     if i >= 70 and i < 103:\n",
    "#         docs_per_year[1] += len(coha_years[year_info]) - large_files\n",
    "#     if i >= 103 and i < 140:\n",
    "#         docs_per_year[2] += len(coha_years[year_info]) - large_files\n",
    "#     if i >= 140 and i < 180:\n",
    "#         docs_per_year[3] += len(coha_years[year_info]) - large_files\n",
    "#     if i >= 180:\n",
    "#         docs_per_year[4] += len(coha_years[year_info]) - large_files\n",
    "#     i += 1"
   ]
  },
  {
   "cell_type": "markdown",
   "metadata": {},
   "source": [
    "#### Smaller Corpora\n",
    "\n",
    "The original size of the corpus is wayyy too big for our laptops. Let us demo this with a smaller size. You are welcome to try different sizes until you get the size you would like.\n",
    "I am using a 100 documents per time slice for this example."
   ]
  },
  {
   "cell_type": "code",
   "execution_count": null,
   "metadata": {},
   "outputs": [],
   "source": [
    "def choose_n(corpus, time_slices, nums=100):\n",
    "    new_corpus = corpus[0:nums]\n",
    "    for time_slice in time_slices[:-1]:\n",
    "        new_corpus = new_corpus + corpus[time_slice:time_slice+nums]\n",
    "    return new_corpus"
   ]
  },
  {
   "cell_type": "markdown",
   "metadata": {},
   "source": [
    "Now, COHA also has some really large files, full books and the like: we're going to now split up really large files such that each of the documents are only 1000 tokens long. This function will return a split up document and the number of files it has been split into, so we can accordingly adjust the documents per time slice, which is important for Dynamic Topic Modelling to work."
   ]
  },
  {
   "cell_type": "code",
   "execution_count": null,
   "metadata": {},
   "outputs": [],
   "source": [
    "def split_up(document, doc_size=1000):\n",
    "    new_docs = [document[i:i + doc_size] for i in range(0, len(document), doc_size)]\n",
    "    return(new_docs, len(new_docs))"
   ]
  },
  {
   "cell_type": "code",
   "execution_count": null,
   "metadata": {},
   "outputs": [],
   "source": [
    "small_corpus = choose_n(all_texts_coha, docs_per_year, nums=100)"
   ]
  },
  {
   "cell_type": "code",
   "execution_count": null,
   "metadata": {},
   "outputs": [],
   "source": [
    "final_corpus= []"
   ]
  },
  {
   "cell_type": "code",
   "execution_count": null,
   "metadata": {},
   "outputs": [],
   "source": [
    "docs_per_time_slice = [0, 0, 0, 0, 0]"
   ]
  },
  {
   "cell_type": "markdown",
   "metadata": {},
   "source": [
    "I now use the split method to create my final corpus. Note that I hardcode values for the time slice to figure out the number of documets per time slice. Now I have a representative number of documents in each time slice. "
   ]
  },
  {
   "cell_type": "code",
   "execution_count": null,
   "metadata": {},
   "outputs": [],
   "source": [
    "for i, article in enumerate(small_corpus):\n",
    "    # identify time slice based on article number \n",
    "    if i < 100:\n",
    "        time = 0\n",
    "    if i > 100 and i <= 200:\n",
    "        time = 1\n",
    "    if i > 200 and i <= 300:\n",
    "        time = 2\n",
    "    if i > 300 and i <= 400:\n",
    "        time = 3\n",
    "    if i > 400 and i <= 500:\n",
    "        time = 4\n",
    "        \n",
    "    if len(article) > 1000:\n",
    "        split_docs, no_docs = split_up(article)\n",
    "        for doc in split_docs:\n",
    "            final_corpus.append(doc)\n",
    "        docs_per_time_slice[time] += no_docs\n",
    "    else:\n",
    "        final_corpus.append(article)\n",
    "        docs_per_time_slice[time] += 1\n",
    "    # just a check if the counts are correctly added\n",
    "    if np.sum(docs_per_time_slice) != len(final_corpus):\n",
    "        print(np.sum(docs_per_time_slice), len(final_corpus))"
   ]
  },
  {
   "cell_type": "code",
   "execution_count": null,
   "metadata": {},
   "outputs": [],
   "source": [
    "dictionary = gensim.corpora.Dictionary(final_corpus)"
   ]
  },
  {
   "cell_type": "code",
   "execution_count": null,
   "metadata": {},
   "outputs": [],
   "source": [
    "corpus = [dictionary.doc2bow(text) for text in final_corpus]"
   ]
  },
  {
   "cell_type": "code",
   "execution_count": null,
   "metadata": {},
   "outputs": [],
   "source": [
    "gensim.corpora.MmCorpus.serialize('coha.mm', corpus)\n",
    "cohacorpus = gensim.corpora.MmCorpus('coha.mm')"
   ]
  },
  {
   "cell_type": "code",
   "execution_count": null,
   "metadata": {},
   "outputs": [],
   "source": [
    "from gensim.models import ldaseqmodel"
   ]
  },
  {
   "cell_type": "code",
   "execution_count": null,
   "metadata": {},
   "outputs": [],
   "source": [
    "# this is taking forever so I interrupted\n",
    "ldaseq = ldaseqmodel.LdaSeqModel(corpus=corpus, id2word=dictionary, time_slice=docs_per_time_slice, num_topics=4)"
   ]
  },
  {
   "cell_type": "code",
   "execution_count": null,
   "metadata": {},
   "outputs": [],
   "source": [
    "ldaseq.print_topics(time=0)[1]"
   ]
  },
  {
   "cell_type": "code",
   "execution_count": null,
   "metadata": {},
   "outputs": [],
   "source": [
    "ldaseq.print_topics(time=4)[1]"
   ]
  },
  {
   "cell_type": "markdown",
   "metadata": {},
   "source": [
    "What can you see from the analysis? I encourage you to explore the tutorial and see what else you can do with this dataset. In the above model I can see how the topic related to state evolves slowly, with the word president not previously there coming into the topic. I will now save this model and also upload it on GitHub so that you can see how it works. Note that the Dynamic Topic Model is a very time consuming algorithm: you might want to start a run overnight if you intend on using it in your analysis."
   ]
  },
  {
   "cell_type": "code",
   "execution_count": null,
   "metadata": {},
   "outputs": [],
   "source": [
    "ldaseq.save(\"ldaseqmodel\")"
   ]
  },
  {
   "cell_type": "code",
   "execution_count": null,
   "metadata": {},
   "outputs": [],
   "source": [
    "loaded_model = ldaseqmodel.LdaSeqModel.load(\"ldaseqmodel\")"
   ]
  },
  {
   "cell_type": "markdown",
   "metadata": {},
   "source": [
    "For future research, you can also consider the Structural Topic Model (STM), which can integrate any covariates (e.g., time, author, document length) into your topic model. Unfortunately there is not yet an implementation of this in Python, but there is a wonderful [R package](https://www.structuraltopicmodel.com/) authored by Molly Roberts, Brandon Stewart, and Dustin Tingley.\n",
    "\n",
    "Here are plate diagrams of LDA and STM, which may help you visualize the way STM adds covariates to the \"left\" and \"right\" of the standard LDA model.\n",
    "\n",
    "<img src=\"https://raw.githubusercontent.com/UChicago-Computational-Content-Analysis/Homework-Notebooks/main/week-3/img/lda_stm_plate_diagrams.jpg\" alt=\"https://raw.githubusercontent.com/UChicago-Computational-Content-Analysis/Homework-Notebooks/main/week-3/img/lda_stm_plate_diagrams.jpg\" style=\"width:500px\">"
   ]
  },
  {
   "cell_type": "markdown",
   "metadata": {},
   "source": [
    "\n",
    "\n",
    "## <font color=\"red\">*Exercise 4*</font>\n",
    "\n",
    "<font color=\"red\">Construct cells immediately below this that use dynamic topic models on datasets relevant to your final project. You can also extend the analysis of the COHA or Soap datasets, if relevant to the comparison of data for your projects. (You could possibly use coha_genres dictionary to conduct analysis on topic evolution for a particular genre? What themes do you see evolving throughout these corpora?)"
   ]
  },
  {
   "cell_type": "code",
   "execution_count": 48,
   "metadata": {},
   "outputs": [],
   "source": [
    "# we will use times slice every 10 years\n",
    "final_corpus = df['reduced_tokens'].tolist()\n",
    "\n",
    "df['decade'] = df['year'].str[:-1]\n",
    "docs_per_decade = df.groupby(['decade']).size().tolist()"
   ]
  },
  {
   "cell_type": "code",
   "execution_count": 49,
   "metadata": {},
   "outputs": [],
   "source": [
    "# create dictionary using our final corpus\n",
    "dictionary = gensim.corpora.Dictionary(final_corpus)\n",
    "corpus = [dictionary.doc2bow(text) for text in final_corpus]"
   ]
  },
  {
   "cell_type": "code",
   "execution_count": 50,
   "metadata": {},
   "outputs": [],
   "source": [
    "gensim.corpora.MmCorpus.serialize('sotu.mm', corpus)\n",
    "sotucorpus = gensim.corpora.MmCorpus('sotu.mm')"
   ]
  },
  {
   "cell_type": "code",
   "execution_count": 51,
   "metadata": {},
   "outputs": [],
   "source": [
    "# run and save the model\n",
    "\n",
    "# ldaseq = ldaseqmodel.LdaSeqModel(corpus=corpus, id2word=dictionary, time_slice=docs_per_decade, num_topics=2)\n",
    "# ldaseq.save(\"ldaseqmodel\")"
   ]
  },
  {
   "cell_type": "code",
   "execution_count": 52,
   "metadata": {},
   "outputs": [],
   "source": [
    "from gensim.models import ldaseqmodel\n",
    "ldaseq = ldaseqmodel.LdaSeqModel.load(\"ldaseqmodel\")"
   ]
  },
  {
   "cell_type": "code",
   "execution_count": 53,
   "metadata": {},
   "outputs": [
    {
     "data": {
      "text/html": [
       "\n",
       "<link rel=\"stylesheet\" type=\"text/css\" href=\"https://cdn.jsdelivr.net/gh/bmabey/pyLDAvis@3.3.1/pyLDAvis/js/ldavis.v1.0.0.css\">\n",
       "\n",
       "\n",
       "<div id=\"ldavis_el558661405056628212008372738021\"></div>\n",
       "<script type=\"text/javascript\">\n",
       "\n",
       "var ldavis_el558661405056628212008372738021_data = {\"mdsDat\": {\"x\": [0.13425180220929586, -0.13425180220929586], \"y\": [0.0, 0.0], \"topics\": [1, 2], \"cluster\": [1, 1], \"Freq\": [66.39522640630375, 33.604773593696244]}, \"tinfo\": {\"Term\": [\"americans\", \"help\", \"budget\", \"program\", \"programs\", \"tonight\", \"today\", \"problems\", \"ve\", \"jobs\", \"spending\", \"families\", \"workers\", \"percent\", \"wage\", \"problem\", \"cut\", \"deficit\", \"build\", \"recovery\", \"farm\", \"unemployment\", \"hard\", \"women\", \"inflation\", \"policies\", \"major\", \"crime\", \"child\", \"ahead\", \"amounted\", \"appears\", \"spain\", \"object\", \"notes\", \"heretofore\", \"aggregate\", \"currency\", \"boundary\", \"execution\", \"cent\", \"deemed\", \"navigation\", \"arbitration\", \"arrangement\", \"favorable\", \"jurisdiction\", \"proposition\", \"rendered\", \"appointment\", \"relation\", \"tariff\", \"accordance\", \"preceding\", \"regarded\", \"considerable\", \"consular\", \"exclusive\", \"supervision\", \"gratifying\", \"british\", \"mexico\", \"issued\", \"bureau\", \"render\", \"objects\", \"canal\", \"convention\", \"islands\", \"intercourse\", \"minister\", \"france\", \"indians\", \"actual\", \"coast\", \"bank\", \"french\", \"ships\", \"court\", \"tribes\", \"statute\", \"payment\", \"panama\", \"connection\", \"post\", \"banks\", \"judgment\", \"board\", \"corporations\", \"believed\", \"estimated\", \"practical\", \"program\", \"basic\", \"achieve\", \"spending\", \"budget\", \"help\", \"unemployment\", \"child\", \"start\", \"leadership\", \"housing\", \"democracy\", \"big\", \"ahead\", \"helping\", \"workers\", \"recovery\", \"weapons\", \"clean\", \"balanced\", \"standards\", \"students\", \"air\", \"tell\", \"activities\", \"americans\", \"helped\", \"policies\", \"problems\", \"decade\", \"challenge\", \"programs\", \"inflation\", \"tonight\", \"today\", \"ve\", \"jobs\", \"hard\", \"insurance\", \"wage\", \"families\", \"percent\", \"cut\", \"build\", \"farm\", \"women\", \"deficit\", \"problem\", \"major\", \"crime\", \"farmers\", \"job\", \"industrial\", \"young\", \"reform\", \"schools\"], \"Freq\": [344.0, 318.0, 259.0, 255.0, 230.0, 208.0, 207.0, 196.0, 196.0, 192.0, 151.0, 163.0, 138.0, 155.0, 144.0, 151.0, 132.0, 139.0, 131.0, 113.0, 128.0, 105.0, 114.0, 118.0, 108.0, 104.0, 126.0, 148.0, 96.0, 97.0, 86.66891013298296, 76.89013903332727, 126.02193098901972, 171.5043084659861, 107.5749675435361, 114.49102375242006, 65.91782949186192, 175.19411679806004, 94.16922599559028, 103.47003746019685, 164.89091242725252, 97.66219268751242, 112.76399594421832, 93.52500686264806, 99.93387884921489, 134.67315416943612, 98.56010598742654, 73.50805722727583, 96.06936894889651, 66.74185853653134, 118.1579565705169, 262.85625858983013, 67.76628759019923, 82.79348716203809, 77.0037000482667, 106.49505134522713, 64.9884499336659, 73.98243808801558, 83.72131576907823, 68.3681826434483, 186.94538747024234, 331.803318767346, 90.02743471291963, 91.52620056806029, 84.66527047661572, 154.79785175822894, 205.73551198361392, 206.55174030749743, 172.2401957388803, 151.56031450262887, 158.29533872881458, 152.11839145547177, 147.77285621570107, 150.82919622655538, 182.85853890048313, 285.4764943830562, 123.50386400636756, 216.37764655611596, 212.07968509559356, 127.033297338168, 130.46641586839698, 159.05689528296972, 152.55196085046592, 127.60697480788528, 143.59150304413487, 200.20061426865857, 129.30049345853942, 133.41522039420943, 140.77717627283644, 130.16264040557087, 130.30654261252351, 129.4766451138595, 253.622761076099, 71.44501191211951, 87.85928002819875, 150.14425978295148, 256.64391647134875, 314.58451554397215, 103.59775891600772, 95.06532177150143, 71.64311884481168, 78.93824937105782, 86.75622265648411, 92.59042021027203, 74.00685094530259, 95.01048269187618, 53.0418209253257, 134.87260743493542, 110.09033568379404, 72.89832864124195, 45.81736950448849, 43.79498481416852, 63.325498040769574, 47.49536806217769, 53.00774434475655, 58.36662297992568, 61.33377245162089, 331.37065428165795, 47.686824966285556, 100.6632778056309, 188.2003634494752, 61.212710481682386, 79.14238406176392, 217.2391762715578, 103.51752927996144, 196.15509400189748, 194.27185058802021, 183.38694330075313, 179.5561641355822, 108.5196204442256, 92.76080657328865, 133.88852178169094, 150.14734682649257, 142.9078702957129, 121.69640937546716, 119.7411611264367, 117.16227628634763, 108.94155741626598, 123.59412960519175, 131.57451869679412, 111.32586310441178, 120.37500022602036, 106.50036825221308, 103.3319419774896, 135.64784163433242, 105.63769300162834, 110.47183188719882, 104.86556966217387], \"Total\": [344.0, 318.0, 259.0, 255.0, 230.0, 208.0, 207.0, 196.0, 196.0, 192.0, 151.0, 163.0, 138.0, 155.0, 144.0, 151.0, 132.0, 139.0, 131.0, 113.0, 128.0, 105.0, 114.0, 118.0, 108.0, 104.0, 126.0, 148.0, 96.0, 97.0, 86.95724028419014, 77.15211872215411, 126.63743319116583, 172.52404183336895, 108.25186954804121, 115.23160724169806, 66.34859959363571, 176.55605854477045, 94.90555008374595, 104.35833495432044, 166.31029106764976, 98.55477222607855, 113.80576662014045, 94.38943555673879, 100.93063361921685, 136.07948337231525, 99.59115142719679, 74.32104394252406, 97.15802354876801, 67.50706378613835, 119.52174485107854, 265.9211792701039, 68.56028157579584, 83.76495910190745, 77.91317032044117, 107.75406462385324, 65.78169742318825, 74.89453057493371, 84.78946249297786, 69.26082972684712, 189.6824841277086, 340.208891629587, 91.23850890208367, 92.79772755301231, 85.8025311984086, 158.7267970807932, 212.23901897174133, 213.8365858086201, 177.36398184913583, 155.47930416277043, 162.97039915167878, 156.50225326909674, 151.93117067764845, 155.32118804515613, 191.0171410426234, 306.70582137678747, 126.59359866775064, 230.1266654537891, 225.89449564056085, 130.98096434010074, 135.09590234586366, 169.05499230330702, 161.59217740797394, 132.38678996067227, 153.20612355019145, 232.2004532888667, 135.7955169547786, 146.32615755542122, 170.38895890004932, 140.02979648584625, 143.0674209791813, 150.418025927891, 255.04653627395905, 71.9145270245369, 88.74883193550114, 151.66564774330362, 259.41148875331146, 318.23471073132276, 105.27115541396437, 96.61609214965485, 73.00026739896106, 80.50374482376132, 88.58142220092685, 94.55166624231951, 75.57618890795435, 97.19042976614581, 54.316194019416194, 138.5967872982051, 113.20438238400975, 74.98498318537558, 47.19623163168496, 45.118587228157786, 65.35249115116092, 49.06676874335991, 54.77992913306243, 60.372345363340735, 63.45287775702755, 344.0612859407608, 49.518601136081415, 104.86869413523891, 196.28126436133843, 63.885982358936786, 82.80165063654974, 230.08702242038228, 108.71978894185357, 208.8829427983672, 207.24491755178528, 196.03373567700007, 192.2999838043927, 114.72325133912956, 97.83714981815355, 144.7751944547513, 163.70136496339, 155.6686517957386, 132.83324349368414, 131.56944040497876, 128.41098771980876, 118.60093808553006, 139.01102600073605, 151.6754074809774, 126.34836946147394, 148.42837839322954, 123.15815341970708, 116.00018279010166, 228.37710927954237, 123.73547207583879, 169.2007108172826, 127.76535565772915], \"Category\": [\"Default\", \"Default\", \"Default\", \"Default\", \"Default\", \"Default\", \"Default\", \"Default\", \"Default\", \"Default\", \"Default\", \"Default\", \"Default\", \"Default\", \"Default\", \"Default\", \"Default\", \"Default\", \"Default\", \"Default\", \"Default\", \"Default\", \"Default\", \"Default\", \"Default\", \"Default\", \"Default\", \"Default\", \"Default\", \"Default\", \"Topic1\", \"Topic1\", \"Topic1\", \"Topic1\", \"Topic1\", \"Topic1\", \"Topic1\", \"Topic1\", \"Topic1\", \"Topic1\", \"Topic1\", \"Topic1\", \"Topic1\", \"Topic1\", \"Topic1\", \"Topic1\", \"Topic1\", \"Topic1\", \"Topic1\", \"Topic1\", \"Topic1\", \"Topic1\", \"Topic1\", \"Topic1\", \"Topic1\", \"Topic1\", \"Topic1\", \"Topic1\", \"Topic1\", \"Topic1\", \"Topic1\", \"Topic1\", \"Topic1\", \"Topic1\", \"Topic1\", \"Topic1\", \"Topic1\", \"Topic1\", \"Topic1\", \"Topic1\", \"Topic1\", \"Topic1\", \"Topic1\", \"Topic1\", \"Topic1\", \"Topic1\", \"Topic1\", \"Topic1\", \"Topic1\", \"Topic1\", \"Topic1\", \"Topic1\", \"Topic1\", \"Topic1\", \"Topic1\", \"Topic1\", \"Topic1\", \"Topic1\", \"Topic1\", \"Topic1\", \"Topic1\", \"Topic1\", \"Topic2\", \"Topic2\", \"Topic2\", \"Topic2\", \"Topic2\", \"Topic2\", \"Topic2\", \"Topic2\", \"Topic2\", \"Topic2\", \"Topic2\", \"Topic2\", \"Topic2\", \"Topic2\", \"Topic2\", \"Topic2\", \"Topic2\", \"Topic2\", \"Topic2\", \"Topic2\", \"Topic2\", \"Topic2\", \"Topic2\", \"Topic2\", \"Topic2\", \"Topic2\", \"Topic2\", \"Topic2\", \"Topic2\", \"Topic2\", \"Topic2\", \"Topic2\", \"Topic2\", \"Topic2\", \"Topic2\", \"Topic2\", \"Topic2\", \"Topic2\", \"Topic2\", \"Topic2\", \"Topic2\", \"Topic2\", \"Topic2\", \"Topic2\", \"Topic2\", \"Topic2\", \"Topic2\", \"Topic2\", \"Topic2\", \"Topic2\", \"Topic2\", \"Topic2\", \"Topic2\", \"Topic2\", \"Topic2\", \"Topic2\"], \"logprob\": [30.0, 29.0, 28.0, 27.0, 26.0, 25.0, 24.0, 23.0, 22.0, 21.0, 20.0, 19.0, 18.0, 17.0, 16.0, 15.0, 14.0, 13.0, 12.0, 11.0, 10.0, 9.0, 8.0, 7.0, 6.0, 5.0, 4.0, 3.0, 2.0, 1.0, -6.4058, -6.5255, -6.0314, -5.7233, -6.1897, -6.1274, -6.6795, -5.702, -6.3228, -6.2286, -5.7626, -6.2864, -6.1426, -6.3297, -6.2634, -5.965, -6.2772, -6.5705, -6.3028, -6.6671, -6.0959, -5.2963, -6.6518, -6.4515, -6.524, -6.1998, -6.6937, -6.5641, -6.4404, -6.643, -5.6371, -5.0634, -6.3678, -6.3513, -6.4292, -5.8258, -5.5413, -5.5373, -5.719, -5.8469, -5.8034, -5.8432, -5.8722, -5.8518, -5.6592, -5.2137, -6.0516, -5.4909, -5.5109, -6.0234, -5.9968, -5.7986, -5.8404, -6.0189, -5.9009, -5.5686, -6.0058, -5.9744, -5.9207, -5.9991, -5.998, -6.0044, -4.6511, -5.918, -5.7112, -5.1753, -4.6393, -4.4357, -5.5464, -5.6324, -5.9152, -5.8183, -5.7238, -5.6588, -5.8828, -5.633, -6.2159, -5.2826, -5.4856, -5.8979, -6.3623, -6.4074, -6.0387, -6.3263, -6.2165, -6.1202, -6.0706, -4.3837, -6.3223, -5.5752, -4.9494, -6.0726, -5.8157, -4.8059, -5.5472, -4.908, -4.9177, -4.9753, -4.9965, -5.5, -5.6569, -5.2899, -5.1753, -5.2247, -5.3854, -5.4016, -5.4234, -5.4961, -5.3699, -5.3074, -5.4745, -5.3963, -5.5188, -5.549, -5.2769, -5.5269, -5.4822, -5.5343], \"loglift\": [30.0, 29.0, 28.0, 27.0, 26.0, 25.0, 24.0, 23.0, 22.0, 21.0, 20.0, 19.0, 18.0, 17.0, 16.0, 15.0, 14.0, 13.0, 12.0, 11.0, 10.0, 9.0, 8.0, 7.0, 6.0, 5.0, 4.0, 3.0, 2.0, 1.0, 0.4062, 0.4061, 0.4047, 0.4036, 0.4033, 0.4031, 0.403, 0.4018, 0.4018, 0.401, 0.401, 0.4004, 0.4003, 0.4003, 0.3996, 0.3992, 0.3991, 0.3985, 0.3983, 0.3981, 0.3981, 0.398, 0.3979, 0.3979, 0.3978, 0.3978, 0.3974, 0.3973, 0.3969, 0.3966, 0.395, 0.3845, 0.3962, 0.3957, 0.3962, 0.3845, 0.3784, 0.3749, 0.3802, 0.384, 0.3804, 0.3811, 0.3818, 0.3802, 0.3659, 0.3378, 0.3848, 0.3479, 0.3464, 0.3789, 0.3747, 0.3486, 0.352, 0.3728, 0.3447, 0.2613, 0.3605, 0.3172, 0.2186, 0.3365, 0.3161, 0.2596, 1.0849, 1.084, 1.0804, 1.0804, 1.0798, 1.079, 1.0745, 1.0743, 1.0717, 1.0709, 1.0697, 1.0695, 1.0695, 1.0678, 1.0668, 1.0633, 1.0626, 1.0623, 1.0609, 1.0607, 1.059, 1.058, 1.0576, 1.0567, 1.0565, 1.0529, 1.0528, 1.0496, 1.0485, 1.0478, 1.0453, 1.033, 1.0415, 1.0276, 1.0259, 1.0238, 1.0219, 1.0349, 1.0372, 1.0123, 1.0041, 1.005, 1.0029, 0.9963, 0.9988, 1.0055, 0.973, 0.9483, 0.9639, 0.881, 0.9452, 0.9749, 0.5696, 0.9324, 0.6642, 0.893]}, \"token.table\": {\"Topic\": [1, 2, 1, 2, 1, 2, 1, 2, 1, 1, 2, 1, 2, 1, 2, 1, 1, 1, 2, 1, 2, 1, 2, 1, 2, 1, 2, 1, 2, 2, 1, 2, 1, 2, 1, 2, 1, 2, 1, 2, 1, 2, 1, 2, 1, 2, 1, 2, 1, 2, 1, 2, 1, 2, 1, 2, 1, 2, 1, 2, 1, 2, 1, 2, 1, 2, 1, 2, 1, 2, 1, 2, 1, 2, 1, 2, 1, 2, 1, 2, 1, 2, 1, 2, 1, 2, 1, 2, 1, 2, 1, 2, 1, 2, 1, 2, 1, 2, 1, 2, 1, 2, 1, 2, 1, 2, 1, 2, 1, 2, 1, 2, 1, 2, 1, 2, 1, 2, 1, 2, 1, 2, 1, 2, 1, 2, 1, 2, 1, 2, 1, 2, 1, 2, 1, 2, 1, 2, 1, 2, 1, 2, 1, 2, 1, 2, 1, 2, 1, 2, 1, 2, 1, 2, 1, 2, 1, 2, 1, 2, 1, 2, 1, 2, 1, 2, 1, 2, 1, 2, 1, 2, 1, 2, 1, 2, 1, 2, 1, 2, 1, 2, 1, 2, 1, 2, 1, 2, 1, 2, 1, 2, 1, 2, 1, 2, 1, 2, 1, 2, 1, 2, 1, 2, 1, 2, 1, 2, 1, 2, 1, 2, 1, 2, 1, 2, 1, 2, 1, 2, 1, 2, 1, 2, 1, 2, 1, 2, 1, 2, 1, 2], \"Freq\": [0.9918278985599494, 0.01458570439058749, 0.011267753931981405, 0.9915623460143638, 0.03151945302872407, 0.961343317376084, 0.9721790175600521, 0.025753086557882176, 0.9947459389381121, 0.020578157796115198, 0.9774624953154719, 0.03650972229522108, 0.9675076408233585, 0.03778396620373701, 0.9620379087259191, 1.0004917326684946, 0.9980283273528503, 0.9924887299535835, 0.01481326462617289, 0.9958741616109709, 0.010594405974584796, 0.9907794731307458, 0.009907794731307457, 0.022163814548162894, 0.9752078401191673, 0.9292291835891764, 0.06846951879078142, 0.8613247612880065, 0.13781196180608102, 0.9872831392713622, 0.9283738408713603, 0.07141337237472002, 0.026463361395952862, 0.9791443716502559, 0.9089283981889983, 0.08884262538689457, 0.9904584075120277, 0.01053679156927689, 0.9858580293270383, 0.015815904213802752, 0.01156463815237136, 0.9907040017198133, 0.09120658994264373, 0.9120658994264373, 0.9914035874148255, 0.010776125950161147, 0.9706038079050298, 0.032981682792889364, 0.9921214071646548, 0.00601285701311912, 0.048308215708858675, 0.9540872602499588, 0.020700485348776807, 0.9832730540668984, 0.02118813230267848, 0.9746540859232101, 0.9580292061808503, 0.04188105819369837, 0.9668638391944132, 0.037768118718531765, 0.983721592034822, 0.009280392377687, 0.9881167945825506, 0.015201796839731548, 0.9680289236625826, 0.032735277611778156, 0.8275184079428001, 0.17606774637080852, 0.9384912164364132, 0.061975835047687666, 0.18864317122578766, 0.8084707338248043, 0.9911866035207403, 0.005663923448689944, 0.0828105955308019, 0.9184447867961665, 0.04695865805341789, 0.9548260470861637, 0.9943709247807306, 0.010146642089599292, 0.10790510962720738, 0.8920155729182477, 0.021152456423923265, 0.9835892237124318, 0.9086624970958076, 0.09086624970958075, 0.9880561294921435, 0.013352109858001938, 0.986983934202141, 0.00958236829322467, 0.08552158378844883, 0.9163026834476661, 0.08566245144069656, 0.9111369835055907, 0.13803389810552125, 0.8688015939582808, 0.9920672584465817, 0.0073486463588635685, 0.9712320227022203, 0.025558737439532114, 0.9795124027198434, 0.023697880710963955, 0.9817959193988923, 0.014438175285277828, 0.052299772975084195, 0.9501125423806962, 0.012569339123339992, 0.9898354559630242, 0.040388863055800514, 0.9693327133392123, 0.018410715589581517, 0.9757679262478203, 0.9893118973936138, 0.008678174538540473, 0.022578097645163723, 0.9821472475646219, 0.9741253183259596, 0.026327711306107015, 0.40722119783977306, 0.5955062678087004, 0.04598978758755816, 0.9565875818212097, 0.05110533176092438, 0.9505591707531935, 0.9776220752883743, 0.02572689671811511, 0.9697572089146128, 0.028190616538215488, 0.9864255902799461, 0.010960284336443846, 0.1120687889218507, 0.8879296353038939, 0.06760270980170016, 0.936037520331233, 0.9499577224111044, 0.04418408011214439, 0.994064217365446, 0.01004105270066107, 0.024843564785444416, 0.9813208090250545, 0.118719379315566, 0.8785234069351884, 0.9758710256211507, 0.023514964472798813, 0.9695012150822999, 0.03068041819880696, 0.9929198085117258, 0.008786900960280758, 0.9976733007097911, 0.00923771574731288, 0.9969624996736681, 0.005796293602753884, 0.9765206811368075, 0.02520053370675632, 0.9468280114433933, 0.05569576537902314, 0.9405223580427189, 0.05915234956243515, 0.08351071233698365, 0.9186178357068201, 0.03814293706033557, 0.9631091607734732, 0.9399102115707832, 0.06527154247019328, 0.8576099786194602, 0.13961092675200515, 0.9908677911371411, 0.011938166158278809, 0.13186053251584853, 0.8702795146046004, 0.040757838125969205, 0.9578091959602764, 0.00392085309061342, 0.9958966850158086, 0.05650036174681877, 0.9431214230045902, 0.995680309028324, 0.013455139311193567, 0.026500740844320473, 0.9716938309584173, 0.3486982986951706, 0.6501154721435385, 0.9882796410839723, 0.012834800533558082, 0.9872680502365943, 0.008366678391835544, 0.9906467654601839, 0.01165466782894334, 0.9880810301972976, 0.01029251073122185, 0.18001750068786052, 0.8218190248793632, 0.9386135221403719, 0.060836061620209284, 0.9949664710101666, 0.007896559293731481, 0.013186901778740497, 0.9890176334055372, 0.03060327104247612, 0.9640030378379979, 0.013698579959095219, 0.9862977570548558, 0.9622793714881339, 0.03701074505723592, 0.04076078476780999, 0.9578784420435348, 0.9906891437949233, 0.011793918378510992, 0.9890148679465024, 0.011281538417640713, 0.03312775059447068, 0.9607047672396496, 0.06272771440463251, 0.9360905072691315, 0.06223581411598927, 0.9383245820564535, 0.9696065427510222, 0.03053878874806369, 0.018998556557447047, 0.9879249409872465, 0.06631511640129012, 0.933512792418161, 0.07597986686481703, 0.9255729236259529, 0.02667200704780664, 0.9735282572449424, 0.08431636512679534, 0.9190483798820692, 0.02886069784138353, 0.9740485521466941, 0.1454716234401046, 0.8566662269250606], \"Term\": [\"accordance\", \"accordance\", \"achieve\", \"achieve\", \"activities\", \"activities\", \"actual\", \"actual\", \"aggregate\", \"ahead\", \"ahead\", \"air\", \"air\", \"americans\", \"americans\", \"amounted\", \"appears\", \"appointment\", \"appointment\", \"arbitration\", \"arbitration\", \"arrangement\", \"arrangement\", \"balanced\", \"balanced\", \"bank\", \"bank\", \"banks\", \"banks\", \"basic\", \"believed\", \"believed\", \"big\", \"big\", \"board\", \"board\", \"boundary\", \"boundary\", \"british\", \"british\", \"budget\", \"budget\", \"build\", \"build\", \"bureau\", \"bureau\", \"canal\", \"canal\", \"cent\", \"cent\", \"challenge\", \"challenge\", \"child\", \"child\", \"clean\", \"clean\", \"coast\", \"coast\", \"connection\", \"connection\", \"considerable\", \"considerable\", \"consular\", \"consular\", \"convention\", \"convention\", \"corporations\", \"corporations\", \"court\", \"court\", \"crime\", \"crime\", \"currency\", \"currency\", \"cut\", \"cut\", \"decade\", \"decade\", \"deemed\", \"deemed\", \"deficit\", \"deficit\", \"democracy\", \"democracy\", \"estimated\", \"estimated\", \"exclusive\", \"exclusive\", \"execution\", \"execution\", \"families\", \"families\", \"farm\", \"farm\", \"farmers\", \"farmers\", \"favorable\", \"favorable\", \"france\", \"france\", \"french\", \"french\", \"gratifying\", \"gratifying\", \"hard\", \"hard\", \"help\", \"help\", \"helped\", \"helped\", \"helping\", \"helping\", \"heretofore\", \"heretofore\", \"housing\", \"housing\", \"indians\", \"indians\", \"industrial\", \"industrial\", \"inflation\", \"inflation\", \"insurance\", \"insurance\", \"intercourse\", \"intercourse\", \"islands\", \"islands\", \"issued\", \"issued\", \"job\", \"job\", \"jobs\", \"jobs\", \"judgment\", \"judgment\", \"jurisdiction\", \"jurisdiction\", \"leadership\", \"leadership\", \"major\", \"major\", \"mexico\", \"mexico\", \"minister\", \"minister\", \"navigation\", \"navigation\", \"notes\", \"notes\", \"object\", \"object\", \"objects\", \"objects\", \"panama\", \"panama\", \"payment\", \"payment\", \"percent\", \"percent\", \"policies\", \"policies\", \"post\", \"post\", \"practical\", \"practical\", \"preceding\", \"preceding\", \"problem\", \"problem\", \"problems\", \"problems\", \"program\", \"program\", \"programs\", \"programs\", \"proposition\", \"proposition\", \"recovery\", \"recovery\", \"reform\", \"reform\", \"regarded\", \"regarded\", \"relation\", \"relation\", \"render\", \"render\", \"rendered\", \"rendered\", \"schools\", \"schools\", \"ships\", \"ships\", \"spain\", \"spain\", \"spending\", \"spending\", \"standards\", \"standards\", \"start\", \"start\", \"statute\", \"statute\", \"students\", \"students\", \"supervision\", \"supervision\", \"tariff\", \"tariff\", \"tell\", \"tell\", \"today\", \"today\", \"tonight\", \"tonight\", \"tribes\", \"tribes\", \"unemployment\", \"unemployment\", \"ve\", \"ve\", \"wage\", \"wage\", \"weapons\", \"weapons\", \"women\", \"women\", \"workers\", \"workers\", \"young\", \"young\"]}, \"R\": 30, \"lambda.step\": 0.01, \"plot.opts\": {\"xlab\": \"PC1\", \"ylab\": \"PC2\"}, \"topic.order\": [1, 2]};\n",
       "\n",
       "function LDAvis_load_lib(url, callback){\n",
       "  var s = document.createElement('script');\n",
       "  s.src = url;\n",
       "  s.async = true;\n",
       "  s.onreadystatechange = s.onload = callback;\n",
       "  s.onerror = function(){console.warn(\"failed to load library \" + url);};\n",
       "  document.getElementsByTagName(\"head\")[0].appendChild(s);\n",
       "}\n",
       "\n",
       "if(typeof(LDAvis) !== \"undefined\"){\n",
       "   // already loaded: just create the visualization\n",
       "   !function(LDAvis){\n",
       "       new LDAvis(\"#\" + \"ldavis_el558661405056628212008372738021\", ldavis_el558661405056628212008372738021_data);\n",
       "   }(LDAvis);\n",
       "}else if(typeof define === \"function\" && define.amd){\n",
       "   // require.js is available: use it to load d3/LDAvis\n",
       "   require.config({paths: {d3: \"https://d3js.org/d3.v5\"}});\n",
       "   require([\"d3\"], function(d3){\n",
       "      window.d3 = d3;\n",
       "      LDAvis_load_lib(\"https://cdn.jsdelivr.net/gh/bmabey/pyLDAvis@3.3.1/pyLDAvis/js/ldavis.v3.0.0.js\", function(){\n",
       "        new LDAvis(\"#\" + \"ldavis_el558661405056628212008372738021\", ldavis_el558661405056628212008372738021_data);\n",
       "      });\n",
       "    });\n",
       "}else{\n",
       "    // require.js not available: dynamically load d3 & LDAvis\n",
       "    LDAvis_load_lib(\"https://d3js.org/d3.v5.js\", function(){\n",
       "         LDAvis_load_lib(\"https://cdn.jsdelivr.net/gh/bmabey/pyLDAvis@3.3.1/pyLDAvis/js/ldavis.v3.0.0.js\", function(){\n",
       "                 new LDAvis(\"#\" + \"ldavis_el558661405056628212008372738021\", ldavis_el558661405056628212008372738021_data);\n",
       "            })\n",
       "         });\n",
       "}\n",
       "</script>"
      ],
      "text/plain": [
       "<IPython.core.display.HTML object>"
      ]
     },
     "execution_count": 53,
     "metadata": {},
     "output_type": "execute_result"
    }
   ],
   "source": [
    "! pip install pyLDAvis -q\n",
    "import pyLDAvis\n",
    "\n",
    "# visulization\n",
    "doc_topic, topic_term, doc_lengths, term_frequency, vocab = ldaseq.dtm_vis(time=0, corpus=corpus)\n",
    "vis_wrapper = pyLDAvis.prepare(topic_term_dists=topic_term, doc_topic_dists=doc_topic, doc_lengths=doc_lengths, vocab=vocab, term_frequency=term_frequency)\n",
    "pyLDAvis.display(vis_wrapper)"
   ]
  },
  {
   "cell_type": "markdown",
   "metadata": {},
   "source": [
    "We can take a closer look of the words and topic, and how they change overtime by printing out the result. "
   ]
  },
  {
   "cell_type": "code",
   "execution_count": 54,
   "metadata": {},
   "outputs": [
    {
     "data": {
      "text/plain": [
       "[('mexico', 0.006324298211165589),\n",
       " ('bank', 0.00544129121270943),\n",
       " ('tariff', 0.005010140863476328),\n",
       " ('ships', 0.00412424073434475),\n",
       " ('court', 0.004042319944409856),\n",
       " ('convention', 0.003936955201631945),\n",
       " ('canal', 0.003921397577471294),\n",
       " ('banks', 0.0038159003092470994),\n",
       " ('british', 0.003563250614719487),\n",
       " ('coast', 0.00348535371725911),\n",
       " ('currency', 0.0033392668994055488),\n",
       " ('islands', 0.003282964033780525),\n",
       " ('object', 0.0032689377407920345),\n",
       " ('cent', 0.003142883881858757),\n",
       " ('payment', 0.0030316852828617172),\n",
       " ('minister', 0.003017169723550745),\n",
       " ('objects', 0.0029505062836737038),\n",
       " ('panama', 0.0029076987436430445),\n",
       " ('france', 0.002899434745080992),\n",
       " ('intercourse', 0.0028887975848269323)]"
      ]
     },
     "execution_count": 54,
     "metadata": {},
     "output_type": "execute_result"
    }
   ],
   "source": [
    "ldaseq.print_topics(time=0)[0]"
   ]
  },
  {
   "cell_type": "code",
   "execution_count": 55,
   "metadata": {},
   "outputs": [
    {
     "data": {
      "text/plain": [
       "[('spain', 0.0054516165723783455),\n",
       " ('mexico', 0.005218478505339762),\n",
       " ('convention', 0.004892858079180143),\n",
       " ('british', 0.004424184544925835),\n",
       " ('minister', 0.00427069204942138),\n",
       " ('gold', 0.00408583470707367),\n",
       " ('silver', 0.003631897810723308),\n",
       " ('cent', 0.003611481771757809),\n",
       " ('islands', 0.0034942845722309252),\n",
       " ('indians', 0.0034441811955413172),\n",
       " ('intercourse', 0.003423916889282246),\n",
       " ('july', 0.003414317047856422),\n",
       " ('estimated', 0.0034128930330665544),\n",
       " ('currency', 0.0034047359934476773),\n",
       " ('tariff', 0.0033482835221176634),\n",
       " ('object', 0.00328138230949948),\n",
       " ('payment', 0.003032972299615767),\n",
       " ('court', 0.0029956023536314986),\n",
       " ('france', 0.0029629057505052565),\n",
       " ('coast', 0.0029108752740657404)]"
      ]
     },
     "execution_count": 55,
     "metadata": {},
     "output_type": "execute_result"
    }
   ],
   "source": [
    "ldaseq.print_topics(time=10)[0]"
   ]
  },
  {
   "cell_type": "code",
   "execution_count": 56,
   "metadata": {},
   "outputs": [
    {
     "data": {
      "text/plain": [
       "[('americans', 0.012479050499951355),\n",
       " ('help', 0.011846903173988321),\n",
       " ('budget', 0.00966492461770334),\n",
       " ('program', 0.009551151263731334),\n",
       " ('programs', 0.0081809859027419),\n",
       " ('tonight', 0.00738698280081187),\n",
       " ('today', 0.007316061947194278),\n",
       " ('problems', 0.007087416490414305),\n",
       " ('ve', 0.006906148438046787),\n",
       " ('jobs', 0.0067618855528496676),\n",
       " ('families', 0.005654382182825731),\n",
       " ('spending', 0.0056542659281974255),\n",
       " ('percent', 0.0053817515438312966),\n",
       " ('industrial', 0.0051083469344434815),\n",
       " ('workers', 0.0050791524762180355),\n",
       " ('wage', 0.005042092904392833),\n",
       " ('problem', 0.004954950120382376),\n",
       " ('deficit', 0.004654417537920443),\n",
       " ('cut', 0.004582951503509974),\n",
       " ('crime', 0.004533188703775064)]"
      ]
     },
     "execution_count": 56,
     "metadata": {},
     "output_type": "execute_result"
    }
   ],
   "source": [
    "ldaseq.print_topics(time=0)[1]"
   ]
  },
  {
   "cell_type": "code",
   "execution_count": 57,
   "metadata": {},
   "outputs": [
    {
     "data": {
      "text/plain": [
       "[('americans', 0.015680723990409574),\n",
       " ('help', 0.013073768688239342),\n",
       " ('jobs', 0.012688256363096072),\n",
       " ('tonight', 0.01082485768878663),\n",
       " ('program', 0.010527545351492081),\n",
       " ('today', 0.010080002731011643),\n",
       " ('budget', 0.00914777494022912),\n",
       " ('ve', 0.00853168988884941),\n",
       " ('families', 0.007621037574416179),\n",
       " ('programs', 0.007018995443568517),\n",
       " ('problems', 0.0058134896139364935),\n",
       " ('percent', 0.00572474352737991),\n",
       " ('reform', 0.005549317744592074),\n",
       " ('job', 0.005360414102922477),\n",
       " ('workers', 0.005346629283709059),\n",
       " ('cut', 0.005093894282678),\n",
       " ('spending', 0.0048612446279473875),\n",
       " ('schools', 0.004786041714865811),\n",
       " ('problem', 0.0047227443523447064),\n",
       " ('hard', 0.0046753823286945955)]"
      ]
     },
     "execution_count": 57,
     "metadata": {},
     "output_type": "execute_result"
    }
   ],
   "source": [
    "ldaseq.print_topics(time=10)[1]"
   ]
  },
  {
   "cell_type": "markdown",
   "metadata": {},
   "source": [
    "We can see from the result that the topics work really well. The topics align with our previous finding using clustering methods that one topic is about domestic, epsecially economic, affiars (with words americans, help, job, budget, etc.). Another topic is about international affairs which includes words such as spain, mexico, british, tariff, ships, etc. \n",
    "\n",
    "Overtime, the topics changed a little. The general idea behind the topics remained the same. "
   ]
  },
  {
   "cell_type": "code",
   "execution_count": null,
   "metadata": {},
   "outputs": [],
   "source": []
  }
 ],
 "metadata": {
  "anaconda-cloud": {},
  "kernelspec": {
   "display_name": "Python 3 (ipykernel)",
   "language": "python",
   "name": "python3"
  },
  "language_info": {
   "codemirror_mode": {
    "name": "ipython",
    "version": 3
   },
   "file_extension": ".py",
   "mimetype": "text/x-python",
   "name": "python",
   "nbconvert_exporter": "python",
   "pygments_lexer": "ipython3",
   "version": "3.7.11"
  }
 },
 "nbformat": 4,
 "nbformat_minor": 1
}
